{
 "cells": [
  {
   "cell_type": "code",
   "execution_count": 1,
   "id": "84e4e3c8",
   "metadata": {},
   "outputs": [],
   "source": [
    "# Import our dependencies\n",
    "import os \n",
    "import datetime\n",
    "from sklearn.model_selection import train_test_split\n",
    "from sklearn.preprocessing import StandardScaler,OneHotEncoder\n",
    "from sklearn.preprocessing import MinMaxScaler, LabelEncoder\n",
    "from matplotlib import pyplot as plt\n",
    "import pandas as pd\n",
    "from sklearn.cluster import KMeans\n",
    "import numpy as np\n",
    "import tensorflow as tf"
   ]
  },
  {
   "cell_type": "markdown",
   "id": "e78106dc",
   "metadata": {},
   "source": [
    "### Preprocessing Data "
   ]
  },
  {
   "cell_type": "code",
   "execution_count": 2,
   "id": "dd9d863f",
   "metadata": {},
   "outputs": [
    {
     "data": {
      "text/html": [
       "<div>\n",
       "<style scoped>\n",
       "    .dataframe tbody tr th:only-of-type {\n",
       "        vertical-align: middle;\n",
       "    }\n",
       "\n",
       "    .dataframe tbody tr th {\n",
       "        vertical-align: top;\n",
       "    }\n",
       "\n",
       "    .dataframe thead th {\n",
       "        text-align: right;\n",
       "    }\n",
       "</style>\n",
       "<table border=\"1\" class=\"dataframe\">\n",
       "  <thead>\n",
       "    <tr style=\"text-align: right;\">\n",
       "      <th></th>\n",
       "      <th>Company</th>\n",
       "      <th>Valuation ($B)</th>\n",
       "      <th>Date Joined</th>\n",
       "      <th>Country</th>\n",
       "      <th>City</th>\n",
       "      <th>Industry</th>\n",
       "      <th>Select Inverstors</th>\n",
       "      <th>Founded Year</th>\n",
       "      <th>Total Raised</th>\n",
       "      <th>Financial Stage</th>\n",
       "      <th>Investors Count</th>\n",
       "      <th>Deal Terms</th>\n",
       "    </tr>\n",
       "  </thead>\n",
       "  <tbody>\n",
       "    <tr>\n",
       "      <th>0</th>\n",
       "      <td>Bytedance</td>\n",
       "      <td>$140</td>\n",
       "      <td>4/7/2017</td>\n",
       "      <td>China</td>\n",
       "      <td>Beijing</td>\n",
       "      <td>Artificial intelligence</td>\n",
       "      <td>Sequoia Capital China, SIG Asia Investments, S...</td>\n",
       "      <td>2012</td>\n",
       "      <td>$7.44B</td>\n",
       "      <td>IPO</td>\n",
       "      <td>28</td>\n",
       "      <td>8</td>\n",
       "    </tr>\n",
       "    <tr>\n",
       "      <th>1</th>\n",
       "      <td>SpaceX</td>\n",
       "      <td>$100.3</td>\n",
       "      <td>12/1/2012</td>\n",
       "      <td>United States</td>\n",
       "      <td>Hawthorne</td>\n",
       "      <td>Other</td>\n",
       "      <td>Founders Fund, Draper Fisher Jurvetson, Rothen...</td>\n",
       "      <td>2002</td>\n",
       "      <td>$6.874B</td>\n",
       "      <td>None</td>\n",
       "      <td>29</td>\n",
       "      <td>12</td>\n",
       "    </tr>\n",
       "    <tr>\n",
       "      <th>2</th>\n",
       "      <td>Stripe</td>\n",
       "      <td>$95</td>\n",
       "      <td>1/23/2014</td>\n",
       "      <td>United States</td>\n",
       "      <td>San Francisco</td>\n",
       "      <td>Fintech</td>\n",
       "      <td>Khosla Ventures, LowercaseCapital, capitalG</td>\n",
       "      <td>2010</td>\n",
       "      <td>$2.901B</td>\n",
       "      <td>Asset</td>\n",
       "      <td>39</td>\n",
       "      <td>12</td>\n",
       "    </tr>\n",
       "    <tr>\n",
       "      <th>3</th>\n",
       "      <td>Klarna</td>\n",
       "      <td>$45.6</td>\n",
       "      <td>12/12/2011</td>\n",
       "      <td>Sweden</td>\n",
       "      <td>Stockholm</td>\n",
       "      <td>Fintech</td>\n",
       "      <td>Institutional Venture Partners, Sequoia Capita...</td>\n",
       "      <td>2005</td>\n",
       "      <td>$3.472B</td>\n",
       "      <td>Acquired</td>\n",
       "      <td>56</td>\n",
       "      <td>13</td>\n",
       "    </tr>\n",
       "    <tr>\n",
       "      <th>4</th>\n",
       "      <td>Epic Games</td>\n",
       "      <td>$42</td>\n",
       "      <td>10/26/2018</td>\n",
       "      <td>United States</td>\n",
       "      <td>Cary</td>\n",
       "      <td>Other</td>\n",
       "      <td>Tencent Holdings, KKR, Smash Ventures</td>\n",
       "      <td>1991</td>\n",
       "      <td>$4.377B</td>\n",
       "      <td>Acquired</td>\n",
       "      <td>25</td>\n",
       "      <td>5</td>\n",
       "    </tr>\n",
       "  </tbody>\n",
       "</table>\n",
       "</div>"
      ],
      "text/plain": [
       "      Company Valuation ($B) Date Joined        Country           City  \\\n",
       "0   Bytedance           $140    4/7/2017          China        Beijing   \n",
       "1      SpaceX         $100.3   12/1/2012  United States      Hawthorne   \n",
       "2      Stripe            $95   1/23/2014  United States  San Francisco   \n",
       "3      Klarna          $45.6  12/12/2011         Sweden      Stockholm   \n",
       "4  Epic Games            $42  10/26/2018  United States           Cary   \n",
       "\n",
       "                  Industry                                  Select Inverstors  \\\n",
       "0  Artificial intelligence  Sequoia Capital China, SIG Asia Investments, S...   \n",
       "1                    Other  Founders Fund, Draper Fisher Jurvetson, Rothen...   \n",
       "2                  Fintech        Khosla Ventures, LowercaseCapital, capitalG   \n",
       "3                  Fintech  Institutional Venture Partners, Sequoia Capita...   \n",
       "4                    Other              Tencent Holdings, KKR, Smash Ventures   \n",
       "\n",
       "  Founded Year Total Raised Financial Stage Investors Count Deal Terms  \n",
       "0         2012       $7.44B             IPO              28          8  \n",
       "1         2002      $6.874B            None              29         12  \n",
       "2         2010      $2.901B           Asset              39         12  \n",
       "3         2005      $3.472B        Acquired              56         13  \n",
       "4         1991      $4.377B        Acquired              25          5  "
      ]
     },
     "execution_count": 2,
     "metadata": {},
     "output_type": "execute_result"
    }
   ],
   "source": [
    "#Import the dataset \n",
    "companies_df = pd.read_csv('Unicorn_companies.csv')\n",
    "new_companies_df = companies_df.drop(['Portfolio Exits'],axis = 1)\n",
    "new_companies_df.head()"
   ]
  },
  {
   "cell_type": "code",
   "execution_count": 3,
   "id": "4ff2b465",
   "metadata": {},
   "outputs": [
    {
     "name": "stderr",
     "output_type": "stream",
     "text": [
      "/Users/Biggaharry/opt/anaconda3/envs/mlenv/lib/python3.7/site-packages/ipykernel_launcher.py:2: FutureWarning: The default value of regex will change from True to False in a future version. In addition, single character regular expressions will *not* be treated as literal strings when regex=True.\n",
      "  \n"
     ]
    },
    {
     "data": {
      "text/plain": [
       "None           988\n",
       "Acquired        22\n",
       "Divestiture      8\n",
       "IPO              7\n",
       "Acq              7\n",
       "Asset            1\n",
       "Take             1\n",
       "Management       1\n",
       "Reverse          1\n",
       "Corporate        1\n",
       "Name: Financial Stage, dtype: int64"
      ]
     },
     "execution_count": 3,
     "metadata": {},
     "output_type": "execute_result"
    }
   ],
   "source": [
    "# Convert Valuation column to float\n",
    "new_companies_df['Valuation ($B)']= new_companies_df['Valuation ($B)'].str.replace('$','')\n",
    "new_companies_df['Valuation ($B)'] = new_companies_df['Valuation ($B)'].astype(float)\n",
    "new_companies_df['Financial Stage'].value_counts()\n"
   ]
  },
  {
   "cell_type": "code",
   "execution_count": 4,
   "id": "a3017527",
   "metadata": {},
   "outputs": [
    {
     "name": "stderr",
     "output_type": "stream",
     "text": [
      "/Users/Biggaharry/opt/anaconda3/envs/mlenv/lib/python3.7/site-packages/ipykernel_launcher.py:4: FutureWarning: The default value of regex will change from True to False in a future version. In addition, single character regular expressions will *not* be treated as literal strings when regex=True.\n",
      "  after removing the cwd from sys.path.\n"
     ]
    },
    {
     "data": {
      "text/html": [
       "<div>\n",
       "<style scoped>\n",
       "    .dataframe tbody tr th:only-of-type {\n",
       "        vertical-align: middle;\n",
       "    }\n",
       "\n",
       "    .dataframe tbody tr th {\n",
       "        vertical-align: top;\n",
       "    }\n",
       "\n",
       "    .dataframe thead th {\n",
       "        text-align: right;\n",
       "    }\n",
       "</style>\n",
       "<table border=\"1\" class=\"dataframe\">\n",
       "  <thead>\n",
       "    <tr style=\"text-align: right;\">\n",
       "      <th></th>\n",
       "      <th>Company</th>\n",
       "      <th>Valuation ($B)</th>\n",
       "      <th>Date Joined</th>\n",
       "      <th>Country</th>\n",
       "      <th>City</th>\n",
       "      <th>Industry</th>\n",
       "      <th>Select Inverstors</th>\n",
       "      <th>Founded Year</th>\n",
       "      <th>Total Raised</th>\n",
       "      <th>Financial Stage</th>\n",
       "      <th>Investors Count</th>\n",
       "      <th>Deal Terms</th>\n",
       "      <th>Total Raised($)</th>\n",
       "    </tr>\n",
       "  </thead>\n",
       "  <tbody>\n",
       "    <tr>\n",
       "      <th>0</th>\n",
       "      <td>Bytedance</td>\n",
       "      <td>140.0</td>\n",
       "      <td>4/7/2017</td>\n",
       "      <td>China</td>\n",
       "      <td>Beijing</td>\n",
       "      <td>Artificial intelligence</td>\n",
       "      <td>Sequoia Capital China, SIG Asia Investments, S...</td>\n",
       "      <td>2012</td>\n",
       "      <td>7.44B</td>\n",
       "      <td>IPO</td>\n",
       "      <td>28</td>\n",
       "      <td>8</td>\n",
       "      <td>7.440000e+09</td>\n",
       "    </tr>\n",
       "    <tr>\n",
       "      <th>1</th>\n",
       "      <td>SpaceX</td>\n",
       "      <td>100.3</td>\n",
       "      <td>12/1/2012</td>\n",
       "      <td>United States</td>\n",
       "      <td>Hawthorne</td>\n",
       "      <td>Other</td>\n",
       "      <td>Founders Fund, Draper Fisher Jurvetson, Rothen...</td>\n",
       "      <td>2002</td>\n",
       "      <td>6.874B</td>\n",
       "      <td>None</td>\n",
       "      <td>29</td>\n",
       "      <td>12</td>\n",
       "      <td>6.874000e+09</td>\n",
       "    </tr>\n",
       "    <tr>\n",
       "      <th>2</th>\n",
       "      <td>Stripe</td>\n",
       "      <td>95.0</td>\n",
       "      <td>1/23/2014</td>\n",
       "      <td>United States</td>\n",
       "      <td>San Francisco</td>\n",
       "      <td>Fintech</td>\n",
       "      <td>Khosla Ventures, LowercaseCapital, capitalG</td>\n",
       "      <td>2010</td>\n",
       "      <td>2.901B</td>\n",
       "      <td>Asset</td>\n",
       "      <td>39</td>\n",
       "      <td>12</td>\n",
       "      <td>2.901000e+09</td>\n",
       "    </tr>\n",
       "    <tr>\n",
       "      <th>3</th>\n",
       "      <td>Klarna</td>\n",
       "      <td>45.6</td>\n",
       "      <td>12/12/2011</td>\n",
       "      <td>Sweden</td>\n",
       "      <td>Stockholm</td>\n",
       "      <td>Fintech</td>\n",
       "      <td>Institutional Venture Partners, Sequoia Capita...</td>\n",
       "      <td>2005</td>\n",
       "      <td>3.472B</td>\n",
       "      <td>Acquired</td>\n",
       "      <td>56</td>\n",
       "      <td>13</td>\n",
       "      <td>3.472000e+09</td>\n",
       "    </tr>\n",
       "    <tr>\n",
       "      <th>4</th>\n",
       "      <td>Epic Games</td>\n",
       "      <td>42.0</td>\n",
       "      <td>10/26/2018</td>\n",
       "      <td>United States</td>\n",
       "      <td>Cary</td>\n",
       "      <td>Other</td>\n",
       "      <td>Tencent Holdings, KKR, Smash Ventures</td>\n",
       "      <td>1991</td>\n",
       "      <td>4.377B</td>\n",
       "      <td>Acquired</td>\n",
       "      <td>25</td>\n",
       "      <td>5</td>\n",
       "      <td>4.377000e+09</td>\n",
       "    </tr>\n",
       "  </tbody>\n",
       "</table>\n",
       "</div>"
      ],
      "text/plain": [
       "      Company  Valuation ($B) Date Joined        Country           City  \\\n",
       "0   Bytedance           140.0    4/7/2017          China        Beijing   \n",
       "1      SpaceX           100.3   12/1/2012  United States      Hawthorne   \n",
       "2      Stripe            95.0   1/23/2014  United States  San Francisco   \n",
       "3      Klarna            45.6  12/12/2011         Sweden      Stockholm   \n",
       "4  Epic Games            42.0  10/26/2018  United States           Cary   \n",
       "\n",
       "                  Industry                                  Select Inverstors  \\\n",
       "0  Artificial intelligence  Sequoia Capital China, SIG Asia Investments, S...   \n",
       "1                    Other  Founders Fund, Draper Fisher Jurvetson, Rothen...   \n",
       "2                  Fintech        Khosla Ventures, LowercaseCapital, capitalG   \n",
       "3                  Fintech  Institutional Venture Partners, Sequoia Capita...   \n",
       "4                    Other              Tencent Holdings, KKR, Smash Ventures   \n",
       "\n",
       "  Founded Year Total Raised Financial Stage Investors Count Deal Terms  \\\n",
       "0         2012        7.44B             IPO              28          8   \n",
       "1         2002       6.874B            None              29         12   \n",
       "2         2010       2.901B           Asset              39         12   \n",
       "3         2005       3.472B        Acquired              56         13   \n",
       "4         1991       4.377B        Acquired              25          5   \n",
       "\n",
       "   Total Raised($)  \n",
       "0     7.440000e+09  \n",
       "1     6.874000e+09  \n",
       "2     2.901000e+09  \n",
       "3     3.472000e+09  \n",
       "4     4.377000e+09  "
      ]
     },
     "execution_count": 4,
     "metadata": {},
     "output_type": "execute_result"
    }
   ],
   "source": [
    "\n",
    "\n",
    "#Convert Total Raised column to float\n",
    "#Credit to https://stackoverflow.com/questions/71543484/kernel-dies-when-processing-dataframe\n",
    "\n",
    "new_companies_df['Total Raised']= new_companies_df['Total Raised'].str.replace('$','')\n",
    "\n",
    "def replace(x):\n",
    "  val_dict = {\"M\": 1000000, \"B\": 1000000000,'K':1000,'None': 0}\n",
    "\n",
    "  for key in val_dict:\n",
    "    if key in x:\n",
    "      value = float(x.replace(key, \"0\")) #float successful after replacing 'B'with '0'\n",
    "      multiplier = float(val_dict[key])\n",
    "      return value * multiplier\n",
    "\n",
    "new_companies_df['Total Raised($)']  = new_companies_df['Total Raised'].apply(replace)\n",
    "new_companies_df.head()"
   ]
  },
  {
   "cell_type": "code",
   "execution_count": 5,
   "id": "0e911b14",
   "metadata": {},
   "outputs": [
    {
     "data": {
      "text/plain": [
       "dtype('float64')"
      ]
     },
     "execution_count": 5,
     "metadata": {},
     "output_type": "execute_result"
    }
   ],
   "source": [
    "#Drop old Total Raised col\n",
    "new_companies_df = new_companies_df.drop(['Total Raised'],axis=1)\n",
    "val_counts = new_companies_df['Total Raised($)']\n",
    "val_counts.dtype"
   ]
  },
  {
   "cell_type": "code",
   "execution_count": 6,
   "id": "25e126e8",
   "metadata": {},
   "outputs": [
    {
     "data": {
      "text/plain": [
       "1000001-1000000000          650\n",
       "1000000001-1000000000000    362\n",
       "1001-1000000                  1\n",
       "<1000                         0\n",
       "Name: Total Raised Ranges($), dtype: int64"
      ]
     },
     "execution_count": 6,
     "metadata": {},
     "output_type": "execute_result"
    }
   ],
   "source": [
    "#Bin Total Raised($)\n",
    "invested_bins = [0,1000,1000000,1000000000,1000000000000]\n",
    "val_counts.groupby(pd.cut(val_counts,invested_bins)).count()\n",
    "\n",
    "invested_groups = ['<1000','1001-1000000','1000001-1000000000','1000000001-1000000000000']\n",
    "new_companies_df['Total Raised Ranges($)'] = pd.cut(val_counts,invested_bins, labels=invested_groups)\n",
    "new_companies_df['Total Raised Ranges($)'].value_counts()"
   ]
  },
  {
   "cell_type": "code",
   "execution_count": 7,
   "id": "20235a61",
   "metadata": {},
   "outputs": [
    {
     "data": {
      "text/html": [
       "<div>\n",
       "<style scoped>\n",
       "    .dataframe tbody tr th:only-of-type {\n",
       "        vertical-align: middle;\n",
       "    }\n",
       "\n",
       "    .dataframe tbody tr th {\n",
       "        vertical-align: top;\n",
       "    }\n",
       "\n",
       "    .dataframe thead th {\n",
       "        text-align: right;\n",
       "    }\n",
       "</style>\n",
       "<table border=\"1\" class=\"dataframe\">\n",
       "  <thead>\n",
       "    <tr style=\"text-align: right;\">\n",
       "      <th></th>\n",
       "      <th>Company</th>\n",
       "      <th>Valuation ($B)</th>\n",
       "      <th>Year Joined</th>\n",
       "      <th>Country</th>\n",
       "      <th>City</th>\n",
       "      <th>Industry</th>\n",
       "      <th>Select Inverstors</th>\n",
       "      <th>Founded Year</th>\n",
       "      <th>Financial Stage</th>\n",
       "      <th>Investors Count</th>\n",
       "      <th>Deal Terms</th>\n",
       "      <th>Total Raised($)</th>\n",
       "      <th>Total Raised Ranges($)</th>\n",
       "    </tr>\n",
       "  </thead>\n",
       "  <tbody>\n",
       "    <tr>\n",
       "      <th>0</th>\n",
       "      <td>Bytedance</td>\n",
       "      <td>140.0</td>\n",
       "      <td>2017</td>\n",
       "      <td>China</td>\n",
       "      <td>Beijing</td>\n",
       "      <td>Artificial intelligence</td>\n",
       "      <td>Sequoia Capital China, SIG Asia Investments, S...</td>\n",
       "      <td>2012</td>\n",
       "      <td>IPO</td>\n",
       "      <td>28</td>\n",
       "      <td>8</td>\n",
       "      <td>7.440000e+09</td>\n",
       "      <td>1000000001-1000000000000</td>\n",
       "    </tr>\n",
       "    <tr>\n",
       "      <th>1</th>\n",
       "      <td>SpaceX</td>\n",
       "      <td>100.3</td>\n",
       "      <td>2012</td>\n",
       "      <td>United States</td>\n",
       "      <td>Hawthorne</td>\n",
       "      <td>Other</td>\n",
       "      <td>Founders Fund, Draper Fisher Jurvetson, Rothen...</td>\n",
       "      <td>2002</td>\n",
       "      <td>None</td>\n",
       "      <td>29</td>\n",
       "      <td>12</td>\n",
       "      <td>6.874000e+09</td>\n",
       "      <td>1000000001-1000000000000</td>\n",
       "    </tr>\n",
       "    <tr>\n",
       "      <th>2</th>\n",
       "      <td>Stripe</td>\n",
       "      <td>95.0</td>\n",
       "      <td>2014</td>\n",
       "      <td>United States</td>\n",
       "      <td>San Francisco</td>\n",
       "      <td>Fintech</td>\n",
       "      <td>Khosla Ventures, LowercaseCapital, capitalG</td>\n",
       "      <td>2010</td>\n",
       "      <td>Asset</td>\n",
       "      <td>39</td>\n",
       "      <td>12</td>\n",
       "      <td>2.901000e+09</td>\n",
       "      <td>1000000001-1000000000000</td>\n",
       "    </tr>\n",
       "    <tr>\n",
       "      <th>3</th>\n",
       "      <td>Klarna</td>\n",
       "      <td>45.6</td>\n",
       "      <td>2011</td>\n",
       "      <td>Sweden</td>\n",
       "      <td>Stockholm</td>\n",
       "      <td>Fintech</td>\n",
       "      <td>Institutional Venture Partners, Sequoia Capita...</td>\n",
       "      <td>2005</td>\n",
       "      <td>Acquired</td>\n",
       "      <td>56</td>\n",
       "      <td>13</td>\n",
       "      <td>3.472000e+09</td>\n",
       "      <td>1000000001-1000000000000</td>\n",
       "    </tr>\n",
       "    <tr>\n",
       "      <th>4</th>\n",
       "      <td>Epic Games</td>\n",
       "      <td>42.0</td>\n",
       "      <td>2018</td>\n",
       "      <td>United States</td>\n",
       "      <td>Cary</td>\n",
       "      <td>Other</td>\n",
       "      <td>Tencent Holdings, KKR, Smash Ventures</td>\n",
       "      <td>1991</td>\n",
       "      <td>Acquired</td>\n",
       "      <td>25</td>\n",
       "      <td>5</td>\n",
       "      <td>4.377000e+09</td>\n",
       "      <td>1000000001-1000000000000</td>\n",
       "    </tr>\n",
       "  </tbody>\n",
       "</table>\n",
       "</div>"
      ],
      "text/plain": [
       "      Company  Valuation ($B) Year Joined        Country           City  \\\n",
       "0   Bytedance           140.0        2017          China        Beijing   \n",
       "1      SpaceX           100.3        2012  United States      Hawthorne   \n",
       "2      Stripe            95.0        2014  United States  San Francisco   \n",
       "3      Klarna            45.6        2011         Sweden      Stockholm   \n",
       "4  Epic Games            42.0        2018  United States           Cary   \n",
       "\n",
       "                  Industry                                  Select Inverstors  \\\n",
       "0  Artificial intelligence  Sequoia Capital China, SIG Asia Investments, S...   \n",
       "1                    Other  Founders Fund, Draper Fisher Jurvetson, Rothen...   \n",
       "2                  Fintech        Khosla Ventures, LowercaseCapital, capitalG   \n",
       "3                  Fintech  Institutional Venture Partners, Sequoia Capita...   \n",
       "4                    Other              Tencent Holdings, KKR, Smash Ventures   \n",
       "\n",
       "  Founded Year Financial Stage Investors Count Deal Terms  Total Raised($)  \\\n",
       "0         2012             IPO              28          8     7.440000e+09   \n",
       "1         2002            None              29         12     6.874000e+09   \n",
       "2         2010           Asset              39         12     2.901000e+09   \n",
       "3         2005        Acquired              56         13     3.472000e+09   \n",
       "4         1991        Acquired              25          5     4.377000e+09   \n",
       "\n",
       "     Total Raised Ranges($)  \n",
       "0  1000000001-1000000000000  \n",
       "1  1000000001-1000000000000  \n",
       "2  1000000001-1000000000000  \n",
       "3  1000000001-1000000000000  \n",
       "4  1000000001-1000000000000  "
      ]
     },
     "execution_count": 7,
     "metadata": {},
     "output_type": "execute_result"
    }
   ],
   "source": [
    "#Change Date joined to Year and rename column\n",
    "# new_companies_df['Date Joined'] = pd.to_datetime(new_companies_df['Date Joined']).dt.to_period('y')\n",
    "new_companies_df['Date Joined'] = pd.to_datetime(new_companies_df['Date Joined'],infer_datetime_format=True).dt.strftime(\"%Y\")\n",
    "new_companies_df.rename(columns={'Date Joined':'Year Joined'},inplace=True)\n",
    "new_companies_df.head()"
   ]
  },
  {
   "cell_type": "code",
   "execution_count": 8,
   "id": "cc6a24b4",
   "metadata": {},
   "outputs": [],
   "source": [
    "new_companies_df = new_companies_df[new_companies_df['Founded Year'] !='None']\n",
    "new_companies_df['Founded Year'].value_counts()\n",
    "new_companies_df['Transition Time']= new_companies_df['Year Joined'].astype(int) - new_companies_df['Founded Year'].astype(int)\n",
    "new_companies_df.head()\n",
    "new_companies_df.to_csv('Unsupervised_dataset.csv', index = False)"
   ]
  },
  {
   "cell_type": "markdown",
   "id": "8d0876a6",
   "metadata": {},
   "source": [
    "### ML model testing "
   ]
  },
  {
   "cell_type": "code",
   "execution_count": 9,
   "id": "ed6a6540",
   "metadata": {},
   "outputs": [
    {
     "data": {
      "text/plain": [
       "United States           517\n",
       "China                   155\n",
       "India                    61\n",
       "United Kingdom           40\n",
       "Germany                  24\n",
       "France                   23\n",
       "Israel                   20\n",
       "Canada                   18\n",
       "Brazil                   15\n",
       "South Korea              11\n",
       "Singapore                11\n",
       "Indonesia                 7\n",
       "Japan                     6\n",
       "Netherlands               6\n",
       "Mexico                    6\n",
       "Hong Kong                 6\n",
       "Australia                 6\n",
       "Sweden                    6\n",
       "Ireland                   5\n",
       "Norway                    4\n",
       "Switzerland               4\n",
       "Turkey                    3\n",
       "Spain                     3\n",
       "Finland                   3\n",
       "Belgium                   3\n",
       "United Arab Emirates      3\n",
       "Chile                     2\n",
       "South Africa              2\n",
       "Thailand                  2\n",
       "Philippines               2\n",
       "Denmark                   2\n",
       "Vietnam                   2\n",
       "Austria                   2\n",
       "Colombia                  2\n",
       "Estonia                   2\n",
       "Argentina                 1\n",
       "Luxembourg                1\n",
       "Nigeria                   1\n",
       "Malaysia                  1\n",
       "Bermuda                   1\n",
       "Lithuania                 1\n",
       "Bahamas                   1\n",
       "Czech Republic            1\n",
       "Croatia                   1\n",
       "Italy                     1\n",
       "Name: Country, dtype: int64"
      ]
     },
     "execution_count": 9,
     "metadata": {},
     "output_type": "execute_result"
    }
   ],
   "source": [
    "country_counts=new_companies_df['Country'].value_counts()\n",
    "country_counts"
   ]
  },
  {
   "cell_type": "code",
   "execution_count": 10,
   "id": "b0099745",
   "metadata": {},
   "outputs": [
    {
     "data": {
      "text/plain": [
       "<AxesSubplot:ylabel='Density'>"
      ]
     },
     "execution_count": 10,
     "metadata": {},
     "output_type": "execute_result"
    },
    {
     "data": {
      "image/png": "[encoded data removed]",
      "text/plain": [
       "<Figure size 432x288 with 1 Axes>"
      ]
     },
     "metadata": {
      "needs_background": "light"
     },
     "output_type": "display_data"
    }
   ],
   "source": [
    "country_counts.plot.density()"
   ]
  },
  {
   "cell_type": "code",
   "execution_count": 11,
   "id": "5caea3d1",
   "metadata": {},
   "outputs": [
    {
     "data": {
      "text/plain": [
       "United States    517\n",
       "Other            322\n",
       "China            155\n",
       "Name: Country, dtype: int64"
      ]
     },
     "execution_count": 11,
     "metadata": {},
     "output_type": "execute_result"
    }
   ],
   "source": [
    "#Replace countries with 'Other'\n",
    "replace_stage = list(country_counts[country_counts <= 100].index)\n",
    "\n",
    "#Replace in df\n",
    "for values in replace_stage:\n",
    "    new_companies_df['Country']=new_companies_df['Country'].replace(values, \"Other\")\n",
    "    \n",
    "#Verify binning was successful \n",
    "new_companies_df[\"Country\"].value_counts()"
   ]
  },
  {
   "cell_type": "code",
   "execution_count": 12,
   "id": "ef6a5e1d",
   "metadata": {},
   "outputs": [
    {
     "data": {
      "text/html": [
       "<div>\n",
       "<style scoped>\n",
       "    .dataframe tbody tr th:only-of-type {\n",
       "        vertical-align: middle;\n",
       "    }\n",
       "\n",
       "    .dataframe tbody tr th {\n",
       "        vertical-align: top;\n",
       "    }\n",
       "\n",
       "    .dataframe thead th {\n",
       "        text-align: right;\n",
       "    }\n",
       "</style>\n",
       "<table border=\"1\" class=\"dataframe\">\n",
       "  <thead>\n",
       "    <tr style=\"text-align: right;\">\n",
       "      <th></th>\n",
       "      <th>Industry</th>\n",
       "      <th>Total Raised($)</th>\n",
       "      <th>Transition Time</th>\n",
       "      <th>Country</th>\n",
       "    </tr>\n",
       "  </thead>\n",
       "  <tbody>\n",
       "    <tr>\n",
       "      <th>0</th>\n",
       "      <td>3</td>\n",
       "      <td>7.440000e+09</td>\n",
       "      <td>5</td>\n",
       "      <td>0</td>\n",
       "    </tr>\n",
       "    <tr>\n",
       "      <th>1</th>\n",
       "      <td>21</td>\n",
       "      <td>6.874000e+09</td>\n",
       "      <td>10</td>\n",
       "      <td>2</td>\n",
       "    </tr>\n",
       "    <tr>\n",
       "      <th>2</th>\n",
       "      <td>11</td>\n",
       "      <td>2.901000e+09</td>\n",
       "      <td>4</td>\n",
       "      <td>2</td>\n",
       "    </tr>\n",
       "    <tr>\n",
       "      <th>3</th>\n",
       "      <td>11</td>\n",
       "      <td>3.472000e+09</td>\n",
       "      <td>6</td>\n",
       "      <td>1</td>\n",
       "    </tr>\n",
       "    <tr>\n",
       "      <th>4</th>\n",
       "      <td>21</td>\n",
       "      <td>4.377000e+09</td>\n",
       "      <td>27</td>\n",
       "      <td>2</td>\n",
       "    </tr>\n",
       "  </tbody>\n",
       "</table>\n",
       "</div>"
      ],
      "text/plain": [
       "   Industry  Total Raised($)  Transition Time  Country\n",
       "0         3     7.440000e+09                5        0\n",
       "1        21     6.874000e+09               10        2\n",
       "2        11     2.901000e+09                4        2\n",
       "3        11     3.472000e+09                6        1\n",
       "4        21     4.377000e+09               27        2"
      ]
     },
     "execution_count": 12,
     "metadata": {},
     "output_type": "execute_result"
    }
   ],
   "source": [
    "#Select columns to evaluate\n",
    "\n",
    "X = new_companies_df[['Industry','Total Raised($)', 'Transition Time', 'Country']].copy()\n",
    "X['Industry'] = LabelEncoder().fit_transform(X['Industry'])\n",
    "X['Country'] = LabelEncoder().fit_transform(X['Country'])\n",
    "X = X.dropna()\n",
    "X.head()"
   ]
  },
  {
   "cell_type": "code",
   "execution_count": 13,
   "id": "caa6af5a",
   "metadata": {},
   "outputs": [
    {
     "data": {
      "text/plain": [
       "array([[0.09677419, 0.75151515, 0.08823529, 0.        ],\n",
       "       [0.67741935, 0.69434343, 0.1372549 , 1.        ],\n",
       "       [0.35483871, 0.2930303 , 0.07843137, 1.        ],\n",
       "       ...,\n",
       "       [0.4516129 , 0.04542626, 0.14705882, 1.        ],\n",
       "       [0.22580645, 0.05308081, 0.08823529, 1.        ],\n",
       "       [0.51612903, 0.06106061, 0.17647059, 1.        ]])"
      ]
     },
     "execution_count": 13,
     "metadata": {},
     "output_type": "execute_result"
    }
   ],
   "source": [
    "# Scale the dataset using MinMaxScaler()\n",
    "X_scaled = MinMaxScaler().fit_transform(X)\n",
    "X_scaled"
   ]
  },
  {
   "cell_type": "code",
   "execution_count": 14,
   "id": "f642ba33",
   "metadata": {},
   "outputs": [
    {
     "data": {
      "image/png": "[encoded data removed]",
      "text/plain": [
       "<Figure size 432x288 with 1 Axes>"
      ]
     },
     "metadata": {
      "needs_background": "light"
     },
     "output_type": "display_data"
    }
   ],
   "source": [
    "sse = {}\n",
    "K = range(1, 10)\n",
    "for k in K:\n",
    "    kmeanmodel = KMeans(n_clusters=k).fit(X_scaled)\n",
    "    sse[k]= kmeanmodel.inertia_\n",
    "    \n",
    "# Plot\n",
    "plt.plot(list(sse.keys()), list(sse.values()))\n",
    "plt.xlabel('k')\n",
    "plt.ylabel('SSE')\n",
    "plt.title('Elbow Method')\n",
    "plt.show()"
   ]
  },
  {
   "cell_type": "code",
   "execution_count": 15,
   "id": "6b4cf049",
   "metadata": {},
   "outputs": [],
   "source": [
    "# Create a KMeans model with 3 clusters\n",
    "model = KMeans(n_clusters=3, random_state=42).fit(X_scaled)"
   ]
  },
  {
   "cell_type": "code",
   "execution_count": 16,
   "id": "f724c976",
   "metadata": {},
   "outputs": [],
   "source": [
    "# Calculate predicted values.\n",
    "y_pred = model.predict(X_scaled)"
   ]
  },
  {
   "cell_type": "code",
   "execution_count": 17,
   "id": "f9315388",
   "metadata": {},
   "outputs": [
    {
     "data": {
      "text/html": [
       "<div>\n",
       "<style scoped>\n",
       "    .dataframe tbody tr th:only-of-type {\n",
       "        vertical-align: middle;\n",
       "    }\n",
       "\n",
       "    .dataframe tbody tr th {\n",
       "        vertical-align: top;\n",
       "    }\n",
       "\n",
       "    .dataframe thead th {\n",
       "        text-align: right;\n",
       "    }\n",
       "</style>\n",
       "<table border=\"1\" class=\"dataframe\">\n",
       "  <thead>\n",
       "    <tr style=\"text-align: right;\">\n",
       "      <th></th>\n",
       "      <th>Company</th>\n",
       "      <th>Valuation ($B)</th>\n",
       "      <th>Year Joined</th>\n",
       "      <th>Country</th>\n",
       "      <th>City</th>\n",
       "      <th>Industry</th>\n",
       "      <th>Select Inverstors</th>\n",
       "      <th>Founded Year</th>\n",
       "      <th>Financial Stage</th>\n",
       "      <th>Investors Count</th>\n",
       "      <th>Deal Terms</th>\n",
       "      <th>Total Raised($)</th>\n",
       "      <th>Total Raised Ranges($)</th>\n",
       "      <th>Transition Time</th>\n",
       "      <th>Cluster</th>\n",
       "    </tr>\n",
       "  </thead>\n",
       "  <tbody>\n",
       "    <tr>\n",
       "      <th>0</th>\n",
       "      <td>Bytedance</td>\n",
       "      <td>140.0</td>\n",
       "      <td>2017</td>\n",
       "      <td>China</td>\n",
       "      <td>Beijing</td>\n",
       "      <td>Artificial intelligence</td>\n",
       "      <td>Sequoia Capital China, SIG Asia Investments, S...</td>\n",
       "      <td>2012</td>\n",
       "      <td>IPO</td>\n",
       "      <td>28</td>\n",
       "      <td>8</td>\n",
       "      <td>7.440000e+09</td>\n",
       "      <td>1000000001-1000000000000</td>\n",
       "      <td>5</td>\n",
       "      <td>0</td>\n",
       "    </tr>\n",
       "    <tr>\n",
       "      <th>1</th>\n",
       "      <td>SpaceX</td>\n",
       "      <td>100.3</td>\n",
       "      <td>2012</td>\n",
       "      <td>United States</td>\n",
       "      <td>Hawthorne</td>\n",
       "      <td>Other</td>\n",
       "      <td>Founders Fund, Draper Fisher Jurvetson, Rothen...</td>\n",
       "      <td>2002</td>\n",
       "      <td>None</td>\n",
       "      <td>29</td>\n",
       "      <td>12</td>\n",
       "      <td>6.874000e+09</td>\n",
       "      <td>1000000001-1000000000000</td>\n",
       "      <td>10</td>\n",
       "      <td>1</td>\n",
       "    </tr>\n",
       "    <tr>\n",
       "      <th>2</th>\n",
       "      <td>Stripe</td>\n",
       "      <td>95.0</td>\n",
       "      <td>2014</td>\n",
       "      <td>United States</td>\n",
       "      <td>San Francisco</td>\n",
       "      <td>Fintech</td>\n",
       "      <td>Khosla Ventures, LowercaseCapital, capitalG</td>\n",
       "      <td>2010</td>\n",
       "      <td>Asset</td>\n",
       "      <td>39</td>\n",
       "      <td>12</td>\n",
       "      <td>2.901000e+09</td>\n",
       "      <td>1000000001-1000000000000</td>\n",
       "      <td>4</td>\n",
       "      <td>1</td>\n",
       "    </tr>\n",
       "    <tr>\n",
       "      <th>3</th>\n",
       "      <td>Klarna</td>\n",
       "      <td>45.6</td>\n",
       "      <td>2011</td>\n",
       "      <td>Other</td>\n",
       "      <td>Stockholm</td>\n",
       "      <td>Fintech</td>\n",
       "      <td>Institutional Venture Partners, Sequoia Capita...</td>\n",
       "      <td>2005</td>\n",
       "      <td>Acquired</td>\n",
       "      <td>56</td>\n",
       "      <td>13</td>\n",
       "      <td>3.472000e+09</td>\n",
       "      <td>1000000001-1000000000000</td>\n",
       "      <td>6</td>\n",
       "      <td>2</td>\n",
       "    </tr>\n",
       "    <tr>\n",
       "      <th>4</th>\n",
       "      <td>Epic Games</td>\n",
       "      <td>42.0</td>\n",
       "      <td>2018</td>\n",
       "      <td>United States</td>\n",
       "      <td>Cary</td>\n",
       "      <td>Other</td>\n",
       "      <td>Tencent Holdings, KKR, Smash Ventures</td>\n",
       "      <td>1991</td>\n",
       "      <td>Acquired</td>\n",
       "      <td>25</td>\n",
       "      <td>5</td>\n",
       "      <td>4.377000e+09</td>\n",
       "      <td>1000000001-1000000000000</td>\n",
       "      <td>27</td>\n",
       "      <td>1</td>\n",
       "    </tr>\n",
       "  </tbody>\n",
       "</table>\n",
       "</div>"
      ],
      "text/plain": [
       "      Company  Valuation ($B) Year Joined        Country           City  \\\n",
       "0   Bytedance           140.0        2017          China        Beijing   \n",
       "1      SpaceX           100.3        2012  United States      Hawthorne   \n",
       "2      Stripe            95.0        2014  United States  San Francisco   \n",
       "3      Klarna            45.6        2011          Other      Stockholm   \n",
       "4  Epic Games            42.0        2018  United States           Cary   \n",
       "\n",
       "                  Industry                                  Select Inverstors  \\\n",
       "0  Artificial intelligence  Sequoia Capital China, SIG Asia Investments, S...   \n",
       "1                    Other  Founders Fund, Draper Fisher Jurvetson, Rothen...   \n",
       "2                  Fintech        Khosla Ventures, LowercaseCapital, capitalG   \n",
       "3                  Fintech  Institutional Venture Partners, Sequoia Capita...   \n",
       "4                    Other              Tencent Holdings, KKR, Smash Ventures   \n",
       "\n",
       "  Founded Year Financial Stage Investors Count Deal Terms  Total Raised($)  \\\n",
       "0         2012             IPO              28          8     7.440000e+09   \n",
       "1         2002            None              29         12     6.874000e+09   \n",
       "2         2010           Asset              39         12     2.901000e+09   \n",
       "3         2005        Acquired              56         13     3.472000e+09   \n",
       "4         1991        Acquired              25          5     4.377000e+09   \n",
       "\n",
       "     Total Raised Ranges($)  Transition Time  Cluster  \n",
       "0  1000000001-1000000000000                5        0  \n",
       "1  1000000001-1000000000000               10        1  \n",
       "2  1000000001-1000000000000                4        1  \n",
       "3  1000000001-1000000000000                6        2  \n",
       "4  1000000001-1000000000000               27        1  "
      ]
     },
     "execution_count": 17,
     "metadata": {},
     "output_type": "execute_result"
    }
   ],
   "source": [
    "# Add prediected values onto the original dataframe\n",
    "df_y = pd.DataFrame(y_pred, columns=['Cluster'])\n",
    "combined_df = new_companies_df.join(df_y, how='inner')\n",
    "combined_df.head()"
   ]
  },
  {
   "cell_type": "code",
   "execution_count": 18,
   "id": "6314e228",
   "metadata": {},
   "outputs": [
    {
     "data": {
      "text/plain": [
       "<AxesSubplot:title={'center':'Transition Time'}, xlabel='[Cluster]'>"
      ]
     },
     "execution_count": 18,
     "metadata": {},
     "output_type": "execute_result"
    },
    {
     "data": {
      "image/png": "[encoded data removed]",
      "text/plain": [
       "<Figure size 432x288 with 1 Axes>"
      ]
     },
     "metadata": {
      "needs_background": "light"
     },
     "output_type": "display_data"
    }
   ],
   "source": [
    "# Plot boxplots of the official time distributions by cluster\n",
    "combined_df.boxplot(['Transition Time'], by=['Cluster'])"
   ]
  },
  {
   "cell_type": "code",
   "execution_count": 19,
   "id": "a1f1d46a",
   "metadata": {},
   "outputs": [],
   "source": [
    "# Plot mean Transition times by Country for each cluster\n",
    "# cluster_1 = combined_df[combined_df['Cluster'] == 0].groupby(['Country']).mean()['Transition Time']\n",
    "# cluster_2 = combined_df[combined_df['Cluster'] == 1].groupby(['Country']).mean()['Transition Time']\n",
    "# cluster_3 = combined_df[combined_df['Cluster'] == 2].groupby(['Country']).mean()['Transition Time']\n",
    "# clusters = [cluster_1,cluster_2,cluster_3]\n",
    "# x_axis=np.arange(len(clusters))\n",
    "# # plt.bar(x_axis, clusters, color='r', alpha=0.5, align=\"center\")\n",
    "# combined_df.plot.bar(combined_df['Transition Time'].median(),by=['Cluster'])"
   ]
  },
  {
   "cell_type": "code",
   "execution_count": 20,
   "id": "f252eb19",
   "metadata": {},
   "outputs": [],
   "source": [
    "# #Create the OneHotEncoder instance\n",
    "# from sklearn.preprocessing import OneHotEncoder\n",
    "# enc = OneHotEncoder(sparse = False)\n",
    "\n",
    "# #Create a new df and fit the encoder to the data \n",
    "# encode_df = pd.DataFrame(enc.fit_transform(new_companies_df[\"Country\"].values.reshape(-1, 1)))\n",
    "\n",
    "# #Rename the encoded cols\n",
    "# encode_df.columns= enc.get_feature_names(\"Country\")\n",
    "# encode_df.head()"
   ]
  },
  {
   "cell_type": "code",
   "execution_count": 21,
   "id": "c27e308f",
   "metadata": {},
   "outputs": [],
   "source": [
    "#Generate our categorical variable list \n",
    "# companies_cat = new_companies_df.dtypes.index.tolist()"
   ]
  },
  {
   "cell_type": "code",
   "execution_count": 22,
   "id": "a9c63d18",
   "metadata": {},
   "outputs": [],
   "source": [
    "#Check for unique values\n",
    "# new_companies_df[companies_cat].nunique()"
   ]
  },
  {
   "cell_type": "code",
   "execution_count": 23,
   "id": "ea7438a5",
   "metadata": {},
   "outputs": [],
   "source": [
    "# #Create a OneHotEncoder instance\n",
    "# enc = OneHotEncoder(sparse = False)\n",
    "\n",
    "# #Fit and transform the OneHotEncoder using the categorical variable list \n",
    "# encode_df = pd.DataFrame(enc.fit_transform(new_companies_df[companies_cat]))\n",
    "\n",
    "# #Add the encoded variable names to the df\n",
    "# encode_df.columns = enc.get_feature_names_out(companies_cat)\n",
    "# encode_df.head()"
   ]
  },
  {
   "cell_type": "code",
   "execution_count": 24,
   "id": "381ac47a",
   "metadata": {},
   "outputs": [],
   "source": [
    "# #Merge the dataframes and drop the country column from the axis(1)\n",
    "# new_companies_df.merge(encode_df,left_index=True,right_index=True).drop(\"Country\", 1)"
   ]
  },
  {
   "cell_type": "code",
   "execution_count": 25,
   "id": "efe32fb1",
   "metadata": {},
   "outputs": [],
   "source": [
    "# #Create the StandardScaler instance\n",
    "# scaler=StandardScaler()\n",
    "\n",
    "# #Fit the scaler\n",
    "# scaler.fit(new_companies_df)\n",
    "\n",
    "# #Scale the data \n",
    "# scaled_data=scaler.transform(new_companies_df)\n",
    "\n",
    "# #Create a dataframe with the scaled data \n",
    "# scaled_data = pd.DataFrame(scaled_data, columns=new_companies_df.columns)\n",
    "# scaled_data.head()"
   ]
  },
  {
   "cell_type": "code",
   "execution_count": null,
   "id": "cc797873",
   "metadata": {},
   "outputs": [],
   "source": []
  }
 ],
 "metadata": {
  "kernelspec": {
   "display_name": "mlenv",
   "language": "python",
   "name": "mlenv"
  },
  "language_info": {
   "codemirror_mode": {
    "name": "ipython",
    "version": 3
   },
   "file_extension": ".py",
   "mimetype": "text/x-python",
   "name": "python",
   "nbconvert_exporter": "python",
   "pygments_lexer": "ipython3",
   "version": "3.7.11"
  }
 },
 "nbformat": 4,
 "nbformat_minor": 5
}
