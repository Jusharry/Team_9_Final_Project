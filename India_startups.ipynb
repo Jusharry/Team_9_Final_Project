{
 "cells": [
  {
   "cell_type": "code",
   "execution_count": 1,
   "id": "2b4c07d6",
   "metadata": {},
   "outputs": [],
   "source": [
    "# Import our dependencies\n",
    "import os \n",
    "import datetime\n",
    "from sklearn.model_selection import train_test_split\n",
    "from sklearn.preprocessing import StandardScaler,OneHotEncoder\n",
    "from sklearn.preprocessing import MinMaxScaler, LabelEncoder\n",
    "from matplotlib import pyplot as plt\n",
    "import plotly.express as px\n",
    "import pandas as pd\n",
    "from sklearn.cluster import KMeans\n",
    "import numpy as np\n",
    "import tensorflow as tf\n",
    "import math\n",
    "from numpy import nan"
   ]
  },
  {
   "cell_type": "code",
   "execution_count": 2,
   "id": "09151c69",
   "metadata": {},
   "outputs": [
    {
     "data": {
      "text/html": [
       "<div>\n",
       "<style scoped>\n",
       "    .dataframe tbody tr th:only-of-type {\n",
       "        vertical-align: middle;\n",
       "    }\n",
       "\n",
       "    .dataframe tbody tr th {\n",
       "        vertical-align: top;\n",
       "    }\n",
       "\n",
       "    .dataframe thead th {\n",
       "        text-align: right;\n",
       "    }\n",
       "</style>\n",
       "<table border=\"1\" class=\"dataframe\">\n",
       "  <thead>\n",
       "    <tr style=\"text-align: right;\">\n",
       "      <th></th>\n",
       "      <th>Month</th>\n",
       "      <th>Company/Brand</th>\n",
       "      <th>Founded</th>\n",
       "      <th>Headquarters</th>\n",
       "      <th>Sector</th>\n",
       "      <th>What it does</th>\n",
       "      <th>Founder/s</th>\n",
       "      <th>Investor/s</th>\n",
       "      <th>Amount ($)</th>\n",
       "      <th>Stage</th>\n",
       "    </tr>\n",
       "  </thead>\n",
       "  <tbody>\n",
       "    <tr>\n",
       "      <th>0</th>\n",
       "      <td>December</td>\n",
       "      <td>CollegeDekho</td>\n",
       "      <td>2015.0</td>\n",
       "      <td>Gurgaon</td>\n",
       "      <td>E-learning</td>\n",
       "      <td>Collegedekho.com is Student’s Partner, Friend ...</td>\n",
       "      <td>Ruchir Arora</td>\n",
       "      <td>Disrupt ADQ, QIC</td>\n",
       "      <td>35000000</td>\n",
       "      <td>Series B</td>\n",
       "    </tr>\n",
       "    <tr>\n",
       "      <th>1</th>\n",
       "      <td>December</td>\n",
       "      <td>BOX8</td>\n",
       "      <td>2012.0</td>\n",
       "      <td>Mumbai</td>\n",
       "      <td>Food &amp; Beverages</td>\n",
       "      <td>India's Largest Desi Meals Brand</td>\n",
       "      <td>Anshul Gupta, Amit Raj</td>\n",
       "      <td>Tiger Global</td>\n",
       "      <td>40000000</td>\n",
       "      <td>NaN</td>\n",
       "    </tr>\n",
       "    <tr>\n",
       "      <th>2</th>\n",
       "      <td>December</td>\n",
       "      <td>Simpl</td>\n",
       "      <td>2015.0</td>\n",
       "      <td>Bangalore</td>\n",
       "      <td>Consumer Services</td>\n",
       "      <td>Simpl empowers merchants to build trusted rela...</td>\n",
       "      <td>Nitya, Chaitra Chidanand</td>\n",
       "      <td>Valar Ventures, IA Ventures</td>\n",
       "      <td>40000000</td>\n",
       "      <td>Series B</td>\n",
       "    </tr>\n",
       "    <tr>\n",
       "      <th>3</th>\n",
       "      <td>December</td>\n",
       "      <td>8i Ventures</td>\n",
       "      <td>2018.0</td>\n",
       "      <td>Mumbai</td>\n",
       "      <td>Venture Capital &amp; Private Equity</td>\n",
       "      <td>8i is a Mumbai &amp; Bangalore based early stage f...</td>\n",
       "      <td>Vikram Chachra</td>\n",
       "      <td>NaN</td>\n",
       "      <td>50000000</td>\n",
       "      <td>NaN</td>\n",
       "    </tr>\n",
       "    <tr>\n",
       "      <th>4</th>\n",
       "      <td>December</td>\n",
       "      <td>PayGlocal</td>\n",
       "      <td>2021.0</td>\n",
       "      <td>Bangalore</td>\n",
       "      <td>Financial Services</td>\n",
       "      <td>PayGlocal is a FinTech solving for global paym...</td>\n",
       "      <td>Prachi Dharani, Rohit Sukhija, Yogesh Lokhande</td>\n",
       "      <td>Sequoia Capital India</td>\n",
       "      <td>4900000</td>\n",
       "      <td>Series A</td>\n",
       "    </tr>\n",
       "    <tr>\n",
       "      <th>5</th>\n",
       "      <td>December</td>\n",
       "      <td>Curefit</td>\n",
       "      <td>2016.0</td>\n",
       "      <td>Bangalore</td>\n",
       "      <td>Health, Wellness &amp; Fitness</td>\n",
       "      <td>Tata Digital-backed Curefit</td>\n",
       "      <td>Mukesh Bansal, Ankit</td>\n",
       "      <td>Zomato</td>\n",
       "      <td>145000000</td>\n",
       "      <td>NaN</td>\n",
       "    </tr>\n",
       "    <tr>\n",
       "      <th>6</th>\n",
       "      <td>December</td>\n",
       "      <td>Pocket FM</td>\n",
       "      <td>2018.0</td>\n",
       "      <td>Bangalore</td>\n",
       "      <td>OTT</td>\n",
       "      <td>Pocket FM lets users discover and enjoy the gr...</td>\n",
       "      <td>Rohan, Nishanth Srinivas, Prateek Dixit</td>\n",
       "      <td>Lightspeed, Times Group, Tanglin Venture Partners</td>\n",
       "      <td>22000000</td>\n",
       "      <td>Series B</td>\n",
       "    </tr>\n",
       "    <tr>\n",
       "      <th>7</th>\n",
       "      <td>December</td>\n",
       "      <td>CHARGE+ZONE</td>\n",
       "      <td>2018.0</td>\n",
       "      <td>Vadodara</td>\n",
       "      <td>Automotive</td>\n",
       "      <td>CHARGE+ZONE is a tech-driven EV Charging infra...</td>\n",
       "      <td>Kartikey Hariyani</td>\n",
       "      <td>Venture Catalysts</td>\n",
       "      <td>10000000</td>\n",
       "      <td>NaN</td>\n",
       "    </tr>\n",
       "    <tr>\n",
       "      <th>8</th>\n",
       "      <td>December</td>\n",
       "      <td>PlanetSpark</td>\n",
       "      <td>2017.0</td>\n",
       "      <td>Gurugram</td>\n",
       "      <td>Education Management</td>\n",
       "      <td>PlanetSpark is building the World Leader in Co...</td>\n",
       "      <td>Maneesh Dhooper, Kunal Malik</td>\n",
       "      <td>Binny Bansal, Deep Kalra, Dr Ashish Gupta, Gok...</td>\n",
       "      <td>13000000</td>\n",
       "      <td>Series B</td>\n",
       "    </tr>\n",
       "    <tr>\n",
       "      <th>9</th>\n",
       "      <td>December</td>\n",
       "      <td>LenDenClub</td>\n",
       "      <td>2015.0</td>\n",
       "      <td>Mumbai</td>\n",
       "      <td>Financial Services</td>\n",
       "      <td>P2P lending platform delivering high returns o...</td>\n",
       "      <td>Bhavin Patel, Dipesh Karki</td>\n",
       "      <td>Tuscan Ventures, Ohm Stock Brokers, Artha Vent...</td>\n",
       "      <td>10000000</td>\n",
       "      <td>Series A</td>\n",
       "    </tr>\n",
       "  </tbody>\n",
       "</table>\n",
       "</div>"
      ],
      "text/plain": [
       "      Month Company/Brand  Founded Headquarters  \\\n",
       "0  December  CollegeDekho   2015.0      Gurgaon   \n",
       "1  December          BOX8   2012.0       Mumbai   \n",
       "2  December         Simpl   2015.0    Bangalore   \n",
       "3  December   8i Ventures   2018.0       Mumbai   \n",
       "4  December     PayGlocal   2021.0    Bangalore   \n",
       "5  December       Curefit   2016.0    Bangalore   \n",
       "6  December     Pocket FM   2018.0    Bangalore   \n",
       "7  December   CHARGE+ZONE   2018.0     Vadodara   \n",
       "8  December   PlanetSpark   2017.0     Gurugram   \n",
       "9  December    LenDenClub   2015.0       Mumbai   \n",
       "\n",
       "                             Sector  \\\n",
       "0                        E-learning   \n",
       "1                  Food & Beverages   \n",
       "2                 Consumer Services   \n",
       "3  Venture Capital & Private Equity   \n",
       "4                Financial Services   \n",
       "5        Health, Wellness & Fitness   \n",
       "6                               OTT   \n",
       "7                        Automotive   \n",
       "8              Education Management   \n",
       "9                Financial Services   \n",
       "\n",
       "                                        What it does  \\\n",
       "0  Collegedekho.com is Student’s Partner, Friend ...   \n",
       "1                   India's Largest Desi Meals Brand   \n",
       "2  Simpl empowers merchants to build trusted rela...   \n",
       "3  8i is a Mumbai & Bangalore based early stage f...   \n",
       "4  PayGlocal is a FinTech solving for global paym...   \n",
       "5                        Tata Digital-backed Curefit   \n",
       "6  Pocket FM lets users discover and enjoy the gr...   \n",
       "7  CHARGE+ZONE is a tech-driven EV Charging infra...   \n",
       "8  PlanetSpark is building the World Leader in Co...   \n",
       "9  P2P lending platform delivering high returns o...   \n",
       "\n",
       "                                        Founder/s  \\\n",
       "0                                    Ruchir Arora   \n",
       "1                          Anshul Gupta, Amit Raj   \n",
       "2                        Nitya, Chaitra Chidanand   \n",
       "3                                  Vikram Chachra   \n",
       "4  Prachi Dharani, Rohit Sukhija, Yogesh Lokhande   \n",
       "5                            Mukesh Bansal, Ankit   \n",
       "6         Rohan, Nishanth Srinivas, Prateek Dixit   \n",
       "7                               Kartikey Hariyani   \n",
       "8                    Maneesh Dhooper, Kunal Malik   \n",
       "9                      Bhavin Patel, Dipesh Karki   \n",
       "\n",
       "                                          Investor/s Amount ($)     Stage  \n",
       "0                                   Disrupt ADQ, QIC   35000000  Series B  \n",
       "1                                       Tiger Global   40000000       NaN  \n",
       "2                        Valar Ventures, IA Ventures   40000000  Series B  \n",
       "3                                                NaN   50000000       NaN  \n",
       "4                              Sequoia Capital India    4900000  Series A  \n",
       "5                                             Zomato  145000000       NaN  \n",
       "6  Lightspeed, Times Group, Tanglin Venture Partners   22000000  Series B  \n",
       "7                                  Venture Catalysts   10000000       NaN  \n",
       "8  Binny Bansal, Deep Kalra, Dr Ashish Gupta, Gok...   13000000  Series B  \n",
       "9  Tuscan Ventures, Ohm Stock Brokers, Artha Vent...   10000000  Series A  "
      ]
     },
     "execution_count": 2,
     "metadata": {},
     "output_type": "execute_result"
    }
   ],
   "source": [
    "#Import the dataset \n",
    "india_companies_df = pd.read_csv('Resources/related_databases/India-startup-funding-2021-full.csv')\n",
    "# india_companies_df = companies_df.drop(['Portfolio Exits'],axis = 1)\n",
    "india_companies_df.head(10)"
   ]
  },
  {
   "cell_type": "code",
   "execution_count": 3,
   "id": "b755f2ba",
   "metadata": {},
   "outputs": [
    {
     "data": {
      "text/plain": [
       "1037"
      ]
     },
     "execution_count": 3,
     "metadata": {},
     "output_type": "execute_result"
    }
   ],
   "source": [
    "dup = {}\n",
    "drop = []\n",
    "for x in range(0, len(india_companies_df['Company/Brand'])):\n",
    "    if india_companies_df['Company/Brand'][x] not in dup.keys():\n",
    "        dup[india_companies_df['Company/Brand'][x]] = [x]\n",
    "    else:\n",
    "        dup[india_companies_df['Company/Brand'][x]] += [x]\n",
    "        drop.append(x)\n",
    "len(dup)"
   ]
  },
  {
   "cell_type": "code",
   "execution_count": 4,
   "id": "cc3cc153",
   "metadata": {},
   "outputs": [
    {
     "data": {
      "text/plain": [
       "{'CollegeDekho': [0, 442],\n",
       " 'BOX8': [1],\n",
       " 'Simpl': [2],\n",
       " '8i Ventures': [3],\n",
       " 'PayGlocal': [4],\n",
       " 'Curefit': [5],\n",
       " 'Pocket FM': [6],\n",
       " 'CHARGE+ZONE': [7],\n",
       " 'PlanetSpark': [8],\n",
       " 'LenDenClub': [9],\n",
       " 'CometChat': [10],\n",
       " 'AgroStar': [11],\n",
       " 'Bizongo': [12, 65, 889],\n",
       " 'Probus Insurance': [13],\n",
       " 'MoEngage': [14],\n",
       " 'CloudSEK': [15],\n",
       " 'Exponent Energy': [16],\n",
       " 'Trinkerr': [17, 31],\n",
       " 'Zorro': [18, 32],\n",
       " 'Ultraviolette': [19, 33],\n",
       " 'NephroPlus': [20, 34],\n",
       " 'Unremot': [21, 35],\n",
       " 'FanAnywhere': [22, 36],\n",
       " 'PingoLearn': [23, 37],\n",
       " 'Spry': [24, 38],\n",
       " 'Enmovil': [25, 39],\n",
       " 'ASQI Advisors': [26, 40],\n",
       " 'Insurance Samadhan': [27, 41],\n",
       " 'Evenflow Brands': [28, 42],\n",
       " 'MasterChow': [29, 43],\n",
       " 'Fullife Healthcare': [30, 44],\n",
       " 'MoEVing': [45],\n",
       " 'Pristyn Care': [46, 913],\n",
       " 'Plix': [47],\n",
       " 'Uni Cards': [48],\n",
       " 'Practically': [49, 1189],\n",
       " 'Nestasia': [50],\n",
       " 'Vedic Cosmeceuticals': [51],\n",
       " 'Juspay': [52],\n",
       " 'TranZact': [53],\n",
       " 'Atomberg': [54],\n",
       " 'Ola': [55],\n",
       " 'Mohalla Tech': [56],\n",
       " 'Stack': [57],\n",
       " 'PropReturns': [58],\n",
       " 'WeSkill': [59],\n",
       " 'Fitpage': [60],\n",
       " 'ShopMyLooks': [61],\n",
       " 'ByteLearn': [62],\n",
       " 'Dista': [63],\n",
       " 'OfBusiness': [64, 954],\n",
       " 'FRND': [66],\n",
       " 'Metadome': [67],\n",
       " 'Keka HR': [68],\n",
       " 'Flo Mobility': [69],\n",
       " 'Yodacart': [70],\n",
       " 'TheHouseMonk': [71],\n",
       " 'Zepto': [72, 103],\n",
       " 'Sirona Hygiene': [73, 912],\n",
       " 'Jumbotail': [74, 747, 1183],\n",
       " 'Captain Fresh': [75, 613, 1046],\n",
       " 'Deciwood': [76],\n",
       " 'Kohbee': [77],\n",
       " 'Perfora': [78],\n",
       " 'Unbox Robotics': [79, 886],\n",
       " 'Ninety One': [80],\n",
       " 'Gobillion': [81],\n",
       " 'RIPPLR': [82],\n",
       " 'SK Finance': [83],\n",
       " 'Eggoz': [84],\n",
       " 'Fabriclore': [85],\n",
       " 'Veefin': [86],\n",
       " 'Verandah': [87],\n",
       " 'Karkinos Healthcare': [88],\n",
       " 'OWO Technologies': [89],\n",
       " 'EsportsXO': [90],\n",
       " 'The Gourmet Jar': [91],\n",
       " 'Zorgers': [92],\n",
       " 'BangDB': [93],\n",
       " 'Neobank Jupiter': [94],\n",
       " 'Skippi Ice Pops': [95],\n",
       " 'Glii': [96],\n",
       " 'GlobalBees': [97, 620],\n",
       " 'Mamaearth': [98, 599],\n",
       " 'SecureNow': [99],\n",
       " 'Vendor Infra': [100],\n",
       " 'Hakuna Matata': [101],\n",
       " 'OneCard': [102],\n",
       " 'Fi': [104],\n",
       " 'Kiko Live': [105],\n",
       " 'TurboHire': [106],\n",
       " 'The Hosteller': [107],\n",
       " 'SatSure': [108],\n",
       " 'Ruptok Fintech': [109],\n",
       " 'VilCart': [110],\n",
       " 'Dogsee Chew': [111],\n",
       " 'Advantage Club': [112, 461, 474],\n",
       " 'TRDR': [113],\n",
       " 'Zoomcar': [114],\n",
       " 'Leap India': [115],\n",
       " 'SuperBottoms': [116],\n",
       " 'Cora Health': [117, 723],\n",
       " 'Battery Smart': [118, 1069],\n",
       " 'The Good Glamm Group': [119],\n",
       " 'Mosaic Wellness': [120],\n",
       " 'CloudFiles': [121],\n",
       " 'The Viral Fever': [122],\n",
       " 'Xpand': [123],\n",
       " 'Troo Good': [124],\n",
       " 'Prodo': [125],\n",
       " 'Unnati': [126],\n",
       " 'Lysto': [127],\n",
       " 'Wakefit': [128],\n",
       " 'Buyofuel': [129],\n",
       " 'ElectricPe': [130],\n",
       " 'Vayana Network': [131],\n",
       " 'Valuationary': [132],\n",
       " 'Knocksense': [133, 1180],\n",
       " 'Petpooja': [134],\n",
       " 'Wingreens Farms': [135],\n",
       " 'Doola': [136],\n",
       " 'EyeMyEye': [137],\n",
       " 'Bombay Hemp Company': [138],\n",
       " 'DGV': [139],\n",
       " 'GuardianLink': [140],\n",
       " 'Clinikk': [141],\n",
       " 'Toplyne': [142],\n",
       " 'Mensa': [143],\n",
       " 'GENLEAP': [144],\n",
       " 'Planys': [145],\n",
       " 'Wonderchef': [146],\n",
       " 'GoKwik': [147, 433],\n",
       " 'Velocity': [148, 975],\n",
       " 'SalaryBox': [149],\n",
       " 'Boingg': [150],\n",
       " 'Better Capital': [151],\n",
       " 'Tickertape': [152],\n",
       " 'Zenpay Solutions': [153],\n",
       " 'Disprz': [154],\n",
       " 'Arbo Works': [155],\n",
       " 'Inzpira': [156],\n",
       " 'Defy': [157],\n",
       " 'Mindhouse': [158],\n",
       " 'Homversity': [159],\n",
       " 'Toppersnotes': [160],\n",
       " 'NoBroker.com': [161],\n",
       " 'Haber': [162],\n",
       " 'True Balance': [163, 1006],\n",
       " 'Recordent': [164],\n",
       " 'Koparo': [165],\n",
       " 'Indifi': [166, 1027],\n",
       " 'Settl': [167],\n",
       " 'Park+': [168],\n",
       " 'Simple Energy': [169],\n",
       " 'Dream Sports': [170, 981],\n",
       " 'Spinny': [171, 621, 958],\n",
       " 'Rentomojo': [172],\n",
       " 'Slice': [173, 575, 805],\n",
       " '21K School': [174],\n",
       " 'Adda247': [175],\n",
       " 'Loop Health': [176],\n",
       " 'Rupifi': [177, 984],\n",
       " 'RENEE Cosmetics': [178],\n",
       " 'Svish': [179],\n",
       " 'Progcap': [180, 1107],\n",
       " 'Smartstaff': [181],\n",
       " 'D’Moksha Homes': [182],\n",
       " 'ANS Commerce': [183],\n",
       " 'Mobileware Technologies': [184],\n",
       " 'GramCover': [185],\n",
       " \"BYJU'S\": [186, 748, 880, 995],\n",
       " 'Hyperface': [187],\n",
       " 'Licious': [188, 673],\n",
       " 'Chalo': [189, 1175],\n",
       " 'Kaar Technologies': [190],\n",
       " 'Kissan Pro': [191],\n",
       " 'Sunstone Eduversity': [192],\n",
       " 'Ozonetel': [193],\n",
       " 'CoinSwitch Kuber': [194, 905, 1171],\n",
       " 'Pazcare': [195],\n",
       " 'kWh Bikes': [196],\n",
       " 'IBSFINtech': [197],\n",
       " 'LeadSquared': [198],\n",
       " 'Phool.co': [199],\n",
       " 'Twin Health': [200],\n",
       " 'Trica': [201],\n",
       " 'mHealth': [202],\n",
       " 'Rebel Foods': [203],\n",
       " 'ProfitWheel': [204],\n",
       " 'Log 9 Materials': [205, 529],\n",
       " 'Chingari': [206, 970],\n",
       " 'Ishitva': [207],\n",
       " 'Ola Electric': [208, 311, 645],\n",
       " 'leap.club': [209],\n",
       " 'F5': [210, 731],\n",
       " 'ForeignAdmits': [211],\n",
       " 'SALT': [212],\n",
       " 'EarnWealth': [213],\n",
       " 'Visit Health': [214],\n",
       " 'Crater.Club': [215],\n",
       " 'NFTically': [216, 627],\n",
       " 'ReshaMandi': [217, 988],\n",
       " 'Zetwerk': [218, 478, 1115],\n",
       " 'Hubilo': [219],\n",
       " 'M2P Fintech': [220],\n",
       " 'Open Financial Technologies': [221],\n",
       " 'Niro': [222],\n",
       " 'Wiingy': [223],\n",
       " 'CarDekho': [224],\n",
       " 'Melorra': [225],\n",
       " 'AnKa SumMor': [226],\n",
       " 'Toch.ai': [227],\n",
       " 'Playto Labs': [228],\n",
       " 'Fraazo': [229],\n",
       " 'Arcana': [230, 654],\n",
       " 'FloCareer': [231],\n",
       " 'Nap Chief': [232],\n",
       " 'AcknoLedger': [233],\n",
       " 'ApplicateAI': [234],\n",
       " 'VLCC Health Care': [235],\n",
       " 'Duroflex': [236],\n",
       " 'Aviom India': [237],\n",
       " 'Onato': [238],\n",
       " 'Mestastop Solutions': [239],\n",
       " 'SaaS Labs': [240],\n",
       " 'Devnagri': [241],\n",
       " 'CRED': [242, 944],\n",
       " 'ConveGenius': [243],\n",
       " 'Totality': [244],\n",
       " 'CredAble': [245],\n",
       " 'MarketWolf': [246],\n",
       " 'Wondrlab': [247],\n",
       " 'SUN Mobility': [248],\n",
       " 'Tamasha': [249],\n",
       " 'Revfin': [250],\n",
       " 'Yu Foodlabs': [251],\n",
       " 'MergerDomo': [252],\n",
       " 'FarMart': [253, 849],\n",
       " 'Questt': [254, 1054],\n",
       " 'IDfy': [255],\n",
       " 'ClearDekho': [256],\n",
       " 'BookingJini': [257],\n",
       " 'Sourcewiz': [258],\n",
       " 'Tvasta': [259],\n",
       " 'Kafqa Academy': [260],\n",
       " 'Trell': [261, 649],\n",
       " 'Storia': [262],\n",
       " 'Clear': [263],\n",
       " 'Groww': [264],\n",
       " 'The Indus Valley': [265],\n",
       " 'BharatPe': [266, 501, 543, 865, 1089, 1151, 1157, 1197],\n",
       " 'Teachmint': [267, 696, 876],\n",
       " 'Porter': [268],\n",
       " 'O4S': [269],\n",
       " 'Wobb': [270],\n",
       " 'BASIC Home Loan': [271],\n",
       " 'Siply': [272, 1101, 1166],\n",
       " 'BankSathi': [273, 827],\n",
       " 'Gramophone': [274],\n",
       " 'Healofy': [275],\n",
       " 'E42': [276],\n",
       " 'Spottabl': [277],\n",
       " 'DeHaat': [278, 1162],\n",
       " 'Shumee': [279],\n",
       " 'Zolve': [280, 1079],\n",
       " 'Instoried': [281, 983],\n",
       " 'SportZchain': [282],\n",
       " 'Hypto': [283],\n",
       " 'CHUPPS': [284],\n",
       " 'Zenduty': [285],\n",
       " 'R for Rabbit': [286],\n",
       " 'Acko': [287],\n",
       " 'LoveLocal': [288],\n",
       " 'SupplyNote': [289],\n",
       " 'Vakilsearch': [290],\n",
       " 'Cloudphysician': [291],\n",
       " 'Wiggles.in': [292],\n",
       " 'Avanti Finance': [293, 952],\n",
       " 'Vanity Wagon': [294, 1200],\n",
       " 'Purplle': [295, 1008],\n",
       " 'Wallmantra': [296],\n",
       " 'MFine': [297, 1158],\n",
       " 'Aquatein': [298],\n",
       " 'Mentza': [299],\n",
       " 'ConnectedH': [300],\n",
       " 'CredAvenue': [301],\n",
       " 'Vedantu': [302],\n",
       " 'Exotel': [303],\n",
       " 'Fantasy Akhada': [304, 949],\n",
       " 'Meesho': [305, 964],\n",
       " 'PumPumPum': [306, 961],\n",
       " 'Cusmat': [307],\n",
       " 'Homeville': [308],\n",
       " 'Coinshift': [309],\n",
       " 'Strip Finance': [310],\n",
       " 'Kolo': [312],\n",
       " 'Chqbook': [313, 744],\n",
       " 'My3DSelfie': [314],\n",
       " 'EV Plugs': [315],\n",
       " 'Rulezero': [316],\n",
       " 'CredRight': [317],\n",
       " 'Karbon Card': [318, 444, 835],\n",
       " 'Auntie Fung': [319],\n",
       " 'ePayLater': [320],\n",
       " 'Fittr': [321],\n",
       " 'Medikabazaar': [322],\n",
       " 'Nimble Growth Organics': [323],\n",
       " 'Delhivery': [324, 430, 703],\n",
       " 'Akudo': [325, 484],\n",
       " 'Sanctum Wealth': [326],\n",
       " '88academics': [327],\n",
       " 'Upgame': [328],\n",
       " 'Sanfe': [329],\n",
       " 'PredictiVu': [330],\n",
       " 'Sterling Accuris Wellness': [331],\n",
       " 'Bijnis': [332, 1053],\n",
       " 'Capital Float': [333, 732],\n",
       " 'Manch Technologies': [334],\n",
       " 'Sochcast': [335],\n",
       " 'Glamyo Health': [336],\n",
       " 'CashBook': [337],\n",
       " 'The Money Club': [338],\n",
       " 'SuperZop': [339],\n",
       " 'Zypp Electric': [340],\n",
       " 'Alpha Coach': [341],\n",
       " 'VRO Hospitality': [342],\n",
       " 'byteXL': [343],\n",
       " 'Leena AI': [344],\n",
       " 'CARS24': [345],\n",
       " 'Klub': [346, 518],\n",
       " 'Bluepad': [347],\n",
       " 'FloBiz': [348, 1009],\n",
       " 'Tummoc': [349],\n",
       " 'Design Cafe': [350],\n",
       " 'PayCardo': [351],\n",
       " 'Aerchain': [352],\n",
       " 'Expertrons': [353, 516],\n",
       " 'CuriousJr': [354],\n",
       " 'Wow! Momo': [355],\n",
       " 'Supertails': [356, 823],\n",
       " 'LifeCell': [357],\n",
       " 'ZestMoney': [358],\n",
       " 'FrontRow': [359],\n",
       " 'HappyCredit': [360],\n",
       " 'Endimension': [361],\n",
       " 'Frenzi': [362],\n",
       " 'Leverage Edu': [363, 738],\n",
       " 'BeepKart': [364],\n",
       " 'Lio': [365],\n",
       " 'TravClan': [366],\n",
       " 'WickedGud': [367],\n",
       " 'Enercomp': [368],\n",
       " 'BetterPlace': [369],\n",
       " 'Medpho': [370],\n",
       " 'LivQuik Technology': [371],\n",
       " 'EventBeep': [372],\n",
       " 'GTM Buddy': [373],\n",
       " 'Gobbly': [374],\n",
       " 'HexaHealth': [375],\n",
       " 'Eupheus Learning': [376],\n",
       " 'Easiloan': [377],\n",
       " 'Anar': [378],\n",
       " 'Shadez': [379],\n",
       " 'Vahan': [380],\n",
       " 'MPL': [381, 1122, 1144],\n",
       " 'Tinkerly': [382],\n",
       " 'Godamwale': [383],\n",
       " 'Artium Academy': [384],\n",
       " 'Awon GameZ': [385],\n",
       " 'Ayu Health': [386],\n",
       " 'Apna': [387, 755],\n",
       " 'BharatAgri': [388],\n",
       " 'Flatheads': [389, 718],\n",
       " 'Boutique Spirit Brands': [390],\n",
       " 'eShipz': [391],\n",
       " 'Pine Labs': [392, 682],\n",
       " 'Paytail': [393],\n",
       " '4Fin': [394],\n",
       " 'Atomberg Technologies': [395],\n",
       " 'Genext Students': [396],\n",
       " 'immunitoAI': [397],\n",
       " 'GameEon Studios': [398],\n",
       " 'Farmers Fresh Zone': [399],\n",
       " 'Anveshan': [400],\n",
       " 'OckyPocky': [401],\n",
       " 'Coutloot': [402],\n",
       " 'Nova Benefits': [403],\n",
       " 'HomeLane': [404],\n",
       " 'Lido Learning': [405],\n",
       " 'Jar': [406],\n",
       " 'Peppermint': [407],\n",
       " 'moneyHOP': [408],\n",
       " 'Codingal': [409, 1086],\n",
       " 'Skit': [410],\n",
       " 'Peak': [411],\n",
       " 'REVOS': [412],\n",
       " 'Dezerv.': [413],\n",
       " 'AppsForBharat': [414, 479],\n",
       " 'Habbit': [415],\n",
       " 'Bikayi': [416],\n",
       " 'Sugar.fit': [417],\n",
       " 'Dukaan': [418],\n",
       " 'Vidyakul': [419, 915],\n",
       " 'Goodmylk': [420],\n",
       " 'Fieldproxy': [421],\n",
       " 'NeuroPixel.AI': [422],\n",
       " 'Elixia Tech Solutions': [423],\n",
       " 'bitsCrunch': [424],\n",
       " 'Prolgae': [425],\n",
       " 'Biddano': [426],\n",
       " 'Geniemode': [427],\n",
       " 'Sapio Analytics': [428, 660],\n",
       " 'Neokred': [429],\n",
       " 'Flipspaces': [431],\n",
       " 'Fleek': [432],\n",
       " 'Proeon': [434],\n",
       " 'InfyU Labs': [435],\n",
       " 'TechEagle': [436],\n",
       " 'Voxelgrids': [437],\n",
       " 'Cogos Technologies': [438],\n",
       " 'Gigforce': [439],\n",
       " 'Vahdam': [440],\n",
       " 'Leap Finance': [441, 1033],\n",
       " 'WeRize': [443],\n",
       " 'Factors.AI': [445],\n",
       " 'Elevar': [446],\n",
       " 'Studio Sirah': [447],\n",
       " 'OTO Capital': [448],\n",
       " '1Bridge': [449],\n",
       " 'Skeps': [450],\n",
       " 'Curefoods': [451, 464],\n",
       " 'TartanSense': [452, 465],\n",
       " 'Bewakoof': [453, 466, 999],\n",
       " 'Kirana247': [454, 467],\n",
       " 'FanPlay': [455, 468],\n",
       " 'NeoDocs': [456, 469],\n",
       " 'IsGoingOnline': [457, 470],\n",
       " 'Camp K12': [458, 471],\n",
       " 'Elda Health': [459, 472],\n",
       " 'Sporjo': [460, 473],\n",
       " 'SuperGaming': [462, 475],\n",
       " 'Ruptok': [463, 476, 1135],\n",
       " 'O’ Be Cocktails': [477],\n",
       " 'Imagimake': [480, 762],\n",
       " 'Khatabook': [481],\n",
       " 'Smytten': [482],\n",
       " 'Syook': [483],\n",
       " 'NOTO': [485],\n",
       " 'Lumiq': [486],\n",
       " 'CommerceUp': [487],\n",
       " 'Breathe Well-being': [488, 707],\n",
       " 'Hike': [489],\n",
       " 'House of Kieraya': [490],\n",
       " 'goEgoNetwork': [491],\n",
       " 'Probus': [492],\n",
       " 'DrinkPrime': [493],\n",
       " 'Smart Express': [494],\n",
       " 'Smallcase': [495],\n",
       " 'SATYA MicroCapital': [496, 1118],\n",
       " 'Snack Amor': [497],\n",
       " 'Postman': [498],\n",
       " 'Hashnode': [499],\n",
       " 'RACEnergy': [500],\n",
       " 'Gyde': [502],\n",
       " 'BatteryPool': [503],\n",
       " 'AgNext': [504],\n",
       " 'Xpresslane': [505],\n",
       " 'LoanKuber': [506],\n",
       " 'OYO': [507, 642, 1035],\n",
       " 'Rapido': [508, 879],\n",
       " 'YPay': [509],\n",
       " 'SleepyCat': [510],\n",
       " 'Ultrahuman': [511],\n",
       " 'UpScalio': [512],\n",
       " 'Yellow Class': [513],\n",
       " 'Yojak': [514],\n",
       " 'CreatorStack': [515],\n",
       " 'Rage Coffee': [517, 950],\n",
       " 'Navia Life Care': [519],\n",
       " '1K Kirana Bazaar': [520],\n",
       " 'Zupee': [521, 1185],\n",
       " 'Locale.ai': [522],\n",
       " 'VerSe Innovation': [523, 1096],\n",
       " 'MetroRide': [524],\n",
       " 'Miko': [525, 917],\n",
       " 'Whiz League': [526],\n",
       " 'Hash': [527],\n",
       " 'Unacademy': [528, 1176],\n",
       " 'upGrad': [530, 887],\n",
       " 'FlashPrep': [531],\n",
       " 'Kenko Health': [532],\n",
       " 'Wiz Freight': [533],\n",
       " 'Credgenics': [534],\n",
       " 'BlueLearn': [535],\n",
       " 'NimbleBox.ai': [536],\n",
       " 'Pickrr': [537],\n",
       " 'Stellaris Venture Partners': [538],\n",
       " 'Grip Invest': [539],\n",
       " 'Heads Up For Tails': [540],\n",
       " 'Blue Tokai Coffee Roasters': [541],\n",
       " 'Neeman': [542],\n",
       " 'GoSats': [544],\n",
       " 'StockGro': [545],\n",
       " 'Onsurity': [546, 972],\n",
       " 'Khabri': [547],\n",
       " 'Celcius': [548, 871],\n",
       " 'AyuRythm': [549],\n",
       " 'Enguru': [550],\n",
       " 'Rocket Skills': [551],\n",
       " 'RenewBuy': [552, 764],\n",
       " 'Faarms': [553],\n",
       " 'UrbanMatrix Technologies': [554],\n",
       " 'Jupiter': [555],\n",
       " 'Pixuate': [556],\n",
       " 'Playo': [557],\n",
       " 'Toothsi': [558, 1182],\n",
       " 'Soothe Healthcare': [559],\n",
       " 'Goodmeetings': [560],\n",
       " 'Apnaklub': [561],\n",
       " 'ChefKart': [562],\n",
       " 'Fashinza': [563, 1150],\n",
       " 'Fabheads': [564],\n",
       " 'QuickShift': [565],\n",
       " 'StackBOX': [566],\n",
       " 'MedPrime Technologies': [567],\n",
       " 'infra.market': [568],\n",
       " 'SP Robotic Works': [569],\n",
       " '3SC': [570],\n",
       " 'Chai Waale': [571],\n",
       " 'Minimalist': [572],\n",
       " 'Biconomy': [573, 1164],\n",
       " 'Fixcraft': [574],\n",
       " '90+ My Tuition App': [576],\n",
       " 'Wasabi': [577],\n",
       " 'Strata': [578],\n",
       " 'Ourbetterplanet': [579],\n",
       " 'Murf.ai': [580],\n",
       " 'JetSynthesys': [581],\n",
       " 'MYFITNESS': [582],\n",
       " 'I am Love': [583],\n",
       " 'MyGlamm': [584, 1018],\n",
       " 'Gumlet': [585],\n",
       " 'Eloelo': [586],\n",
       " 'Edukemy': [587],\n",
       " 'Zingbus': [588, 1084],\n",
       " 'NewsReach': [589],\n",
       " 'Pencilton': [590],\n",
       " 'Bandhoo': [591],\n",
       " 'ixigo': [592],\n",
       " 'The Whole Truth': [593],\n",
       " 'Insane AI': [594],\n",
       " 'Learn4o Technology': [595],\n",
       " 'Droom': [596],\n",
       " 'Skymet': [597],\n",
       " 'Go Swift': [598],\n",
       " 'G.O.A.T': [600],\n",
       " 'Keeros': [601],\n",
       " 'ReDesyn': [602],\n",
       " 'Inspacco': [603],\n",
       " 'Knorish': [604],\n",
       " 'Dozee': [605],\n",
       " 'BlackBuck': [606],\n",
       " 'Mailmodo': [607],\n",
       " 'SuperBeings': [608],\n",
       " 'NirogStreet': [609],\n",
       " 'Hyreo': [610],\n",
       " 'GODI Energy': [611],\n",
       " 'Even': [612],\n",
       " 'Otipy': [614],\n",
       " 'Lenskart': [615, 824],\n",
       " 'Eka.care': [616],\n",
       " 'Braingroom': [617],\n",
       " 'Edvizo': [618],\n",
       " 'Credenc': [619],\n",
       " 'Mynvax': [622],\n",
       " 'RiseBird': [623],\n",
       " 'Uvi Health': [624],\n",
       " 'Vegrow': [625],\n",
       " 'Automovill': [626],\n",
       " 'HealthifyMe': [628],\n",
       " 'GalaxyCard': [629],\n",
       " 'Bella Vita Organic': [630],\n",
       " 'SmartCoin': [631],\n",
       " 'CareerNinja': [632],\n",
       " 'MYSUN': [633],\n",
       " 'Sea6 Energy': [634],\n",
       " 'Beco': [635],\n",
       " 'OneCode': [636],\n",
       " 'MedPay': [637],\n",
       " 'Inshorts': [638, 977],\n",
       " 'Digantara': [639],\n",
       " 'Aqgromalin': [640],\n",
       " 'Square Yards': [641],\n",
       " 'Slang Labs': [643],\n",
       " 'NirogGyan': [644],\n",
       " 'Bikry app': [646],\n",
       " 'Oliveboard': [647],\n",
       " 'Little Leap': [648],\n",
       " 'Kredent': [650],\n",
       " 'EasyAspataal': [651],\n",
       " 'SMOOR': [652],\n",
       " 'Pankhuri': [653],\n",
       " 'AdmitKard': [655],\n",
       " 'UrbanKisaan': [656],\n",
       " 'Aquaconnect': [657],\n",
       " 'Vah Vah!': [658],\n",
       " 'LetsDressUp': [659],\n",
       " 'BHyve': [661],\n",
       " 'Indi Energy': [662],\n",
       " 'The Ayurveda Co': [663],\n",
       " 'Pratilipi': [664],\n",
       " 'Ati Motors': [665],\n",
       " 'peAR': [666],\n",
       " 'Gourmet Garden': [667],\n",
       " 'The Sleep Company': [668],\n",
       " 'TyrePlex': [669],\n",
       " 'ION Energy': [670],\n",
       " 'Digit Insurance': [671, 1156],\n",
       " 'FRAAZO': [672],\n",
       " 'WinZO': [674],\n",
       " 'Furlenco': [675, 1153],\n",
       " 'Skylark Drones': [676],\n",
       " 'Leegality': [677],\n",
       " 'Arcatron Mobility': [678],\n",
       " 'TWID': [679],\n",
       " 'PeakPerformer': [680],\n",
       " 'MyMobiForce': [681],\n",
       " 'Genworks Health': [683],\n",
       " 'Pocketly': [684],\n",
       " 'Neverinstall': [685],\n",
       " 'CoRover': [686],\n",
       " 'BeatO': [687],\n",
       " 'Earth Rhythm': [688],\n",
       " 'Fountain9': [689],\n",
       " 'Rockclimber': [690],\n",
       " 'SpEd@home': [691],\n",
       " 'CanPe': [692],\n",
       " 'Green Soul': [693],\n",
       " 'Shiprocket': [694],\n",
       " 'DealShare': [695, 900, 1055],\n",
       " 'Vahak': [697],\n",
       " 'goSTOPS': [698],\n",
       " 'Codedamn': [699],\n",
       " 'Biocraft Innovation Technology': [700],\n",
       " 'Powerplay': [701],\n",
       " 'Accio Robotics': [702],\n",
       " 'Avishkaar': [704],\n",
       " 'Jobsgaar': [705],\n",
       " 'Almo': [706],\n",
       " 'GalaxEye': [708],\n",
       " 'Good Health Clinic': [709],\n",
       " 'Urban Company': [710, 891],\n",
       " 'MYBYK': [711],\n",
       " 'Locus': [712],\n",
       " 'Crejo.Fun': [713],\n",
       " 'Bambinos': [714],\n",
       " 'KreditBee': [715, 1005, 1073],\n",
       " 'Spardha': [716],\n",
       " 'Onelife Nutriscience': [717],\n",
       " 'Fable Fintech': [719],\n",
       " 'Holisol': [720],\n",
       " 'Now&Me': [721],\n",
       " 'Fyllo': [722],\n",
       " 'Blaer Motors': [724],\n",
       " 'Swiflearn': [725],\n",
       " 'Cashfree': [726],\n",
       " 'QuickSell': [727],\n",
       " 'Truemeds': [728],\n",
       " 'Candes': [729],\n",
       " 'MediBuddy': [730, 1080, 1114],\n",
       " 'IntelleWings': [733],\n",
       " 'Shyplite': [734],\n",
       " 'Refyne': [735],\n",
       " 'Greenjoules': [736],\n",
       " 'MentorKart': [737],\n",
       " 'Kale Logistics': [739],\n",
       " 'CustomerGlu': [740],\n",
       " 'Cell Propulsion': [741],\n",
       " 'Wellbeing Nutrition': [742],\n",
       " 'Pee Safe': [743],\n",
       " 'SimpliContract': [745],\n",
       " 'Dropshop': [746],\n",
       " 'Power Gummies': [749],\n",
       " 'Convosight': [750],\n",
       " 'Junio': [751, 1138],\n",
       " 'Wherehouse.io': [752],\n",
       " 'Flexmoney': [753],\n",
       " 'Fampay': [754],\n",
       " 'XYXX Apparels': [756],\n",
       " 'WaterScience': [757],\n",
       " 'BrowserStack': [758],\n",
       " 'Vital': [759],\n",
       " 'Juicy chemistry': [760],\n",
       " 'Samaaro': [761],\n",
       " 'MSMEx': [763],\n",
       " 'saarthi.ai': [765],\n",
       " 'Kutumb': [766],\n",
       " 'Superplum': [767],\n",
       " 'Upside AI': [768],\n",
       " 'PazCare': [769],\n",
       " 'Answer Genomics': [770],\n",
       " 'Skillmatics': [771],\n",
       " 'Bimaplan': [772, 1031],\n",
       " 'Bueno Finance': [773],\n",
       " 'CityMall': [774, 986],\n",
       " 'BYJU’S': [775],\n",
       " 'India Quotient': [776],\n",
       " 'The Switch Fix': [777],\n",
       " 'Anvidha Technologies': [778],\n",
       " 'DigiSparsh': [779],\n",
       " 'CoffeeMug.ai': [780],\n",
       " 'Pathfndr.io': [781],\n",
       " 'BigLeap': [782],\n",
       " 'Kazam': [783],\n",
       " 'MYRE Capital': [784],\n",
       " 'BimaPe': [785],\n",
       " 'MicroDegree': [786],\n",
       " 'Saarthi Pedagogy': [787],\n",
       " 'Synapsica': [788],\n",
       " 'Kwik Foods': [789],\n",
       " 'Plutomen': [790],\n",
       " 'GoMechanic': [791],\n",
       " 'Grinntech': [792],\n",
       " 'Nobel Hygiene': [793],\n",
       " 'Green Cure': [794],\n",
       " 'Classplus': [795],\n",
       " 'WINDO': [796],\n",
       " 'ApnaKlub': [797],\n",
       " 'LegalPay': [798, 838],\n",
       " 'Lavado': [799],\n",
       " 'Navars': [800],\n",
       " 'GoBolt': [801],\n",
       " 'Loco': [802],\n",
       " 'Auric': [803],\n",
       " 'Edmingle': [804],\n",
       " 'Humit': [806],\n",
       " 'Airblack': [807],\n",
       " 'NIRAMAI': [808],\n",
       " 'Intervue': [809],\n",
       " 'Nestroots': [810],\n",
       " 'Detect Technologies': [811],\n",
       " 'CredR': [812],\n",
       " 'Fourth Partner Energy': [813],\n",
       " 'TABLT': [814],\n",
       " 'Hesa': [815],\n",
       " 'Powerhouse91': [816],\n",
       " 'Nalanda Learning': [817],\n",
       " 'Chargeup': [818],\n",
       " 'Knackit': [819],\n",
       " 'Treebo Hotels': [820],\n",
       " 'Raptee Energy': [821],\n",
       " 'Meddo': [822, 1208],\n",
       " 'ParkSmart': [825],\n",
       " 'Virohan': [826, 1060],\n",
       " 'Spark Studio': [828],\n",
       " 'BlissClub': [829],\n",
       " 'BricSpaces': [830],\n",
       " 'ANSR': [831],\n",
       " 'Keito': [832],\n",
       " 'Reccy Adventures': [833],\n",
       " 'Magenta EV': [834],\n",
       " 'Wysa': [836],\n",
       " 'Agnikul': [837],\n",
       " 'Glamplus': [839],\n",
       " 'Tekie': [840],\n",
       " 'Asirvad Microfinance': [841],\n",
       " 'Avalon Labs': [842],\n",
       " 'Betterhalf.ai': [843],\n",
       " 'Koo': [844, 1123],\n",
       " 'Rezo.ai': [845],\n",
       " 'Mentoria': [846],\n",
       " 'Cuvette Tech': [847],\n",
       " 'Clensta': [848],\n",
       " 'Kodo Card': [850],\n",
       " 'Polygon': [851],\n",
       " 'Get My Parking': [852],\n",
       " 'Cellestial': [853],\n",
       " 'FanCode': [854],\n",
       " 'Jai Kisan': [855],\n",
       " 'Plum': [856],\n",
       " 'ThatMate': [857],\n",
       " 'Klassroom': [858],\n",
       " 'Convin': [859],\n",
       " 'Mensa Brands': [860],\n",
       " 'Disruptium': [861],\n",
       " 'MedTel Healthcare': [862],\n",
       " 'Pickright Technologies': [863],\n",
       " 'Ingenium': [864],\n",
       " 'RuleZero': [866],\n",
       " 'Rubix Data Sciences': [867],\n",
       " 'Locobuzz': [868],\n",
       " 'We Founder Circle': [869],\n",
       " 'Haqdarshak': [870],\n",
       " 'Enthu.ai': [872],\n",
       " 'Myelin Foundry': [873],\n",
       " 'SuperOps.ai': [874],\n",
       " '6Degree': [875],\n",
       " 'Sarathi': [877],\n",
       " 'Jidoka Technologies': [878],\n",
       " 'ElasticRun': [881],\n",
       " 'Avail Finance': [882],\n",
       " 'Nivesh': [883],\n",
       " 'Thingsup': [884],\n",
       " 'Arthya Wealth and Investments': [885],\n",
       " 'Lead School': [888],\n",
       " 'FypMoney': [890],\n",
       " 'Comofi Medtech': [892, 1068],\n",
       " 'Qube Health': [893],\n",
       " 'Vitra.ai': [894],\n",
       " 'Taikee': [895],\n",
       " 'Fitterfly': [896],\n",
       " 'FreeStand': [897],\n",
       " 'MyDentalPlan': [898],\n",
       " 'Freyr Energy': [899],\n",
       " 'Tessolve': [901],\n",
       " 'Smart Joules': [902],\n",
       " 'ORAI': [903],\n",
       " 'ixamBee': [904],\n",
       " 'Razorpay': [906],\n",
       " 'Uable': [907, 966],\n",
       " 'ZFW Hospitality': [908],\n",
       " 'Optimized Electrotech': [909],\n",
       " 'Northern Arc': [910, 1047, 1064],\n",
       " 'Chara': [911],\n",
       " 'TrulyMadly': [914],\n",
       " 'Jambox Games': [916],\n",
       " 'SuperK': [918],\n",
       " 'TagZ Foods': [919],\n",
       " 'Fuel Buddy': [920],\n",
       " 'M1xchange': [921],\n",
       " 'Spintly': [922],\n",
       " 'EF Polymer': [923],\n",
       " 'boAt': [924, 1193],\n",
       " 'TruNativ': [925],\n",
       " 'iBus': [926],\n",
       " 'Puresh Daily': [927],\n",
       " 'LearnVern': [928],\n",
       " 'LimeChat': [929],\n",
       " 'Dybo': [930],\n",
       " 'moEVing': [931],\n",
       " 'WeWork India': [932],\n",
       " 'Solethreads': [933],\n",
       " 'Beldara': [934],\n",
       " 'CredFlow': [935],\n",
       " 'Do Your Thng': [936],\n",
       " 'Oye Rickshaw': [937],\n",
       " 'Legitquest': [938],\n",
       " 'Swiggy': [939],\n",
       " 'AntWak': [940],\n",
       " 'PlayShifu': [941],\n",
       " 'Pitstop': [942],\n",
       " 'Lendingkart': [943],\n",
       " 'Karnival': [945],\n",
       " 'PharmEasy': [946],\n",
       " 'WESS': [947],\n",
       " 'ShopSe': [948],\n",
       " 'Groww ': [951],\n",
       " 'Kudos': [953],\n",
       " 'Superpro.ai': [955],\n",
       " 'ShareChat': [956],\n",
       " 'WiT-ACE': [957],\n",
       " 'Alteria Capital': [959],\n",
       " 'Safexpay': [960],\n",
       " 'Speciale Invest': [962],\n",
       " 'Eunimart': [963],\n",
       " 'CareerLabs': [965],\n",
       " 'Zoko': [967],\n",
       " 'GetWork': [968],\n",
       " 'Easebuzz': [969],\n",
       " 'DusMinute': [971],\n",
       " 'SkilloVilla': [973],\n",
       " 'Cancer Clinics': [974],\n",
       " 'Happy Jars': [976],\n",
       " 'ExtraaEdge': [978],\n",
       " 'Zotalabs': [979],\n",
       " 'Voiro': [980],\n",
       " 'Safex Chemicals': [982],\n",
       " 'Moneyboxx': [985],\n",
       " 'Janani ': [987],\n",
       " 'Bombay Shaving Company': [989, 1146],\n",
       " 'DotPe ': [990],\n",
       " 'Homingos': [991],\n",
       " 'Anar Business Community': [992],\n",
       " 'Five Star Finance': [993],\n",
       " 'Settlrs': [994],\n",
       " 'Annapurna Finance': [996],\n",
       " 'HealthPlix': [997],\n",
       " 'Masai School': [998],\n",
       " 'IndiaLends': [1000],\n",
       " 'Stelis Biopharma': [1001],\n",
       " 'Tilt ': [1002],\n",
       " 'NeoDove': [1003],\n",
       " 'Zaara Biotech': [1004],\n",
       " 'Muvin': [1007],\n",
       " 'Jeevam Health': [1010],\n",
       " 'NewLink Group': [1011],\n",
       " 'OZiva': [1012],\n",
       " 'Blive': [1013],\n",
       " 'Nazara Technologies': [1014, 1109],\n",
       " 'Euler Motors': [1015, 1056],\n",
       " 'Pixxel': [1016],\n",
       " 'Prescinto': [1017],\n",
       " 'Chirrup': [1019],\n",
       " 'Policybazaar': [1020],\n",
       " 'Livve Homes': [1021],\n",
       " 'Juicy Chemistry': [1022],\n",
       " 'Svasti Microfinance': [1023],\n",
       " 'Nexprt': [1024],\n",
       " 'Wysa ': [1025],\n",
       " 'Ankur capital': [1026],\n",
       " 'Firmway': [1028],\n",
       " 'Say Cheese': [1029],\n",
       " 'Indic Inspirations': [1030],\n",
       " 'YAP': [1032],\n",
       " 'BlackSoil NBFC': [1034],\n",
       " 'Max Healthcare': [1036],\n",
       " '4baseCare': [1037],\n",
       " 'Ezstays': [1038],\n",
       " 'Stylework': [1039],\n",
       " 'Kinara Capital': [1040],\n",
       " 'Riskcovry': [1041],\n",
       " 'NODWIN': [1042],\n",
       " 'Quizizz': [1043],\n",
       " 'Ecom Express': [1044],\n",
       " 'Turtlemint': [1045],\n",
       " 'Qoohoo': [1048],\n",
       " 'IGL': [1049],\n",
       " 'AMPM': [1050],\n",
       " 'The ePlane': [1051],\n",
       " 'Cashify': [1052],\n",
       " 'Blume Ventures': [1057],\n",
       " 'KoineArth': [1058],\n",
       " 'ImaginXP': [1059],\n",
       " 'Apna.co ': [1061],\n",
       " 'ideaForge': [1062],\n",
       " 'Clairco': [1063],\n",
       " 'Doubtnut': [1065],\n",
       " 'Hubhopper': [1066],\n",
       " 'Infra.Market ': [1067],\n",
       " 'Kutuki': [1070],\n",
       " 'Onelife': [1071],\n",
       " 'Eupheus': [1072],\n",
       " 'Pencil': [1074],\n",
       " 'Aisle': [1075],\n",
       " 'Marquee Equity': [1076],\n",
       " 'UptimeAI': [1077],\n",
       " 'WizKlub': [1078],\n",
       " 'Pariksha': [1081, 1181],\n",
       " 'Express Stores': [1082],\n",
       " 'Avataar Ventures': [1083],\n",
       " 'Phable': [1085],\n",
       " 'Supply6': [1087],\n",
       " 'Swajal': [1088],\n",
       " 'Filo': [1090],\n",
       " 'Method & Madness': [1091],\n",
       " 'EduFund': [1092],\n",
       " 'Pepperfry': [1093],\n",
       " 'Zingavita': [1094],\n",
       " 'Hypd Store': [1095],\n",
       " 'Supersourcing': [1097],\n",
       " 'AutomataPi': [1098],\n",
       " 'Newton School': [1099],\n",
       " 'TenderCuts': [1100],\n",
       " 'SarvaGram': [1102],\n",
       " 'Unlu': [1103],\n",
       " 'GlobalFair': [1104],\n",
       " 'Eduvanz': [1105],\n",
       " 'OwO': [1106],\n",
       " 'ABL Workspaces': [1108],\n",
       " 'Scentials': [1110],\n",
       " 'SplashLearn': [1111],\n",
       " 'Maya': [1112],\n",
       " 'GoTo': [1113],\n",
       " 'Remedico': [1116],\n",
       " 'PrepBytes': [1117],\n",
       " 'YourPhysio': [1119],\n",
       " 'Aviom Housing Finance': [1120],\n",
       " 'Hemp Horizons': [1121],\n",
       " 'InnerHour': [1124],\n",
       " 'Origo': [1125],\n",
       " 'ExMyB': [1126],\n",
       " 'Elucidata': [1127],\n",
       " 'Saveo': [1128],\n",
       " 'Qin1': [1129],\n",
       " 'DotPe': [1130],\n",
       " 'Taskmo': [1131],\n",
       " 'MasterMentors': [1132],\n",
       " 'KIKO TV': [1133],\n",
       " 'Quali55Care': [1134],\n",
       " 'RevFin': [1136],\n",
       " 'SeeVC': [1137],\n",
       " 'VenWiz': [1139],\n",
       " 'Vista Rooms': [1140],\n",
       " 'Makers Hive': [1141],\n",
       " 'Headfone': [1142],\n",
       " 'Zouk': [1143],\n",
       " 'GrowFix': [1145],\n",
       " 'Dunzo': [1147],\n",
       " 'BeyondSkool': [1148],\n",
       " 'Mindler': [1149],\n",
       " ...}"
      ]
     },
     "execution_count": 4,
     "metadata": {},
     "output_type": "execute_result"
    }
   ],
   "source": [
    "dup"
   ]
  },
  {
   "cell_type": "code",
   "execution_count": 5,
   "id": "708980da",
   "metadata": {},
   "outputs": [],
   "source": [
    "#need to have a counter of rows dropped to use iloc\n",
    "rows_dropped = len(drop)#duplicates\n",
    "#data = data.drop(labels=[1,15,20], axis=0)"
   ]
  },
  {
   "cell_type": "code",
   "execution_count": 6,
   "id": "2f700462",
   "metadata": {},
   "outputs": [],
   "source": [
    "india_df = india_companies_df.drop(labels=drop, axis=0)"
   ]
  },
  {
   "cell_type": "code",
   "execution_count": 7,
   "id": "75a963bc",
   "metadata": {},
   "outputs": [],
   "source": [
    "def find_index(df, name): #all company names shud be unique\n",
    "    y = 0\n",
    "    for x in df['Company/Brand']:\n",
    "        if x == name:\n",
    "            return y\n",
    "        y += 1"
   ]
  },
  {
   "cell_type": "code",
   "execution_count": 8,
   "id": "6095da14",
   "metadata": {},
   "outputs": [],
   "source": [
    "def group_stages(df):\n",
    "    stage = {}\n",
    "    #first_round = [\"Series A\",\"Series A+\",\"Series A2\"]\n",
    "    y = 0\n",
    "    for x in df['Stage']:\n",
    "        if x not in stage.keys():\n",
    "            stage[x] = [y]\n",
    "        else:\n",
    "            stage[x] += [y]\n",
    "    \n",
    "        y += 1\n",
    "    return stage"
   ]
  },
  {
   "cell_type": "code",
   "execution_count": 9,
   "id": "951a4465",
   "metadata": {},
   "outputs": [],
   "source": [
    "def get_values(df):\n",
    "    value = {}\n",
    "    y = 0\n",
    "    for x in india_df['Amount ($)']:\n",
    "        if x not in value.keys():\n",
    "            value[x] = [y]\n",
    "        else:\n",
    "            value[x] += [y]\n",
    "    \n",
    "        y += 1\n",
    "    return value"
   ]
  },
  {
   "cell_type": "code",
   "execution_count": 10,
   "id": "19fbc251",
   "metadata": {},
   "outputs": [],
   "source": [
    "#find the range of series b funding\n",
    "#Clean the amount col firstttt\n",
    "def funding(df,st, col):\n",
    "    '''stage : type string\n",
    "       col   : type string \n",
    "    '''\n",
    "    mins = 0\n",
    "    maxs = 0\n",
    "    for y in stage[st]:\n",
    "        if mins == 0 and maxs == 0:\n",
    "            mins = int(df[col][y])\n",
    "            maxs = int(df[col][y])\n",
    "            \n",
    "        elif int(df[col][y]) < mins :\n",
    "            mins = int(df[col][y])\n",
    "            \n",
    "        elif maxs < int(df[col][y]):\n",
    "            maxs = int(df[col][y])\n",
    "            \n",
    "        #print(india_companies_df[col][y]) # not required\n",
    "    return (mins, maxs)"
   ]
  },
  {
   "cell_type": "code",
   "execution_count": 11,
   "id": "76ea07ce",
   "metadata": {},
   "outputs": [],
   "source": [
    "def change_stage_name(df, row,name):\n",
    "    index = find_index(india_companies_df, df.iloc[row][1])\n",
    "    india_df['Stage'][index] = name "
   ]
  },
  {
   "cell_type": "code",
   "execution_count": null,
   "id": "3dc3ffdd",
   "metadata": {},
   "outputs": [],
   "source": []
  },
  {
   "cell_type": "code",
   "execution_count": null,
   "id": "610762c9",
   "metadata": {},
   "outputs": [],
   "source": []
  },
  {
   "cell_type": "code",
   "execution_count": 12,
   "id": "a7e0f735",
   "metadata": {},
   "outputs": [
    {
     "data": {
      "text/html": [
       "<div>\n",
       "<style scoped>\n",
       "    .dataframe tbody tr th:only-of-type {\n",
       "        vertical-align: middle;\n",
       "    }\n",
       "\n",
       "    .dataframe tbody tr th {\n",
       "        vertical-align: top;\n",
       "    }\n",
       "\n",
       "    .dataframe thead th {\n",
       "        text-align: right;\n",
       "    }\n",
       "</style>\n",
       "<table border=\"1\" class=\"dataframe\">\n",
       "  <thead>\n",
       "    <tr style=\"text-align: right;\">\n",
       "      <th></th>\n",
       "      <th>Month</th>\n",
       "      <th>Company/Brand</th>\n",
       "      <th>Founded</th>\n",
       "      <th>Headquarters</th>\n",
       "      <th>Sector</th>\n",
       "      <th>What it does</th>\n",
       "      <th>Founder/s</th>\n",
       "      <th>Investor/s</th>\n",
       "      <th>Amount ($)</th>\n",
       "      <th>Stage</th>\n",
       "    </tr>\n",
       "  </thead>\n",
       "  <tbody>\n",
       "    <tr>\n",
       "      <th>0</th>\n",
       "      <td>December</td>\n",
       "      <td>CollegeDekho</td>\n",
       "      <td>2015.0</td>\n",
       "      <td>Gurgaon</td>\n",
       "      <td>E-learning</td>\n",
       "      <td>Collegedekho.com is Student’s Partner, Friend ...</td>\n",
       "      <td>Ruchir Arora</td>\n",
       "      <td>Disrupt ADQ, QIC</td>\n",
       "      <td>35000000</td>\n",
       "      <td>Series B</td>\n",
       "    </tr>\n",
       "    <tr>\n",
       "      <th>1</th>\n",
       "      <td>December</td>\n",
       "      <td>BOX8</td>\n",
       "      <td>2012.0</td>\n",
       "      <td>Mumbai</td>\n",
       "      <td>Food &amp; Beverages</td>\n",
       "      <td>India's Largest Desi Meals Brand</td>\n",
       "      <td>Anshul Gupta, Amit Raj</td>\n",
       "      <td>Tiger Global</td>\n",
       "      <td>40000000</td>\n",
       "      <td>NaN</td>\n",
       "    </tr>\n",
       "    <tr>\n",
       "      <th>2</th>\n",
       "      <td>December</td>\n",
       "      <td>Simpl</td>\n",
       "      <td>2015.0</td>\n",
       "      <td>Bangalore</td>\n",
       "      <td>Consumer Services</td>\n",
       "      <td>Simpl empowers merchants to build trusted rela...</td>\n",
       "      <td>Nitya, Chaitra Chidanand</td>\n",
       "      <td>Valar Ventures, IA Ventures</td>\n",
       "      <td>40000000</td>\n",
       "      <td>Series B</td>\n",
       "    </tr>\n",
       "    <tr>\n",
       "      <th>3</th>\n",
       "      <td>December</td>\n",
       "      <td>8i Ventures</td>\n",
       "      <td>2018.0</td>\n",
       "      <td>Mumbai</td>\n",
       "      <td>Venture Capital &amp; Private Equity</td>\n",
       "      <td>8i is a Mumbai &amp; Bangalore based early stage f...</td>\n",
       "      <td>Vikram Chachra</td>\n",
       "      <td>NaN</td>\n",
       "      <td>50000000</td>\n",
       "      <td>NaN</td>\n",
       "    </tr>\n",
       "    <tr>\n",
       "      <th>4</th>\n",
       "      <td>December</td>\n",
       "      <td>PayGlocal</td>\n",
       "      <td>2021.0</td>\n",
       "      <td>Bangalore</td>\n",
       "      <td>Financial Services</td>\n",
       "      <td>PayGlocal is a FinTech solving for global paym...</td>\n",
       "      <td>Prachi Dharani, Rohit Sukhija, Yogesh Lokhande</td>\n",
       "      <td>Sequoia Capital India</td>\n",
       "      <td>4900000</td>\n",
       "      <td>Series A</td>\n",
       "    </tr>\n",
       "    <tr>\n",
       "      <th>...</th>\n",
       "      <td>...</td>\n",
       "      <td>...</td>\n",
       "      <td>...</td>\n",
       "      <td>...</td>\n",
       "      <td>...</td>\n",
       "      <td>...</td>\n",
       "      <td>...</td>\n",
       "      <td>...</td>\n",
       "      <td>...</td>\n",
       "      <td>...</td>\n",
       "    </tr>\n",
       "    <tr>\n",
       "      <th>1203</th>\n",
       "      <td>January</td>\n",
       "      <td>BlackSoil</td>\n",
       "      <td>2016.0</td>\n",
       "      <td>Mumbai</td>\n",
       "      <td>FinTech</td>\n",
       "      <td>Blacksoil Advisory is an independent boutique ...</td>\n",
       "      <td>Ankur Bansal</td>\n",
       "      <td>Awign Enterprises</td>\n",
       "      <td>4000000</td>\n",
       "      <td>NaN</td>\n",
       "    </tr>\n",
       "    <tr>\n",
       "      <th>1204</th>\n",
       "      <td>January</td>\n",
       "      <td>HobSpace</td>\n",
       "      <td>2019.0</td>\n",
       "      <td>Mumbai</td>\n",
       "      <td>EdTech</td>\n",
       "      <td>HobSpace is a platform for extra-curricular ac...</td>\n",
       "      <td>Priya Goel Sheth, Harsh Jain</td>\n",
       "      <td>Siddharth Bhaskar Shah, Upsparks</td>\n",
       "      <td>100000</td>\n",
       "      <td>Pre-series A1</td>\n",
       "    </tr>\n",
       "    <tr>\n",
       "      <th>1205</th>\n",
       "      <td>January</td>\n",
       "      <td>DcodeAI</td>\n",
       "      <td>2020.0</td>\n",
       "      <td>New Delhi</td>\n",
       "      <td>EdTech</td>\n",
       "      <td>EMPOWER LEARNERS TO BE FUTURE READY USING AI</td>\n",
       "      <td>Kartik Sharma, Ashish Aggarwal</td>\n",
       "      <td>S Chand</td>\n",
       "      <td>500000</td>\n",
       "      <td>NaN</td>\n",
       "    </tr>\n",
       "    <tr>\n",
       "      <th>1206</th>\n",
       "      <td>January</td>\n",
       "      <td>Biocon Biologics</td>\n",
       "      <td>1978.0</td>\n",
       "      <td>Bangalore</td>\n",
       "      <td>BioTechnology</td>\n",
       "      <td>Biocon is a fully integrated pure play biosimi...</td>\n",
       "      <td>Kiran Mazumdar-Shaw</td>\n",
       "      <td>Goldman Sachs, Tata Capital</td>\n",
       "      <td>70000000</td>\n",
       "      <td>NaN</td>\n",
       "    </tr>\n",
       "    <tr>\n",
       "      <th>1207</th>\n",
       "      <td>January</td>\n",
       "      <td>KiranaKart</td>\n",
       "      <td>2020.0</td>\n",
       "      <td>Mumbai</td>\n",
       "      <td>E-commerce</td>\n",
       "      <td>A better model for instant grocery delivery in...</td>\n",
       "      <td>Kaivalya Vohra, Aadit Palicha</td>\n",
       "      <td>Global Founders Capital</td>\n",
       "      <td>720000</td>\n",
       "      <td>Pre-seed</td>\n",
       "    </tr>\n",
       "  </tbody>\n",
       "</table>\n",
       "<p>1037 rows × 10 columns</p>\n",
       "</div>"
      ],
      "text/plain": [
       "         Month     Company/Brand  Founded Headquarters  \\\n",
       "0     December      CollegeDekho   2015.0      Gurgaon   \n",
       "1     December              BOX8   2012.0       Mumbai   \n",
       "2     December             Simpl   2015.0    Bangalore   \n",
       "3     December       8i Ventures   2018.0       Mumbai   \n",
       "4     December         PayGlocal   2021.0    Bangalore   \n",
       "...        ...               ...      ...          ...   \n",
       "1203   January         BlackSoil   2016.0       Mumbai   \n",
       "1204   January          HobSpace   2019.0       Mumbai   \n",
       "1205   January           DcodeAI   2020.0    New Delhi   \n",
       "1206   January  Biocon Biologics   1978.0    Bangalore   \n",
       "1207   January        KiranaKart   2020.0       Mumbai   \n",
       "\n",
       "                                Sector  \\\n",
       "0                           E-learning   \n",
       "1                     Food & Beverages   \n",
       "2                    Consumer Services   \n",
       "3     Venture Capital & Private Equity   \n",
       "4                   Financial Services   \n",
       "...                                ...   \n",
       "1203                           FinTech   \n",
       "1204                            EdTech   \n",
       "1205                            EdTech   \n",
       "1206                     BioTechnology   \n",
       "1207                       E-commerce    \n",
       "\n",
       "                                           What it does  \\\n",
       "0     Collegedekho.com is Student’s Partner, Friend ...   \n",
       "1                      India's Largest Desi Meals Brand   \n",
       "2     Simpl empowers merchants to build trusted rela...   \n",
       "3     8i is a Mumbai & Bangalore based early stage f...   \n",
       "4     PayGlocal is a FinTech solving for global paym...   \n",
       "...                                                 ...   \n",
       "1203  Blacksoil Advisory is an independent boutique ...   \n",
       "1204  HobSpace is a platform for extra-curricular ac...   \n",
       "1205       EMPOWER LEARNERS TO BE FUTURE READY USING AI   \n",
       "1206  Biocon is a fully integrated pure play biosimi...   \n",
       "1207  A better model for instant grocery delivery in...   \n",
       "\n",
       "                                           Founder/s  \\\n",
       "0                                       Ruchir Arora   \n",
       "1                             Anshul Gupta, Amit Raj   \n",
       "2                           Nitya, Chaitra Chidanand   \n",
       "3                                     Vikram Chachra   \n",
       "4     Prachi Dharani, Rohit Sukhija, Yogesh Lokhande   \n",
       "...                                              ...   \n",
       "1203                                    Ankur Bansal   \n",
       "1204                    Priya Goel Sheth, Harsh Jain   \n",
       "1205                  Kartik Sharma, Ashish Aggarwal   \n",
       "1206                             Kiran Mazumdar-Shaw   \n",
       "1207                   Kaivalya Vohra, Aadit Palicha   \n",
       "\n",
       "                            Investor/s Amount ($)          Stage  \n",
       "0                     Disrupt ADQ, QIC   35000000       Series B  \n",
       "1                         Tiger Global   40000000            NaN  \n",
       "2          Valar Ventures, IA Ventures   40000000       Series B  \n",
       "3                                  NaN   50000000            NaN  \n",
       "4                Sequoia Capital India    4900000       Series A  \n",
       "...                                ...        ...            ...  \n",
       "1203                 Awign Enterprises    4000000            NaN  \n",
       "1204  Siddharth Bhaskar Shah, Upsparks     100000  Pre-series A1  \n",
       "1205                           S Chand     500000            NaN  \n",
       "1206       Goldman Sachs, Tata Capital   70000000            NaN  \n",
       "1207           Global Founders Capital     720000       Pre-seed  \n",
       "\n",
       "[1037 rows x 10 columns]"
      ]
     },
     "execution_count": 12,
     "metadata": {},
     "output_type": "execute_result"
    }
   ],
   "source": [
    "india_df"
   ]
  },
  {
   "cell_type": "code",
   "execution_count": 13,
   "id": "76196a43",
   "metadata": {},
   "outputs": [
    {
     "data": {
      "text/plain": [
       "1209"
      ]
     },
     "execution_count": 13,
     "metadata": {},
     "output_type": "execute_result"
    }
   ],
   "source": [
    "len(india_companies_df) #indicates we have duplicates"
   ]
  },
  {
   "cell_type": "code",
   "execution_count": 14,
   "id": "c2479699",
   "metadata": {},
   "outputs": [],
   "source": [
    "india_df = india_df.drop(columns = ['Founder/s','What it does'])"
   ]
  },
  {
   "cell_type": "code",
   "execution_count": 15,
   "id": "1dbd869a",
   "metadata": {},
   "outputs": [],
   "source": [
    "#for x in range india_companies_df['Amount ($)']:"
   ]
  },
  {
   "cell_type": "code",
   "execution_count": 16,
   "id": "cc12fecd",
   "metadata": {},
   "outputs": [
    {
     "data": {
      "text/plain": [
       "Seed             220\n",
       "Pre-series A     128\n",
       "Series A         111\n",
       "Pre-seed          45\n",
       "Series B          43\n",
       "Series C          37\n",
       "Series D          15\n",
       "Series E          15\n",
       "Debt              12\n",
       "Pre-Series A       9\n",
       "Pre-series B       8\n",
       "Series F           4\n",
       "Pre-series A1      4\n",
       "Series G           2\n",
       "Bridge             2\n",
       "Pre-series         2\n",
       "300000             2\n",
       "Series D1          1\n",
       "Seies A            1\n",
       "1000000            1\n",
       "6000000            1\n",
       "Seed+              1\n",
       "Early seed         1\n",
       "Series F2          1\n",
       "1200000            1\n",
       "Series A2          1\n",
       "Series F1          1\n",
       "Name: Stage, dtype: int64"
      ]
     },
     "execution_count": 16,
     "metadata": {},
     "output_type": "execute_result"
    }
   ],
   "source": [
    "india_df['Stage'].value_counts()"
   ]
  },
  {
   "cell_type": "code",
   "execution_count": 17,
   "id": "51aea747",
   "metadata": {},
   "outputs": [
    {
     "data": {
      "text/plain": [
       "Undisclosed    116\n",
       "1000000         74\n",
       "2000000         57\n",
       "3000000         43\n",
       "5000000         36\n",
       "              ... \n",
       "130000           1\n",
       "4200000          1\n",
       "2700000          1\n",
       "550000           1\n",
       "720000           1\n",
       "Name: Amount ($), Length: 186, dtype: int64"
      ]
     },
     "execution_count": 17,
     "metadata": {},
     "output_type": "execute_result"
    }
   ],
   "source": [
    "india_df['Amount ($)'].value_counts()"
   ]
  },
  {
   "cell_type": "code",
   "execution_count": 18,
   "id": "d808f863",
   "metadata": {},
   "outputs": [],
   "source": [
    "value = get_values(india_df)"
   ]
  },
  {
   "cell_type": "code",
   "execution_count": 19,
   "id": "b8d0c7d8",
   "metadata": {
    "scrolled": true
   },
   "outputs": [
    {
     "data": {
      "text/plain": [
       "dict_keys(['35000000', '40000000', '50000000', '4900000', '145000000', '22000000', '10000000', '13000000', '70000000', '100000000', '6700000', '30000000', '7000000', '5000000', '6600000', '32000000', '150000000', '24000000', '700000', 'Undisclosed', '200000', '1500000', '1300000', '1000000', '725000', '500000', '461000', 'Series C', 'Seed', '96000000', '4000000', '60000000', '20000000', '500000000', '266000000', '4500000', '1200000', '300000', '9500000', '325000000', '6500000', '1600000', '400000', '225000', '85000000', '235000', '260000', '2900000', '12000000', '53000000', '3500000', '3000000', '1100000', '150000', '86000000', '130000', '10000', '111000000', '37000000', '6000000', '265000', '76000000', '2000000', '3300000', '92000000', '600000', '100000', '17000000', '2500000', '135000000', '8000000', '15000000', '5500000', '155000', '2100000', '25000000', '21000000', '840000000', '248000000', '220000000', '4300000', '570000', '2200000', '4700000', '300000000', '52000000', '28000000', '260000000', '140000000', '175000000', '19000000', '200000000', '810000', '7500000', '600000000', '125000000', '90000000', '250000000', '11000000', '2300000', '5700000', '6750000', '75000000', '78000000', '3200000', '5400000', '115000000', '1900000', '255000000', '18000000', '48000000', '570000000', '550000', '2700000', '4200000', nan, '1700000', '450000000', '31000000', '540000', '14000000', '340000', '900000', '6200000', '800000', '750000', '6300000', '320000', '23000000', '55000000', 'Upsparks', '225000000', '250000', '3800000', '17500000', '42000000', '16000000', 'undisclosed', '44000000', '770000', '9000000', '1800000', '330000', '36000000', '67000000', '10200000', '450000', 'ah! Ventures', 'Pre-series A', 'ITO Angel Network, LetsVenture', '3600000', '65000000', '1400000', '370000', '41000000', '144000000', '5200000', '140000', '4800000', '38000000', '125000', '26000000', '64000000', '620000', 'JITO Angel Network, LetsVenture', '350000', '49000000', '160000000', '850000', '7400000', '800000000', '350000000', '83000000', '150000000000', '1250000', '27000000', '234000000', '13500000', '5100000', '195000000', '2600000', '7300000', '12500000', '45000000', '81000000', '280000000', '720000'])"
      ]
     },
     "execution_count": 19,
     "metadata": {},
     "output_type": "execute_result"
    }
   ],
   "source": [
    "value.keys() # want to work through every non numeric value"
   ]
  },
  {
   "cell_type": "code",
   "execution_count": 20,
   "id": "e324eedb",
   "metadata": {},
   "outputs": [
    {
     "data": {
      "text/plain": [
       "[318, 355, 364, 714]"
      ]
     },
     "execution_count": 20,
     "metadata": {},
     "output_type": "execute_result"
    }
   ],
   "source": [
    "value[nan]"
   ]
  },
  {
   "cell_type": "code",
   "execution_count": 21,
   "id": "4b97523a",
   "metadata": {},
   "outputs": [
    {
     "data": {
      "text/plain": [
       "[506, 507, 521, 524, 551]"
      ]
     },
     "execution_count": 21,
     "metadata": {},
     "output_type": "execute_result"
    }
   ],
   "source": [
    "value['undisclosed']"
   ]
  },
  {
   "cell_type": "code",
   "execution_count": 22,
   "id": "40a457d3",
   "metadata": {},
   "outputs": [
    {
     "data": {
      "text/plain": [
       "[22,\n",
       " 73,\n",
       " 77,\n",
       " 78,\n",
       " 90,\n",
       " 92,\n",
       " 137,\n",
       " 139,\n",
       " 175,\n",
       " 182,\n",
       " 183,\n",
       " 186,\n",
       " 263,\n",
       " 280,\n",
       " 282,\n",
       " 290,\n",
       " 297,\n",
       " 306,\n",
       " 311,\n",
       " 334,\n",
       " 336,\n",
       " 345,\n",
       " 346,\n",
       " 378,\n",
       " 379,\n",
       " 384,\n",
       " 411,\n",
       " 435,\n",
       " 443,\n",
       " 449,\n",
       " 451,\n",
       " 459,\n",
       " 464,\n",
       " 483,\n",
       " 487,\n",
       " 556,\n",
       " 563,\n",
       " 565,\n",
       " 566,\n",
       " 583,\n",
       " 593,\n",
       " 594,\n",
       " 600,\n",
       " 603,\n",
       " 608,\n",
       " 609,\n",
       " 615,\n",
       " 622,\n",
       " 623,\n",
       " 625,\n",
       " 628,\n",
       " 630,\n",
       " 636,\n",
       " 642,\n",
       " 643,\n",
       " 645,\n",
       " 648,\n",
       " 649,\n",
       " 658,\n",
       " 659,\n",
       " 665,\n",
       " 678,\n",
       " 685,\n",
       " 689,\n",
       " 692,\n",
       " 695,\n",
       " 699,\n",
       " 700,\n",
       " 707,\n",
       " 709,\n",
       " 711,\n",
       " 716,\n",
       " 719,\n",
       " 724,\n",
       " 727,\n",
       " 728,\n",
       " 729,\n",
       " 730,\n",
       " 735,\n",
       " 737,\n",
       " 738,\n",
       " 745,\n",
       " 747,\n",
       " 752,\n",
       " 754,\n",
       " 758,\n",
       " 766,\n",
       " 769,\n",
       " 774,\n",
       " 787,\n",
       " 807,\n",
       " 808,\n",
       " 819,\n",
       " 833,\n",
       " 848,\n",
       " 857,\n",
       " 881,\n",
       " 882,\n",
       " 884,\n",
       " 908,\n",
       " 910,\n",
       " 937,\n",
       " 940,\n",
       " 943,\n",
       " 958,\n",
       " 974,\n",
       " 980,\n",
       " 983,\n",
       " 987,\n",
       " 988,\n",
       " 989,\n",
       " 995,\n",
       " 1016,\n",
       " 1017,\n",
       " 1019,\n",
       " 1031]"
      ]
     },
     "execution_count": 22,
     "metadata": {},
     "output_type": "execute_result"
    }
   ],
   "source": [
    "value['Undisclosed']"
   ]
  },
  {
   "cell_type": "code",
   "execution_count": 23,
   "id": "f2b9f564",
   "metadata": {},
   "outputs": [],
   "source": [
    "#undisclosed,ah! Ventures,Pre-series A,'ITO Angel Network, LetsVenture','JITO Angel Network, LetsVenture',"
   ]
  },
  {
   "cell_type": "code",
   "execution_count": 24,
   "id": "926afbaf",
   "metadata": {},
   "outputs": [
    {
     "data": {
      "text/plain": [
       "[717]"
      ]
     },
     "execution_count": 24,
     "metadata": {},
     "output_type": "execute_result"
    }
   ],
   "source": [
    "value['JITO Angel Network, LetsVenture']"
   ]
  },
  {
   "cell_type": "code",
   "execution_count": 25,
   "id": "83c327fe",
   "metadata": {},
   "outputs": [
    {
     "data": {
      "text/plain": [
       "Month                                       June\n",
       "Company/Brand                   Saarthi Pedagogy\n",
       "Founded                                   2015.0\n",
       "Headquarters                           Ahmadabad\n",
       "Sector                                    EdTech\n",
       "Investor/s                        Sushil Agarwal\n",
       "Amount ($)       JITO Angel Network, LetsVenture\n",
       "Stage                                    1000000\n",
       "Name: 787, dtype: object"
      ]
     },
     "execution_count": 25,
     "metadata": {},
     "output_type": "execute_result"
    }
   ],
   "source": [
    "india_df.iloc[717]#df.iloc[0, df.columns.get_loc('COL_NAME')] = x"
   ]
  },
  {
   "cell_type": "code",
   "execution_count": 26,
   "id": "253b9dba",
   "metadata": {},
   "outputs": [
    {
     "data": {
      "text/plain": [
       "'Sushil Agarwal'"
      ]
     },
     "execution_count": 26,
     "metadata": {},
     "output_type": "execute_result"
    }
   ],
   "source": [
    "india_df['Investor/s'][787]"
   ]
  },
  {
   "cell_type": "code",
   "execution_count": 27,
   "id": "2c187b51",
   "metadata": {},
   "outputs": [
    {
     "name": "stderr",
     "output_type": "stream",
     "text": [
      "C:\\Users\\Acer\\AppData\\Local\\Temp/ipykernel_25328/4214881463.py:1: SettingWithCopyWarning: \n",
      "A value is trying to be set on a copy of a slice from a DataFrame\n",
      "\n",
      "See the caveats in the documentation: https://pandas.pydata.org/pandas-docs/stable/user_guide/indexing.html#returning-a-view-versus-a-copy\n",
      "  india_df['Investor/s'][787] = india_df['Investor/s'][787] + ', '+ india_df['Amount ($)'][787]\n"
     ]
    }
   ],
   "source": [
    "india_df['Investor/s'][787] = india_df['Investor/s'][787] + ', '+ india_df['Amount ($)'][787]"
   ]
  },
  {
   "cell_type": "code",
   "execution_count": 28,
   "id": "15d5c691",
   "metadata": {},
   "outputs": [
    {
     "data": {
      "text/plain": [
       "'Sushil Agarwal, JITO Angel Network, LetsVenture'"
      ]
     },
     "execution_count": 28,
     "metadata": {},
     "output_type": "execute_result"
    }
   ],
   "source": [
    "india_df['Investor/s'][787]"
   ]
  },
  {
   "cell_type": "code",
   "execution_count": 29,
   "id": "5b542869",
   "metadata": {},
   "outputs": [
    {
     "data": {
      "text/plain": [
       "Month                                                       June\n",
       "Company/Brand                                   Saarthi Pedagogy\n",
       "Founded                                                   2015.0\n",
       "Headquarters                                           Ahmadabad\n",
       "Sector                                                    EdTech\n",
       "Investor/s       Sushil Agarwal, JITO Angel Network, LetsVenture\n",
       "Amount ($)                       JITO Angel Network, LetsVenture\n",
       "Stage                                                    1000000\n",
       "Name: 787, dtype: object"
      ]
     },
     "execution_count": 29,
     "metadata": {},
     "output_type": "execute_result"
    }
   ],
   "source": [
    "india_df.iloc[717]"
   ]
  },
  {
   "cell_type": "code",
   "execution_count": 30,
   "id": "4b3c88f7",
   "metadata": {},
   "outputs": [
    {
     "name": "stderr",
     "output_type": "stream",
     "text": [
      "C:\\Users\\Acer\\AppData\\Local\\Temp/ipykernel_25328/3030007329.py:1: SettingWithCopyWarning: \n",
      "A value is trying to be set on a copy of a slice from a DataFrame\n",
      "\n",
      "See the caveats in the documentation: https://pandas.pydata.org/pandas-docs/stable/user_guide/indexing.html#returning-a-view-versus-a-copy\n",
      "  india_df['Amount ($)'][787] = india_df['Stage'][787]\n"
     ]
    }
   ],
   "source": [
    "india_df['Amount ($)'][787] = india_df['Stage'][787]"
   ]
  },
  {
   "cell_type": "code",
   "execution_count": 31,
   "id": "01fa20c3",
   "metadata": {},
   "outputs": [
    {
     "name": "stderr",
     "output_type": "stream",
     "text": [
      "C:\\Users\\Acer\\AppData\\Local\\Temp/ipykernel_25328/3032095239.py:1: SettingWithCopyWarning: \n",
      "A value is trying to be set on a copy of a slice from a DataFrame\n",
      "\n",
      "See the caveats in the documentation: https://pandas.pydata.org/pandas-docs/stable/user_guide/indexing.html#returning-a-view-versus-a-copy\n",
      "  india_df['Stage'][787] = math.nan\n"
     ]
    }
   ],
   "source": [
    "india_df['Stage'][787] = math.nan"
   ]
  },
  {
   "cell_type": "code",
   "execution_count": 32,
   "id": "ccb146c9",
   "metadata": {},
   "outputs": [
    {
     "data": {
      "text/plain": [
       "Month                                                       June\n",
       "Company/Brand                                   Saarthi Pedagogy\n",
       "Founded                                                   2015.0\n",
       "Headquarters                                           Ahmadabad\n",
       "Sector                                                    EdTech\n",
       "Investor/s       Sushil Agarwal, JITO Angel Network, LetsVenture\n",
       "Amount ($)                                               1000000\n",
       "Stage                                                        NaN\n",
       "Name: 787, dtype: object"
      ]
     },
     "execution_count": 32,
     "metadata": {},
     "output_type": "execute_result"
    }
   ],
   "source": [
    "india_df.iloc[717]"
   ]
  },
  {
   "cell_type": "code",
   "execution_count": 33,
   "id": "7132b8d8",
   "metadata": {},
   "outputs": [
    {
     "data": {
      "text/plain": [
       "[30]"
      ]
     },
     "execution_count": 33,
     "metadata": {},
     "output_type": "execute_result"
    }
   ],
   "source": [
    "value['Series C']"
   ]
  },
  {
   "cell_type": "code",
   "execution_count": 34,
   "id": "395a54b0",
   "metadata": {},
   "outputs": [
    {
     "data": {
      "text/plain": [
       "Month                                                     December\n",
       "Company/Brand                                   Fullife Healthcare\n",
       "Founded                                                     2009.0\n",
       "Headquarters                                 Pharmaceuticals #REF!\n",
       "Sector           Primary Business is Development and Manufactur...\n",
       "Investor/s                                                22000000\n",
       "Amount ($)                                                Series C\n",
       "Stage                                                          NaN\n",
       "Name: 30, dtype: object"
      ]
     },
     "execution_count": 34,
     "metadata": {},
     "output_type": "execute_result"
    }
   ],
   "source": [
    "india_df.iloc[30]"
   ]
  },
  {
   "cell_type": "code",
   "execution_count": 35,
   "id": "72ee00fe",
   "metadata": {},
   "outputs": [
    {
     "name": "stderr",
     "output_type": "stream",
     "text": [
      "C:\\Users\\Acer\\AppData\\Local\\Temp/ipykernel_25328/321561579.py:1: SettingWithCopyWarning: \n",
      "A value is trying to be set on a copy of a slice from a DataFrame\n",
      "\n",
      "See the caveats in the documentation: https://pandas.pydata.org/pandas-docs/stable/user_guide/indexing.html#returning-a-view-versus-a-copy\n",
      "  india_df['Stage'][30] = india_df['Amount ($)'][30]\n",
      "C:\\Users\\Acer\\AppData\\Local\\Temp/ipykernel_25328/321561579.py:2: SettingWithCopyWarning: \n",
      "A value is trying to be set on a copy of a slice from a DataFrame\n",
      "\n",
      "See the caveats in the documentation: https://pandas.pydata.org/pandas-docs/stable/user_guide/indexing.html#returning-a-view-versus-a-copy\n",
      "  india_df['Amount ($)'][30] = india_df['Investor/s'][30]\n",
      "C:\\Users\\Acer\\AppData\\Local\\Temp/ipykernel_25328/321561579.py:3: SettingWithCopyWarning: \n",
      "A value is trying to be set on a copy of a slice from a DataFrame\n",
      "\n",
      "See the caveats in the documentation: https://pandas.pydata.org/pandas-docs/stable/user_guide/indexing.html#returning-a-view-versus-a-copy\n",
      "  india_df['Investor/s'][30] = math.nan\n"
     ]
    }
   ],
   "source": [
    "india_df['Stage'][30] = india_df['Amount ($)'][30]\n",
    "india_df['Amount ($)'][30] = india_df['Investor/s'][30]\n",
    "india_df['Investor/s'][30] = math.nan"
   ]
  },
  {
   "cell_type": "code",
   "execution_count": 36,
   "id": "2b826d56",
   "metadata": {
    "scrolled": true
   },
   "outputs": [
    {
     "data": {
      "text/plain": [
       "Month                                                     December\n",
       "Company/Brand                                   Fullife Healthcare\n",
       "Founded                                                     2009.0\n",
       "Headquarters                                 Pharmaceuticals #REF!\n",
       "Sector           Primary Business is Development and Manufactur...\n",
       "Investor/s                                                     NaN\n",
       "Amount ($)                                                22000000\n",
       "Stage                                                     Series C\n",
       "Name: 30, dtype: object"
      ]
     },
     "execution_count": 36,
     "metadata": {},
     "output_type": "execute_result"
    }
   ],
   "source": [
    "india_df.iloc[30]"
   ]
  },
  {
   "cell_type": "code",
   "execution_count": 37,
   "id": "549e76d8",
   "metadata": {},
   "outputs": [
    {
     "data": {
      "text/plain": [
       "[31, 366]"
      ]
     },
     "execution_count": 37,
     "metadata": {},
     "output_type": "execute_result"
    }
   ],
   "source": [
    "value['Seed']"
   ]
  },
  {
   "cell_type": "code",
   "execution_count": 38,
   "id": "7e9d4196",
   "metadata": {},
   "outputs": [
    {
     "data": {
      "text/plain": [
       "Month                                                     December\n",
       "Company/Brand                                              MoEVing\n",
       "Founded                                                     2021.0\n",
       "Headquarters                                        Gurugram #REF!\n",
       "Sector           MoEVing is India's only Electric Mobility focu...\n",
       "Investor/s                                                 5000000\n",
       "Amount ($)                                                    Seed\n",
       "Stage                                                          NaN\n",
       "Name: 45, dtype: object"
      ]
     },
     "execution_count": 38,
     "metadata": {},
     "output_type": "execute_result"
    }
   ],
   "source": [
    "india_df.iloc[31]"
   ]
  },
  {
   "cell_type": "code",
   "execution_count": 39,
   "id": "ad287b2e",
   "metadata": {},
   "outputs": [
    {
     "data": {
      "text/plain": [
       "'MoEVing'"
      ]
     },
     "execution_count": 39,
     "metadata": {},
     "output_type": "execute_result"
    }
   ],
   "source": [
    "india_df['Company/Brand'][45]"
   ]
  },
  {
   "cell_type": "code",
   "execution_count": 40,
   "id": "b08995e1",
   "metadata": {},
   "outputs": [
    {
     "name": "stderr",
     "output_type": "stream",
     "text": [
      "C:\\Users\\Acer\\AppData\\Local\\Temp/ipykernel_25328/3682406484.py:1: SettingWithCopyWarning: \n",
      "A value is trying to be set on a copy of a slice from a DataFrame\n",
      "\n",
      "See the caveats in the documentation: https://pandas.pydata.org/pandas-docs/stable/user_guide/indexing.html#returning-a-view-versus-a-copy\n",
      "  india_df['Stage'][45] = india_df['Amount ($)'][45]\n",
      "C:\\Users\\Acer\\AppData\\Local\\Temp/ipykernel_25328/3682406484.py:2: SettingWithCopyWarning: \n",
      "A value is trying to be set on a copy of a slice from a DataFrame\n",
      "\n",
      "See the caveats in the documentation: https://pandas.pydata.org/pandas-docs/stable/user_guide/indexing.html#returning-a-view-versus-a-copy\n",
      "  india_df['Amount ($)'][45] = india_df['Investor/s'][45]\n",
      "C:\\Users\\Acer\\AppData\\Local\\Temp/ipykernel_25328/3682406484.py:3: SettingWithCopyWarning: \n",
      "A value is trying to be set on a copy of a slice from a DataFrame\n",
      "\n",
      "See the caveats in the documentation: https://pandas.pydata.org/pandas-docs/stable/user_guide/indexing.html#returning-a-view-versus-a-copy\n",
      "  india_df['Investor/s'][45] = math.nan\n"
     ]
    }
   ],
   "source": [
    "india_df['Stage'][45] = india_df['Amount ($)'][45]\n",
    "india_df['Amount ($)'][45] = india_df['Investor/s'][45]\n",
    "india_df['Investor/s'][45] = math.nan"
   ]
  },
  {
   "cell_type": "code",
   "execution_count": 41,
   "id": "b6a0b8fc",
   "metadata": {
    "scrolled": true
   },
   "outputs": [
    {
     "data": {
      "text/plain": [
       "Month                                                     December\n",
       "Company/Brand                                              MoEVing\n",
       "Founded                                                     2021.0\n",
       "Headquarters                                        Gurugram #REF!\n",
       "Sector           MoEVing is India's only Electric Mobility focu...\n",
       "Investor/s                                                     NaN\n",
       "Amount ($)                                                 5000000\n",
       "Stage                                                         Seed\n",
       "Name: 45, dtype: object"
      ]
     },
     "execution_count": 41,
     "metadata": {},
     "output_type": "execute_result"
    }
   ],
   "source": [
    "india_df.iloc[31]"
   ]
  },
  {
   "cell_type": "code",
   "execution_count": 42,
   "id": "a1abe905",
   "metadata": {},
   "outputs": [
    {
     "data": {
      "text/plain": [
       "Month                           September\n",
       "Company/Brand                   Godamwale\n",
       "Founded                            2016.0\n",
       "Headquarters                       Mumbai\n",
       "Sector           Logistics & Supply Chain\n",
       "Investor/s                  1000000 #REF!\n",
       "Amount ($)                           Seed\n",
       "Stage                                 NaN\n",
       "Name: 383, dtype: object"
      ]
     },
     "execution_count": 42,
     "metadata": {},
     "output_type": "execute_result"
    }
   ],
   "source": [
    "india_df.iloc[366]"
   ]
  },
  {
   "cell_type": "code",
   "execution_count": 43,
   "id": "57966062",
   "metadata": {},
   "outputs": [
    {
     "data": {
      "text/plain": [
       "'Godamwale'"
      ]
     },
     "execution_count": 43,
     "metadata": {},
     "output_type": "execute_result"
    }
   ],
   "source": [
    "india_df['Company/Brand'][383]"
   ]
  },
  {
   "cell_type": "code",
   "execution_count": 44,
   "id": "5e6928a5",
   "metadata": {},
   "outputs": [
    {
     "name": "stderr",
     "output_type": "stream",
     "text": [
      "C:\\Users\\Acer\\AppData\\Local\\Temp/ipykernel_25328/3552351949.py:1: SettingWithCopyWarning: \n",
      "A value is trying to be set on a copy of a slice from a DataFrame\n",
      "\n",
      "See the caveats in the documentation: https://pandas.pydata.org/pandas-docs/stable/user_guide/indexing.html#returning-a-view-versus-a-copy\n",
      "  india_df['Stage'][383] = india_df['Amount ($)'][383]\n",
      "C:\\Users\\Acer\\AppData\\Local\\Temp/ipykernel_25328/3552351949.py:2: SettingWithCopyWarning: \n",
      "A value is trying to be set on a copy of a slice from a DataFrame\n",
      "\n",
      "See the caveats in the documentation: https://pandas.pydata.org/pandas-docs/stable/user_guide/indexing.html#returning-a-view-versus-a-copy\n",
      "  india_df['Amount ($)'][383] = india_df['Investor/s'][383][:7]\n",
      "C:\\Users\\Acer\\AppData\\Local\\Temp/ipykernel_25328/3552351949.py:3: SettingWithCopyWarning: \n",
      "A value is trying to be set on a copy of a slice from a DataFrame\n",
      "\n",
      "See the caveats in the documentation: https://pandas.pydata.org/pandas-docs/stable/user_guide/indexing.html#returning-a-view-versus-a-copy\n",
      "  india_df['Investor/s'][383] = math.nan\n"
     ]
    }
   ],
   "source": [
    "india_df['Stage'][383] = india_df['Amount ($)'][383]\n",
    "india_df['Amount ($)'][383] = india_df['Investor/s'][383][:7]\n",
    "india_df['Investor/s'][383] = math.nan"
   ]
  },
  {
   "cell_type": "code",
   "execution_count": 45,
   "id": "501bfc85",
   "metadata": {},
   "outputs": [
    {
     "data": {
      "text/plain": [
       "Month                           September\n",
       "Company/Brand                   Godamwale\n",
       "Founded                            2016.0\n",
       "Headquarters                       Mumbai\n",
       "Sector           Logistics & Supply Chain\n",
       "Investor/s                            NaN\n",
       "Amount ($)                        1000000\n",
       "Stage                                Seed\n",
       "Name: 383, dtype: object"
      ]
     },
     "execution_count": 45,
     "metadata": {},
     "output_type": "execute_result"
    }
   ],
   "source": [
    "india_df.iloc[366]"
   ]
  },
  {
   "cell_type": "code",
   "execution_count": 46,
   "id": "76bf5c14",
   "metadata": {},
   "outputs": [
    {
     "data": {
      "text/plain": [
       "[434]"
      ]
     },
     "execution_count": 46,
     "metadata": {},
     "output_type": "execute_result"
    }
   ],
   "source": [
    "value['Upsparks']"
   ]
  },
  {
   "cell_type": "code",
   "execution_count": 47,
   "id": "1d834ed7",
   "metadata": {},
   "outputs": [
    {
     "data": {
      "text/plain": [
       "Month                                 August\n",
       "Company/Brand                        FanPlay\n",
       "Founded                               2020.0\n",
       "Headquarters                  Computer Games\n",
       "Sector                        Computer Games\n",
       "Investor/s       Pritesh Kumar, Bharat Gupta\n",
       "Amount ($)                          Upsparks\n",
       "Stage                                1200000\n",
       "Name: 455, dtype: object"
      ]
     },
     "execution_count": 47,
     "metadata": {},
     "output_type": "execute_result"
    }
   ],
   "source": [
    "india_df.iloc[434]#455"
   ]
  },
  {
   "cell_type": "code",
   "execution_count": 48,
   "id": "b25fb500",
   "metadata": {},
   "outputs": [
    {
     "data": {
      "text/plain": [
       "'Pritesh Kumar, Bharat Gupta'"
      ]
     },
     "execution_count": 48,
     "metadata": {},
     "output_type": "execute_result"
    }
   ],
   "source": [
    "india_df['Investor/s'][455]"
   ]
  },
  {
   "cell_type": "code",
   "execution_count": 49,
   "id": "a98e9e92",
   "metadata": {},
   "outputs": [
    {
     "name": "stderr",
     "output_type": "stream",
     "text": [
      "C:\\Users\\Acer\\AppData\\Local\\Temp/ipykernel_25328/3242314008.py:1: SettingWithCopyWarning: \n",
      "A value is trying to be set on a copy of a slice from a DataFrame\n",
      "\n",
      "See the caveats in the documentation: https://pandas.pydata.org/pandas-docs/stable/user_guide/indexing.html#returning-a-view-versus-a-copy\n",
      "  india_df['Investor/s'][455] = india_df['Investor/s'][455] + \" , \" + india_df['Amount ($)'][455]\n",
      "C:\\Users\\Acer\\AppData\\Local\\Temp/ipykernel_25328/3242314008.py:2: SettingWithCopyWarning: \n",
      "A value is trying to be set on a copy of a slice from a DataFrame\n",
      "\n",
      "See the caveats in the documentation: https://pandas.pydata.org/pandas-docs/stable/user_guide/indexing.html#returning-a-view-versus-a-copy\n",
      "  india_df['Amount ($)'][455] = india_df['Stage'][455]\n",
      "C:\\Users\\Acer\\AppData\\Local\\Temp/ipykernel_25328/3242314008.py:3: SettingWithCopyWarning: \n",
      "A value is trying to be set on a copy of a slice from a DataFrame\n",
      "\n",
      "See the caveats in the documentation: https://pandas.pydata.org/pandas-docs/stable/user_guide/indexing.html#returning-a-view-versus-a-copy\n",
      "  india_df['Stage'][455] = math.nan\n"
     ]
    }
   ],
   "source": [
    "india_df['Investor/s'][455] = india_df['Investor/s'][455] + \" , \" + india_df['Amount ($)'][455]\n",
    "india_df['Amount ($)'][455] = india_df['Stage'][455]\n",
    "india_df['Stage'][455] = math.nan"
   ]
  },
  {
   "cell_type": "code",
   "execution_count": 50,
   "id": "4563f7a0",
   "metadata": {},
   "outputs": [
    {
     "data": {
      "text/plain": [
       "Month                                            August\n",
       "Company/Brand                                   FanPlay\n",
       "Founded                                          2020.0\n",
       "Headquarters                             Computer Games\n",
       "Sector                                   Computer Games\n",
       "Investor/s       Pritesh Kumar, Bharat Gupta , Upsparks\n",
       "Amount ($)                                      1200000\n",
       "Stage                                               NaN\n",
       "Name: 455, dtype: object"
      ]
     },
     "execution_count": 50,
     "metadata": {},
     "output_type": "execute_result"
    }
   ],
   "source": [
    "india_df.iloc[434]#455"
   ]
  },
  {
   "cell_type": "code",
   "execution_count": 51,
   "id": "0c86423e",
   "metadata": {},
   "outputs": [
    {
     "data": {
      "text/plain": [
       "[506, 507, 521, 524, 551]"
      ]
     },
     "execution_count": 51,
     "metadata": {},
     "output_type": "execute_result"
    }
   ],
   "source": [
    "value['undisclosed']"
   ]
  },
  {
   "cell_type": "code",
   "execution_count": 52,
   "id": "46173319",
   "metadata": {},
   "outputs": [
    {
     "data": {
      "text/plain": [
       "Month                             August\n",
       "Company/Brand                   AyuRythm\n",
       "Founded                           2017.0\n",
       "Headquarters                   Bangalore\n",
       "Sector                        Healthcare\n",
       "Investor/s       SucSEED Indovation Fund\n",
       "Amount ($)                   undisclosed\n",
       "Stage                               Seed\n",
       "Name: 549, dtype: object"
      ]
     },
     "execution_count": 52,
     "metadata": {},
     "output_type": "execute_result"
    }
   ],
   "source": [
    "india_df.iloc[506]"
   ]
  },
  {
   "cell_type": "code",
   "execution_count": 53,
   "id": "10106479",
   "metadata": {},
   "outputs": [
    {
     "data": {
      "text/plain": [
       "549"
      ]
     },
     "execution_count": 53,
     "metadata": {},
     "output_type": "execute_result"
    }
   ],
   "source": [
    "index = find_index(india_companies_df, india_df.iloc[506][1])\n",
    "index"
   ]
  },
  {
   "cell_type": "code",
   "execution_count": 54,
   "id": "b76f8108",
   "metadata": {},
   "outputs": [
    {
     "data": {
      "text/plain": [
       "'AyuRythm'"
      ]
     },
     "execution_count": 54,
     "metadata": {},
     "output_type": "execute_result"
    }
   ],
   "source": [
    "india_df['Company/Brand'][549]"
   ]
  },
  {
   "cell_type": "code",
   "execution_count": 55,
   "id": "b579729a",
   "metadata": {},
   "outputs": [
    {
     "name": "stdout",
     "output_type": "stream",
     "text": [
      "Month                             August\n",
      "Company/Brand                   AyuRythm\n",
      "Founded                           2017.0\n",
      "Headquarters                   Bangalore\n",
      "Sector                        Healthcare\n",
      "Investor/s       SucSEED Indovation Fund\n",
      "Amount ($)                   undisclosed\n",
      "Stage                               Seed\n",
      "Name: 549, dtype: object\n",
      "@\n",
      "Month                                                       August\n",
      "Company/Brand                                               Enguru\n",
      "Founded                                                     2014.0\n",
      "Headquarters                                             Bangalore\n",
      "Sector                                                      EdTech\n",
      "Investor/s       Potencia Ventures, Bisk Ventures, LetsVenture,...\n",
      "Amount ($)                                             undisclosed\n",
      "Stage                                                 Pre-series A\n",
      "Name: 550, dtype: object\n",
      "@\n",
      "Month                                                       August\n",
      "Company/Brand                                             Fabheads\n",
      "Founded                                                     2015.0\n",
      "Headquarters                                               Chennai\n",
      "Sector                                       Industrial Automation\n",
      "Investor/s       Inflection Point Ventures, Rockstud Capital, F...\n",
      "Amount ($)                                             undisclosed\n",
      "Stage                                                 Pre-series A\n",
      "Name: 564, dtype: object\n",
      "@\n",
      "Month                                         August\n",
      "Company/Brand                  MedPrime Technologies\n",
      "Founded                                       2014.0\n",
      "Headquarters                                   Thane\n",
      "Sector                                    Healthcare\n",
      "Investor/s       Mumbai Angels Network, Social Alpha\n",
      "Amount ($)                               undisclosed\n",
      "Stage                                           Seed\n",
      "Name: 567, dtype: object\n",
      "@\n",
      "Month                          July\n",
      "Company/Brand    Learn4o Technology\n",
      "Founded                      2020.0\n",
      "Headquarters                 Jaipur\n",
      "Sector                   E-learning\n",
      "Investor/s                      IAN\n",
      "Amount ($)              undisclosed\n",
      "Stage                          Seed\n",
      "Name: 595, dtype: object\n",
      "@\n"
     ]
    }
   ],
   "source": [
    "for y in value['undisclosed']:\n",
    "    print(india_df.iloc[y])\n",
    "    print(\"@\")"
   ]
  },
  {
   "cell_type": "code",
   "execution_count": 56,
   "id": "e7c72a6f",
   "metadata": {},
   "outputs": [
    {
     "name": "stdout",
     "output_type": "stream",
     "text": [
      "Month                    July\n",
      "Company/Brand     Little Leap\n",
      "Founded                2020.0\n",
      "Headquarters        New Delhi\n",
      "Sector                 EdTech\n",
      "Investor/s       Vishal Gupta\n",
      "Amount ($)       ah! Ventures\n",
      "Stage                  300000\n",
      "Name: 648, dtype: object\n",
      "@\n"
     ]
    }
   ],
   "source": [
    "for y in value['ah! Ventures']:\n",
    "    print(india_df.iloc[y])\n",
    "    print(\"@\")"
   ]
  },
  {
   "cell_type": "code",
   "execution_count": 57,
   "id": "680d8807",
   "metadata": {},
   "outputs": [
    {
     "data": {
      "text/plain": [
       "[597]"
      ]
     },
     "execution_count": 57,
     "metadata": {},
     "output_type": "execute_result"
    }
   ],
   "source": [
    "value['ah! Ventures']"
   ]
  },
  {
   "cell_type": "code",
   "execution_count": 58,
   "id": "830e57f4",
   "metadata": {},
   "outputs": [],
   "source": [
    "index  = find_index(india_companies_df,india_df.iloc[597][1] )"
   ]
  },
  {
   "cell_type": "code",
   "execution_count": 59,
   "id": "8084a12a",
   "metadata": {},
   "outputs": [
    {
     "data": {
      "text/plain": [
       "648"
      ]
     },
     "execution_count": 59,
     "metadata": {},
     "output_type": "execute_result"
    }
   ],
   "source": [
    "index"
   ]
  },
  {
   "cell_type": "code",
   "execution_count": 60,
   "id": "7cf01e10",
   "metadata": {},
   "outputs": [
    {
     "name": "stderr",
     "output_type": "stream",
     "text": [
      "C:\\Users\\Acer\\AppData\\Local\\Temp/ipykernel_25328/2983144170.py:1: SettingWithCopyWarning: \n",
      "A value is trying to be set on a copy of a slice from a DataFrame\n",
      "\n",
      "See the caveats in the documentation: https://pandas.pydata.org/pandas-docs/stable/user_guide/indexing.html#returning-a-view-versus-a-copy\n",
      "  india_df['Investor/s'][index] = india_df['Investor/s'][index] + \" , \" + india_df['Amount ($)'][index]\n",
      "C:\\Users\\Acer\\AppData\\Local\\Temp/ipykernel_25328/2983144170.py:2: SettingWithCopyWarning: \n",
      "A value is trying to be set on a copy of a slice from a DataFrame\n",
      "\n",
      "See the caveats in the documentation: https://pandas.pydata.org/pandas-docs/stable/user_guide/indexing.html#returning-a-view-versus-a-copy\n",
      "  india_df['Amount ($)'][index] = india_df['Stage'][index]\n",
      "C:\\Users\\Acer\\AppData\\Local\\Temp/ipykernel_25328/2983144170.py:3: SettingWithCopyWarning: \n",
      "A value is trying to be set on a copy of a slice from a DataFrame\n",
      "\n",
      "See the caveats in the documentation: https://pandas.pydata.org/pandas-docs/stable/user_guide/indexing.html#returning-a-view-versus-a-copy\n",
      "  india_df['Stage'][index] = math.nan\n"
     ]
    }
   ],
   "source": [
    "india_df['Investor/s'][index] = india_df['Investor/s'][index] + \" , \" + india_df['Amount ($)'][index]\n",
    "india_df['Amount ($)'][index] = india_df['Stage'][index]\n",
    "india_df['Stage'][index] = math.nan"
   ]
  },
  {
   "cell_type": "code",
   "execution_count": 61,
   "id": "83765744",
   "metadata": {},
   "outputs": [
    {
     "data": {
      "text/plain": [
       "Month                                   July\n",
       "Company/Brand                    Little Leap\n",
       "Founded                               2020.0\n",
       "Headquarters                       New Delhi\n",
       "Sector                                EdTech\n",
       "Investor/s       Vishal Gupta , ah! Ventures\n",
       "Amount ($)                            300000\n",
       "Stage                                    NaN\n",
       "Name: 648, dtype: object"
      ]
     },
     "execution_count": 61,
     "metadata": {},
     "output_type": "execute_result"
    }
   ],
   "source": [
    "india_df.iloc[597]"
   ]
  },
  {
   "cell_type": "code",
   "execution_count": null,
   "id": "c648df96",
   "metadata": {},
   "outputs": [],
   "source": []
  },
  {
   "cell_type": "code",
   "execution_count": 62,
   "id": "ddd4eb3a",
   "metadata": {},
   "outputs": [
    {
     "data": {
      "text/plain": [
       "[602]"
      ]
     },
     "execution_count": 62,
     "metadata": {},
     "output_type": "execute_result"
    }
   ],
   "source": [
    "value['Pre-series A']"
   ]
  },
  {
   "cell_type": "code",
   "execution_count": 63,
   "id": "475881cf",
   "metadata": {},
   "outputs": [
    {
     "data": {
      "text/plain": [
       "Month                    July\n",
       "Company/Brand       AdmitKard\n",
       "Founded                2016.0\n",
       "Headquarters            Noida\n",
       "Sector                 EdTech\n",
       "Investor/s            1000000\n",
       "Amount ($)       Pre-series A\n",
       "Stage                     NaN\n",
       "Name: 655, dtype: object"
      ]
     },
     "execution_count": 63,
     "metadata": {},
     "output_type": "execute_result"
    }
   ],
   "source": [
    "india_df.iloc[602]"
   ]
  },
  {
   "cell_type": "code",
   "execution_count": 64,
   "id": "79695c5e",
   "metadata": {},
   "outputs": [],
   "source": [
    "index  = find_index(india_companies_df,india_df.iloc[602][1])"
   ]
  },
  {
   "cell_type": "code",
   "execution_count": 65,
   "id": "907f2a29",
   "metadata": {},
   "outputs": [
    {
     "name": "stderr",
     "output_type": "stream",
     "text": [
      "C:\\Users\\Acer\\AppData\\Local\\Temp/ipykernel_25328/103159855.py:1: SettingWithCopyWarning: \n",
      "A value is trying to be set on a copy of a slice from a DataFrame\n",
      "\n",
      "See the caveats in the documentation: https://pandas.pydata.org/pandas-docs/stable/user_guide/indexing.html#returning-a-view-versus-a-copy\n",
      "  india_df['Stage'][index] = india_df['Amount ($)'][index]\n",
      "C:\\Users\\Acer\\AppData\\Local\\Temp/ipykernel_25328/103159855.py:2: SettingWithCopyWarning: \n",
      "A value is trying to be set on a copy of a slice from a DataFrame\n",
      "\n",
      "See the caveats in the documentation: https://pandas.pydata.org/pandas-docs/stable/user_guide/indexing.html#returning-a-view-versus-a-copy\n",
      "  india_df['Amount ($)'][index] = india_df['Investor/s'][index]\n",
      "C:\\Users\\Acer\\AppData\\Local\\Temp/ipykernel_25328/103159855.py:3: SettingWithCopyWarning: \n",
      "A value is trying to be set on a copy of a slice from a DataFrame\n",
      "\n",
      "See the caveats in the documentation: https://pandas.pydata.org/pandas-docs/stable/user_guide/indexing.html#returning-a-view-versus-a-copy\n",
      "  india_df['Investor/s'][index] = math.nan\n"
     ]
    }
   ],
   "source": [
    "india_df['Stage'][index] = india_df['Amount ($)'][index]\n",
    "india_df['Amount ($)'][index] = india_df['Investor/s'][index]\n",
    "india_df['Investor/s'][index] = math.nan"
   ]
  },
  {
   "cell_type": "code",
   "execution_count": 66,
   "id": "43a2e69b",
   "metadata": {},
   "outputs": [
    {
     "data": {
      "text/plain": [
       "Month                    July\n",
       "Company/Brand       AdmitKard\n",
       "Founded                2016.0\n",
       "Headquarters            Noida\n",
       "Sector                 EdTech\n",
       "Investor/s                NaN\n",
       "Amount ($)            1000000\n",
       "Stage            Pre-series A\n",
       "Name: 655, dtype: object"
      ]
     },
     "execution_count": 66,
     "metadata": {},
     "output_type": "execute_result"
    }
   ],
   "source": [
    "india_df.iloc[602]"
   ]
  },
  {
   "cell_type": "code",
   "execution_count": null,
   "id": "4d6065f8",
   "metadata": {},
   "outputs": [],
   "source": []
  },
  {
   "cell_type": "code",
   "execution_count": 67,
   "id": "e3a0056e",
   "metadata": {},
   "outputs": [
    {
     "data": {
      "text/plain": [
       "[607]"
      ]
     },
     "execution_count": 67,
     "metadata": {},
     "output_type": "execute_result"
    }
   ],
   "source": [
    "value['ITO Angel Network, LetsVenture']"
   ]
  },
  {
   "cell_type": "code",
   "execution_count": 68,
   "id": "dff6ff32",
   "metadata": {},
   "outputs": [
    {
     "data": {
      "text/plain": [
       "Month                                       July\n",
       "Company/Brand                              BHyve\n",
       "Founded                                   2020.0\n",
       "Headquarters                              Mumbai\n",
       "Sector                           Human Resources\n",
       "Investor/s       Omkar Pandharkame, Ketaki Ogale\n",
       "Amount ($)        ITO Angel Network, LetsVenture\n",
       "Stage                                     300000\n",
       "Name: 661, dtype: object"
      ]
     },
     "execution_count": 68,
     "metadata": {},
     "output_type": "execute_result"
    }
   ],
   "source": [
    "india_df.iloc[607]"
   ]
  },
  {
   "cell_type": "code",
   "execution_count": 69,
   "id": "9765ce89",
   "metadata": {},
   "outputs": [],
   "source": [
    "index = find_index(india_companies_df, india_df.iloc[607][1])"
   ]
  },
  {
   "cell_type": "code",
   "execution_count": 70,
   "id": "07299adf",
   "metadata": {},
   "outputs": [
    {
     "name": "stderr",
     "output_type": "stream",
     "text": [
      "C:\\Users\\Acer\\AppData\\Local\\Temp/ipykernel_25328/2983144170.py:1: SettingWithCopyWarning: \n",
      "A value is trying to be set on a copy of a slice from a DataFrame\n",
      "\n",
      "See the caveats in the documentation: https://pandas.pydata.org/pandas-docs/stable/user_guide/indexing.html#returning-a-view-versus-a-copy\n",
      "  india_df['Investor/s'][index] = india_df['Investor/s'][index] + \" , \" + india_df['Amount ($)'][index]\n",
      "C:\\Users\\Acer\\AppData\\Local\\Temp/ipykernel_25328/2983144170.py:2: SettingWithCopyWarning: \n",
      "A value is trying to be set on a copy of a slice from a DataFrame\n",
      "\n",
      "See the caveats in the documentation: https://pandas.pydata.org/pandas-docs/stable/user_guide/indexing.html#returning-a-view-versus-a-copy\n",
      "  india_df['Amount ($)'][index] = india_df['Stage'][index]\n",
      "C:\\Users\\Acer\\AppData\\Local\\Temp/ipykernel_25328/2983144170.py:3: SettingWithCopyWarning: \n",
      "A value is trying to be set on a copy of a slice from a DataFrame\n",
      "\n",
      "See the caveats in the documentation: https://pandas.pydata.org/pandas-docs/stable/user_guide/indexing.html#returning-a-view-versus-a-copy\n",
      "  india_df['Stage'][index] = math.nan\n"
     ]
    }
   ],
   "source": [
    "india_df['Investor/s'][index] = india_df['Investor/s'][index] + \" , \" + india_df['Amount ($)'][index]\n",
    "india_df['Amount ($)'][index] = india_df['Stage'][index]\n",
    "india_df['Stage'][index] = math.nan"
   ]
  },
  {
   "cell_type": "code",
   "execution_count": 71,
   "id": "8189bd5d",
   "metadata": {},
   "outputs": [
    {
     "data": {
      "text/plain": [
       "Month                                                         July\n",
       "Company/Brand                                                BHyve\n",
       "Founded                                                     2020.0\n",
       "Headquarters                                                Mumbai\n",
       "Sector                                             Human Resources\n",
       "Investor/s       Omkar Pandharkame, Ketaki Ogale , ITO Angel Ne...\n",
       "Amount ($)                                                  300000\n",
       "Stage                                                          NaN\n",
       "Name: 661, dtype: object"
      ]
     },
     "execution_count": 71,
     "metadata": {},
     "output_type": "execute_result"
    }
   ],
   "source": [
    "india_df.iloc[607]"
   ]
  },
  {
   "cell_type": "code",
   "execution_count": 72,
   "id": "40f94351",
   "metadata": {},
   "outputs": [],
   "source": [
    "#dont adjusting these values\n",
    "value = get_values(india_df)"
   ]
  },
  {
   "cell_type": "code",
   "execution_count": 73,
   "id": "1837289c",
   "metadata": {},
   "outputs": [
    {
     "data": {
      "text/plain": [
       "dict_keys(['35000000', '40000000', '50000000', '4900000', '145000000', '22000000', '10000000', '13000000', '70000000', '100000000', '6700000', '30000000', '7000000', '5000000', '6600000', '32000000', '150000000', '24000000', '700000', 'Undisclosed', '200000', '1500000', '1300000', '1000000', '725000', '500000', '461000', '96000000', '4000000', '60000000', '20000000', '500000000', '266000000', '4500000', '1200000', '300000', '9500000', '325000000', '6500000', '1600000', '400000', '225000', '85000000', '235000', '260000', '2900000', '12000000', '53000000', '3500000', '3000000', '1100000', '150000', '86000000', '130000', '10000', '111000000', '37000000', '6000000', '265000', '76000000', '2000000', '3300000', '92000000', '600000', '100000', '17000000', '2500000', '135000000', '8000000', '15000000', '5500000', '155000', '2100000', '25000000', '21000000', '840000000', '248000000', '220000000', '4300000', '570000', '2200000', '4700000', '300000000', '52000000', '28000000', '260000000', '140000000', '175000000', '19000000', '200000000', '810000', '7500000', '600000000', '125000000', '90000000', '250000000', '11000000', '2300000', '5700000', '6750000', '75000000', '78000000', '3200000', '5400000', '115000000', '1900000', '255000000', '18000000', '48000000', '570000000', '550000', '2700000', '4200000', nan, '1700000', '450000000', '31000000', '540000', '14000000', '340000', '900000', '6200000', '800000', '750000', '6300000', '320000', '23000000', '55000000', '225000000', '250000', '3800000', '17500000', '42000000', '16000000', 'undisclosed', '44000000', '770000', '9000000', '1800000', '330000', '36000000', '67000000', '10200000', '450000', '3600000', '65000000', '1400000', '370000', '41000000', '144000000', '5200000', '140000', '4800000', '38000000', '125000', '26000000', '64000000', '620000', '350000', '49000000', '160000000', '850000', '7400000', '800000000', '350000000', '83000000', '150000000000', '1250000', '27000000', '234000000', '13500000', '5100000', '195000000', '2600000', '7300000', '12500000', '45000000', '81000000', '280000000', '720000'])"
      ]
     },
     "execution_count": 73,
     "metadata": {},
     "output_type": "execute_result"
    }
   ],
   "source": [
    "value.keys() #we will come back for nan, undisclosed and Undiclosed"
   ]
  },
  {
   "cell_type": "code",
   "execution_count": 74,
   "id": "34c4dd3e",
   "metadata": {},
   "outputs": [],
   "source": [
    "#find indices of nan and Undisclosed and try to estimate value based on Stage\n",
    "#clean stage col"
   ]
  },
  {
   "cell_type": "code",
   "execution_count": null,
   "id": "36033dcc",
   "metadata": {},
   "outputs": [],
   "source": []
  },
  {
   "cell_type": "code",
   "execution_count": null,
   "id": "5fcb4674",
   "metadata": {},
   "outputs": [],
   "source": []
  },
  {
   "cell_type": "code",
   "execution_count": 75,
   "id": "f9d5ee49",
   "metadata": {},
   "outputs": [],
   "source": [
    "stage = group_stages(india_df)"
   ]
  },
  {
   "cell_type": "code",
   "execution_count": null,
   "id": "a14506ed",
   "metadata": {},
   "outputs": [],
   "source": []
  },
  {
   "cell_type": "code",
   "execution_count": 76,
   "id": "17f12f06",
   "metadata": {},
   "outputs": [
    {
     "data": {
      "text/plain": [
       "26"
      ]
     },
     "execution_count": 76,
     "metadata": {},
     "output_type": "execute_result"
    }
   ],
   "source": [
    "len(stage.keys())"
   ]
  },
  {
   "cell_type": "code",
   "execution_count": 77,
   "id": "50a750b6",
   "metadata": {},
   "outputs": [
    {
     "data": {
      "text/plain": [
       "dict_keys(['Series B', nan, 'Series A', 'Series D', 'Pre-series A', 'Seed', 'Series C', 'Series E', 'Series G', 'Pre-seed', 'Pre-series B', 'Series F', 'Pre-series', 'Debt', 'Pre-Series A', 'Series A2', 'Bridge', 'Pre-series A1', nan, 'Seed+', 'Series F2', 'Early seed', 'Series D1', '6000000', 'Seies A', 'Series F1'])"
      ]
     },
     "execution_count": 77,
     "metadata": {},
     "output_type": "execute_result"
    }
   ],
   "source": [
    "#len(stage.keys()) = 26\n",
    "stage.keys()"
   ]
  },
  {
   "cell_type": "code",
   "execution_count": 78,
   "id": "fedeead1",
   "metadata": {},
   "outputs": [
    {
     "data": {
      "text/plain": [
       "364"
      ]
     },
     "execution_count": 78,
     "metadata": {},
     "output_type": "execute_result"
    }
   ],
   "source": [
    "len(stage[nan])"
   ]
  },
  {
   "cell_type": "code",
   "execution_count": 79,
   "id": "db0e8890",
   "metadata": {},
   "outputs": [
    {
     "data": {
      "text/plain": [
       "Month                    September\n",
       "Company/Brand             Vidyakul\n",
       "Founded                     2017.0\n",
       "Headquarters              Gurugram\n",
       "Sector                      EdTech\n",
       "Investor/s       We Founder Circle\n",
       "Amount ($)                  500000\n",
       "Stage                       Bridge\n",
       "Name: 419, dtype: object"
      ]
     },
     "execution_count": 79,
     "metadata": {},
     "output_type": "execute_result"
    }
   ],
   "source": [
    "india_df.iloc[402]"
   ]
  },
  {
   "cell_type": "code",
   "execution_count": 80,
   "id": "0eb15623",
   "metadata": {},
   "outputs": [
    {
     "name": "stdout",
     "output_type": "stream",
     "text": [
      "False\n"
     ]
    }
   ],
   "source": [
    "print(\"Pre-series A\" == \"Pre-Series A\")"
   ]
  },
  {
   "cell_type": "code",
   "execution_count": 81,
   "id": "7051d9d8",
   "metadata": {},
   "outputs": [],
   "source": [
    "a_list = [385]\n",
    "a_list.extend(stage['Pre-Series A'])\n",
    "a_list.extend(stage['Pre-series A1'])"
   ]
  },
  {
   "cell_type": "code",
   "execution_count": 82,
   "id": "c4221326",
   "metadata": {},
   "outputs": [
    {
     "data": {
      "text/plain": [
       "[385, 167, 181, 191, 193, 194, 197, 210, 447, 467, 409, 612, 657, 1033]"
      ]
     },
     "execution_count": 82,
     "metadata": {},
     "output_type": "execute_result"
    }
   ],
   "source": [
    "a_list"
   ]
  },
  {
   "cell_type": "code",
   "execution_count": 83,
   "id": "543ad9e8",
   "metadata": {},
   "outputs": [
    {
     "data": {
      "text/plain": [
       "[167, 181, 191, 193, 194, 197, 210, 447, 467]"
      ]
     },
     "execution_count": 83,
     "metadata": {},
     "output_type": "execute_result"
    }
   ],
   "source": [
    "stage['Pre-Series A']"
   ]
  },
  {
   "cell_type": "code",
   "execution_count": 84,
   "id": "69f0ac52",
   "metadata": {},
   "outputs": [
    {
     "data": {
      "text/plain": [
       "[409, 612, 657, 1033]"
      ]
     },
     "execution_count": 84,
     "metadata": {},
     "output_type": "execute_result"
    }
   ],
   "source": [
    "stage['Pre-series A1']"
   ]
  },
  {
   "cell_type": "code",
   "execution_count": null,
   "id": "eed5e429",
   "metadata": {},
   "outputs": [],
   "source": []
  },
  {
   "cell_type": "code",
   "execution_count": 85,
   "id": "32e94db7",
   "metadata": {},
   "outputs": [
    {
     "name": "stderr",
     "output_type": "stream",
     "text": [
      "C:\\Users\\Acer\\AppData\\Local\\Temp/ipykernel_25328/3857762600.py:3: SettingWithCopyWarning: \n",
      "A value is trying to be set on a copy of a slice from a DataFrame\n",
      "\n",
      "See the caveats in the documentation: https://pandas.pydata.org/pandas-docs/stable/user_guide/indexing.html#returning-a-view-versus-a-copy\n",
      "  india_df['Stage'][index] = name\n"
     ]
    }
   ],
   "source": [
    "for x in a_list:\n",
    "    change_stage_name(india_df, x, 'Pre-series A')"
   ]
  },
  {
   "cell_type": "code",
   "execution_count": null,
   "id": "04f0ea39",
   "metadata": {},
   "outputs": [],
   "source": []
  },
  {
   "cell_type": "code",
   "execution_count": 86,
   "id": "4215ab28",
   "metadata": {},
   "outputs": [],
   "source": [
    "india_df.iloc[153]\n",
    "index = find_index(india_companies_df,india_df.iloc[153][1] )"
   ]
  },
  {
   "cell_type": "code",
   "execution_count": 87,
   "id": "3a1f5a43",
   "metadata": {},
   "outputs": [
    {
     "name": "stderr",
     "output_type": "stream",
     "text": [
      "C:\\Users\\Acer\\AppData\\Local\\Temp/ipykernel_25328/3857762600.py:3: SettingWithCopyWarning: \n",
      "A value is trying to be set on a copy of a slice from a DataFrame\n",
      "\n",
      "See the caveats in the documentation: https://pandas.pydata.org/pandas-docs/stable/user_guide/indexing.html#returning-a-view-versus-a-copy\n",
      "  india_df['Stage'][index] = name\n"
     ]
    }
   ],
   "source": [
    "#change_stage_b(df,row)\n",
    "change_stage_name(india_df, 153, 'Pre-series B')"
   ]
  },
  {
   "cell_type": "code",
   "execution_count": 88,
   "id": "db0d446e",
   "metadata": {},
   "outputs": [
    {
     "data": {
      "text/plain": [
       "[153, 385]"
      ]
     },
     "execution_count": 88,
     "metadata": {},
     "output_type": "execute_result"
    }
   ],
   "source": [
    "stage['Pre-series']#both accounted for"
   ]
  },
  {
   "cell_type": "code",
   "execution_count": 89,
   "id": "42775d30",
   "metadata": {},
   "outputs": [
    {
     "data": {
      "text/plain": [
       "[714]"
      ]
     },
     "execution_count": 89,
     "metadata": {},
     "output_type": "execute_result"
    }
   ],
   "source": [
    "stage['6000000']"
   ]
  },
  {
   "cell_type": "code",
   "execution_count": 90,
   "id": "7637da3a",
   "metadata": {},
   "outputs": [
    {
     "data": {
      "text/plain": [
       "Month                              June\n",
       "Company/Brand              MYRE Capital\n",
       "Founded                          2020.0\n",
       "Headquarters                     Mumbai\n",
       "Sector           Commercial Real Estate\n",
       "Investor/s                  Aryaman Vir\n",
       "Amount ($)                          NaN\n",
       "Stage                           6000000\n",
       "Name: 784, dtype: object"
      ]
     },
     "execution_count": 90,
     "metadata": {},
     "output_type": "execute_result"
    }
   ],
   "source": [
    "india_df.iloc[714]"
   ]
  },
  {
   "cell_type": "code",
   "execution_count": 91,
   "id": "3da44a5d",
   "metadata": {},
   "outputs": [
    {
     "data": {
      "text/plain": [
       "784"
      ]
     },
     "execution_count": 91,
     "metadata": {},
     "output_type": "execute_result"
    }
   ],
   "source": [
    "index = find_index(india_companies_df, india_df.iloc[714][1])\n",
    "index"
   ]
  },
  {
   "cell_type": "code",
   "execution_count": 92,
   "id": "d76f37b2",
   "metadata": {},
   "outputs": [
    {
     "name": "stderr",
     "output_type": "stream",
     "text": [
      "C:\\Users\\Acer\\AppData\\Local\\Temp/ipykernel_25328/834814723.py:1: SettingWithCopyWarning: \n",
      "A value is trying to be set on a copy of a slice from a DataFrame\n",
      "\n",
      "See the caveats in the documentation: https://pandas.pydata.org/pandas-docs/stable/user_guide/indexing.html#returning-a-view-versus-a-copy\n",
      "  india_df['Amount ($)'][index] = india_df['Stage'][index]\n",
      "C:\\Users\\Acer\\AppData\\Local\\Temp/ipykernel_25328/834814723.py:2: SettingWithCopyWarning: \n",
      "A value is trying to be set on a copy of a slice from a DataFrame\n",
      "\n",
      "See the caveats in the documentation: https://pandas.pydata.org/pandas-docs/stable/user_guide/indexing.html#returning-a-view-versus-a-copy\n",
      "  india_df['Stage'][index] = math.nan\n"
     ]
    }
   ],
   "source": [
    "india_df['Amount ($)'][index] = india_df['Stage'][index]\n",
    "india_df['Stage'][index] = math.nan"
   ]
  },
  {
   "cell_type": "code",
   "execution_count": 93,
   "id": "0173a300",
   "metadata": {
    "scrolled": true
   },
   "outputs": [
    {
     "data": {
      "text/plain": [
       "Month                              June\n",
       "Company/Brand              MYRE Capital\n",
       "Founded                          2020.0\n",
       "Headquarters                     Mumbai\n",
       "Sector           Commercial Real Estate\n",
       "Investor/s                  Aryaman Vir\n",
       "Amount ($)                      6000000\n",
       "Stage                               NaN\n",
       "Name: 784, dtype: object"
      ]
     },
     "execution_count": 93,
     "metadata": {},
     "output_type": "execute_result"
    }
   ],
   "source": [
    "india_df.iloc[714]"
   ]
  },
  {
   "cell_type": "code",
   "execution_count": 94,
   "id": "7273bc9f",
   "metadata": {},
   "outputs": [],
   "source": [
    "stage = group_stages(india_df)"
   ]
  },
  {
   "cell_type": "code",
   "execution_count": 95,
   "id": "09f42097",
   "metadata": {},
   "outputs": [
    {
     "name": "stderr",
     "output_type": "stream",
     "text": [
      "C:\\Users\\Acer\\AppData\\Local\\Temp/ipykernel_25328/3857762600.py:3: SettingWithCopyWarning: \n",
      "A value is trying to be set on a copy of a slice from a DataFrame\n",
      "\n",
      "See the caveats in the documentation: https://pandas.pydata.org/pandas-docs/stable/user_guide/indexing.html#returning-a-view-versus-a-copy\n",
      "  india_df['Stage'][index] = name\n"
     ]
    }
   ],
   "source": [
    "a_group = stage['Series A']\n",
    "a_group.extend(stage['Series A2'])\n",
    "for x in a_group:\n",
    "    change_stage_name(india_df, x, 'Series A')"
   ]
  },
  {
   "cell_type": "code",
   "execution_count": 96,
   "id": "9b71d924",
   "metadata": {},
   "outputs": [
    {
     "name": "stderr",
     "output_type": "stream",
     "text": [
      "C:\\Users\\Acer\\AppData\\Local\\Temp/ipykernel_25328/3857762600.py:3: SettingWithCopyWarning: \n",
      "A value is trying to be set on a copy of a slice from a DataFrame\n",
      "\n",
      "See the caveats in the documentation: https://pandas.pydata.org/pandas-docs/stable/user_guide/indexing.html#returning-a-view-versus-a-copy\n",
      "  india_df['Stage'][index] = name\n"
     ]
    }
   ],
   "source": [
    "d_group = stage['Series E']\n",
    "d_group.extend(stage['Series G'])\n",
    "d_group.extend(stage['Series F'])\n",
    "d_group.extend(stage['Series F2'])\n",
    "d_group.extend(stage['Series D1'])\n",
    "d_group.extend(stage['Series F1'])\n",
    "for x in d_group:\n",
    "    change_stage_name(india_df, x, 'Series C')"
   ]
  },
  {
   "cell_type": "code",
   "execution_count": 97,
   "id": "4bbdd02f",
   "metadata": {},
   "outputs": [
    {
     "name": "stderr",
     "output_type": "stream",
     "text": [
      "C:\\Users\\Acer\\AppData\\Local\\Temp/ipykernel_25328/3857762600.py:3: SettingWithCopyWarning: \n",
      "A value is trying to be set on a copy of a slice from a DataFrame\n",
      "\n",
      "See the caveats in the documentation: https://pandas.pydata.org/pandas-docs/stable/user_guide/indexing.html#returning-a-view-versus-a-copy\n",
      "  india_df['Stage'][index] = name\n"
     ]
    }
   ],
   "source": [
    "pre_seed_group = stage['Pre-seed']\n",
    "pre_seed_group.extend(stage['Seed+'])\n",
    "pre_seed_group.extend(stage['Early seed'])\n",
    "for x in pre_seed_group:\n",
    "    change_stage_name(india_df, x, 'Pre-seed')"
   ]
  },
  {
   "cell_type": "code",
   "execution_count": 98,
   "id": "f090f33f",
   "metadata": {},
   "outputs": [],
   "source": [
    "stage = group_stages(india_df)"
   ]
  },
  {
   "cell_type": "code",
   "execution_count": 99,
   "id": "e2676b97",
   "metadata": {},
   "outputs": [
    {
     "data": {
      "text/plain": [
       "dict_keys(['Series B', nan, 'Series A', 'Series D', 'Pre-series A', 'Seed', 'Series C', 'Pre-seed', 'Pre-series B', 'Debt', 'Bridge', nan, 'Seies A'])"
      ]
     },
     "execution_count": 99,
     "metadata": {},
     "output_type": "execute_result"
    }
   ],
   "source": [
    "stage.keys()"
   ]
  },
  {
   "cell_type": "code",
   "execution_count": 100,
   "id": "ef906cc3",
   "metadata": {},
   "outputs": [
    {
     "data": {
      "text/plain": [
       "13"
      ]
     },
     "execution_count": 100,
     "metadata": {},
     "output_type": "execute_result"
    }
   ],
   "source": [
    "len(stage.keys())"
   ]
  },
  {
   "cell_type": "code",
   "execution_count": 101,
   "id": "4cffe736",
   "metadata": {},
   "outputs": [
    {
     "data": {
      "text/plain": [
       "364"
      ]
     },
     "execution_count": 101,
     "metadata": {},
     "output_type": "execute_result"
    }
   ],
   "source": [
    "len(stage[nan])"
   ]
  },
  {
   "cell_type": "code",
   "execution_count": 102,
   "id": "88f836d8",
   "metadata": {},
   "outputs": [
    {
     "data": {
      "text/plain": [
       "[1,\n",
       " 3,\n",
       " 5,\n",
       " 7,\n",
       " 13,\n",
       " 23,\n",
       " 28,\n",
       " 35,\n",
       " 40,\n",
       " 41,\n",
       " 44,\n",
       " 46,\n",
       " 47,\n",
       " 50,\n",
       " 53,\n",
       " 54,\n",
       " 56,\n",
       " 57,\n",
       " 58,\n",
       " 61,\n",
       " 71,\n",
       " 73,\n",
       " 76,\n",
       " 77,\n",
       " 78,\n",
       " 80,\n",
       " 83,\n",
       " 85,\n",
       " 86,\n",
       " 87,\n",
       " 90,\n",
       " 92,\n",
       " 94,\n",
       " 97,\n",
       " 98,\n",
       " 99,\n",
       " 100,\n",
       " 106,\n",
       " 117,\n",
       " 118,\n",
       " 119,\n",
       " 120,\n",
       " 122,\n",
       " 126,\n",
       " 130,\n",
       " 135,\n",
       " 136,\n",
       " 137,\n",
       " 139,\n",
       " 141,\n",
       " 143,\n",
       " 147,\n",
       " 148,\n",
       " 150,\n",
       " 154,\n",
       " 156,\n",
       " 160,\n",
       " 165,\n",
       " 168,\n",
       " 170,\n",
       " 171,\n",
       " 174,\n",
       " 175,\n",
       " 182,\n",
       " 183,\n",
       " 189,\n",
       " 190,\n",
       " 192,\n",
       " 198,\n",
       " 202,\n",
       " 207,\n",
       " 209,\n",
       " 214,\n",
       " 219,\n",
       " 220,\n",
       " 222,\n",
       " 223,\n",
       " 228,\n",
       " 232,\n",
       " 236,\n",
       " 243,\n",
       " 245,\n",
       " 249,\n",
       " 250,\n",
       " 257,\n",
       " 258,\n",
       " 263,\n",
       " 265,\n",
       " 270,\n",
       " 274,\n",
       " 279,\n",
       " 280,\n",
       " 289,\n",
       " 290,\n",
       " 292,\n",
       " 298,\n",
       " 300,\n",
       " 302,\n",
       " 307,\n",
       " 309,\n",
       " 311,\n",
       " 314,\n",
       " 316,\n",
       " 318,\n",
       " 324,\n",
       " 326,\n",
       " 333,\n",
       " 336,\n",
       " 339,\n",
       " 340,\n",
       " 346,\n",
       " 351,\n",
       " 353,\n",
       " 354,\n",
       " 355,\n",
       " 360,\n",
       " 365,\n",
       " 373,\n",
       " 374,\n",
       " 375,\n",
       " 378,\n",
       " 379,\n",
       " 381,\n",
       " 388,\n",
       " 390,\n",
       " 400,\n",
       " 410,\n",
       " 411,\n",
       " 418,\n",
       " 424,\n",
       " 425,\n",
       " 426,\n",
       " 427,\n",
       " 428,\n",
       " 429,\n",
       " 430,\n",
       " 431,\n",
       " 432,\n",
       " 433,\n",
       " 435,\n",
       " 436,\n",
       " 437,\n",
       " 438,\n",
       " 439,\n",
       " 440,\n",
       " 441,\n",
       " 442,\n",
       " 443,\n",
       " 451,\n",
       " 452,\n",
       " 453,\n",
       " 455,\n",
       " 458,\n",
       " 459,\n",
       " 469,\n",
       " 470,\n",
       " 471,\n",
       " 472,\n",
       " 473,\n",
       " 474,\n",
       " 475,\n",
       " 476,\n",
       " 477,\n",
       " 478,\n",
       " 479,\n",
       " 480,\n",
       " 481,\n",
       " 482,\n",
       " 483,\n",
       " 484,\n",
       " 485,\n",
       " 486,\n",
       " 487,\n",
       " 488,\n",
       " 496,\n",
       " 505,\n",
       " 511,\n",
       " 523,\n",
       " 528,\n",
       " 530,\n",
       " 537,\n",
       " 540,\n",
       " 541,\n",
       " 547,\n",
       " 548,\n",
       " 552,\n",
       " 553,\n",
       " 558,\n",
       " 566,\n",
       " 569,\n",
       " 570,\n",
       " 571,\n",
       " 573,\n",
       " 575,\n",
       " 577,\n",
       " 578,\n",
       " 580,\n",
       " 581,\n",
       " 582,\n",
       " 584,\n",
       " 587,\n",
       " 589,\n",
       " 592,\n",
       " 593,\n",
       " 595,\n",
       " 596,\n",
       " 598,\n",
       " 600,\n",
       " 601,\n",
       " 603,\n",
       " 605,\n",
       " 609,\n",
       " 610,\n",
       " 613,\n",
       " 617,\n",
       " 620,\n",
       " 623,\n",
       " 624,\n",
       " 627,\n",
       " 628,\n",
       " 630,\n",
       " 634,\n",
       " 635,\n",
       " 637,\n",
       " 639,\n",
       " 644,\n",
       " 645,\n",
       " 650,\n",
       " 656,\n",
       " 658,\n",
       " 660,\n",
       " 661,\n",
       " 663,\n",
       " 665,\n",
       " 668,\n",
       " 669,\n",
       " 671,\n",
       " 676,\n",
       " 677,\n",
       " 678,\n",
       " 682,\n",
       " 689,\n",
       " 692,\n",
       " 693,\n",
       " 699,\n",
       " 700,\n",
       " 705,\n",
       " 706,\n",
       " 712,\n",
       " 716,\n",
       " 720,\n",
       " 722,\n",
       " 723,\n",
       " 728,\n",
       " 729,\n",
       " 730,\n",
       " 734,\n",
       " 737,\n",
       " 740,\n",
       " 741,\n",
       " 742,\n",
       " 746,\n",
       " 748,\n",
       " 750,\n",
       " 751,\n",
       " 765,\n",
       " 772,\n",
       " 774,\n",
       " 775,\n",
       " 777,\n",
       " 780,\n",
       " 784,\n",
       " 786,\n",
       " 793,\n",
       " 796,\n",
       " 802,\n",
       " 806,\n",
       " 808,\n",
       " 809,\n",
       " 811,\n",
       " 813,\n",
       " 814,\n",
       " 815,\n",
       " 822,\n",
       " 828,\n",
       " 829,\n",
       " 830,\n",
       " 831,\n",
       " 832,\n",
       " 834,\n",
       " 836,\n",
       " 840,\n",
       " 842,\n",
       " 844,\n",
       " 845,\n",
       " 846,\n",
       " 847,\n",
       " 855,\n",
       " 859,\n",
       " 862,\n",
       " 863,\n",
       " 865,\n",
       " 876,\n",
       " 879,\n",
       " 881,\n",
       " 882,\n",
       " 883,\n",
       " 885,\n",
       " 888,\n",
       " 890,\n",
       " 892,\n",
       " 895,\n",
       " 898,\n",
       " 903,\n",
       " 904,\n",
       " 906,\n",
       " 907,\n",
       " 908,\n",
       " 909,\n",
       " 912,\n",
       " 914,\n",
       " 915,\n",
       " 919,\n",
       " 921,\n",
       " 923,\n",
       " 926,\n",
       " 927,\n",
       " 929,\n",
       " 930,\n",
       " 932,\n",
       " 933,\n",
       " 934,\n",
       " 935,\n",
       " 937,\n",
       " 940,\n",
       " 944,\n",
       " 949,\n",
       " 957,\n",
       " 962,\n",
       " 967,\n",
       " 969,\n",
       " 972,\n",
       " 973,\n",
       " 974,\n",
       " 985,\n",
       " 986,\n",
       " 989,\n",
       " 992,\n",
       " 993,\n",
       " 1004,\n",
       " 1005,\n",
       " 1007,\n",
       " 1011,\n",
       " 1012,\n",
       " 1016,\n",
       " 1019,\n",
       " 1021,\n",
       " 1023,\n",
       " 1025,\n",
       " 1027,\n",
       " 1029,\n",
       " 1032,\n",
       " 1034,\n",
       " 1035]"
      ]
     },
     "execution_count": 102,
     "metadata": {},
     "output_type": "execute_result"
    }
   ],
   "source": [
    "stage[nan]"
   ]
  },
  {
   "cell_type": "code",
   "execution_count": 103,
   "id": "f6614ce0",
   "metadata": {},
   "outputs": [
    {
     "ename": "KeyError",
     "evalue": "35",
     "output_type": "error",
     "traceback": [
      "\u001b[1;31m---------------------------------------------------------------------------\u001b[0m",
      "\u001b[1;31mKeyError\u001b[0m                                  Traceback (most recent call last)",
      "\u001b[1;32m~\\anaconda3\\lib\\site-packages\\pandas\\core\\indexes\\base.py\u001b[0m in \u001b[0;36mget_loc\u001b[1;34m(self, key, method, tolerance)\u001b[0m\n\u001b[0;32m   3360\u001b[0m             \u001b[1;32mtry\u001b[0m\u001b[1;33m:\u001b[0m\u001b[1;33m\u001b[0m\u001b[1;33m\u001b[0m\u001b[0m\n\u001b[1;32m-> 3361\u001b[1;33m                 \u001b[1;32mreturn\u001b[0m \u001b[0mself\u001b[0m\u001b[1;33m.\u001b[0m\u001b[0m_engine\u001b[0m\u001b[1;33m.\u001b[0m\u001b[0mget_loc\u001b[0m\u001b[1;33m(\u001b[0m\u001b[0mcasted_key\u001b[0m\u001b[1;33m)\u001b[0m\u001b[1;33m\u001b[0m\u001b[1;33m\u001b[0m\u001b[0m\n\u001b[0m\u001b[0;32m   3362\u001b[0m             \u001b[1;32mexcept\u001b[0m \u001b[0mKeyError\u001b[0m \u001b[1;32mas\u001b[0m \u001b[0merr\u001b[0m\u001b[1;33m:\u001b[0m\u001b[1;33m\u001b[0m\u001b[1;33m\u001b[0m\u001b[0m\n",
      "\u001b[1;32m~\\anaconda3\\lib\\site-packages\\pandas\\_libs\\index.pyx\u001b[0m in \u001b[0;36mpandas._libs.index.IndexEngine.get_loc\u001b[1;34m()\u001b[0m\n",
      "\u001b[1;32m~\\anaconda3\\lib\\site-packages\\pandas\\_libs\\index.pyx\u001b[0m in \u001b[0;36mpandas._libs.index.IndexEngine.get_loc\u001b[1;34m()\u001b[0m\n",
      "\u001b[1;32mpandas\\_libs\\hashtable_class_helper.pxi\u001b[0m in \u001b[0;36mpandas._libs.hashtable.Int64HashTable.get_item\u001b[1;34m()\u001b[0m\n",
      "\u001b[1;32mpandas\\_libs\\hashtable_class_helper.pxi\u001b[0m in \u001b[0;36mpandas._libs.hashtable.Int64HashTable.get_item\u001b[1;34m()\u001b[0m\n",
      "\u001b[1;31mKeyError\u001b[0m: 35",
      "\nThe above exception was the direct cause of the following exception:\n",
      "\u001b[1;31mKeyError\u001b[0m                                  Traceback (most recent call last)",
      "\u001b[1;32m~\\AppData\\Local\\Temp/ipykernel_25328/4025134166.py\u001b[0m in \u001b[0;36m<module>\u001b[1;34m\u001b[0m\n\u001b[0;32m      4\u001b[0m     \u001b[0mindex\u001b[0m \u001b[1;33m=\u001b[0m \u001b[0mfind_index\u001b[0m\u001b[1;33m(\u001b[0m\u001b[0mindia_companies_df\u001b[0m\u001b[1;33m,\u001b[0m\u001b[0mindia_df\u001b[0m\u001b[1;33m.\u001b[0m\u001b[0miloc\u001b[0m\u001b[1;33m[\u001b[0m\u001b[0mx\u001b[0m\u001b[1;33m]\u001b[0m\u001b[1;33m[\u001b[0m\u001b[1;36m1\u001b[0m\u001b[1;33m]\u001b[0m \u001b[1;33m)\u001b[0m\u001b[1;33m\u001b[0m\u001b[1;33m\u001b[0m\u001b[0m\n\u001b[0;32m      5\u001b[0m     \u001b[0mval\u001b[0m \u001b[1;33m=\u001b[0m \u001b[0mindia_df\u001b[0m\u001b[1;33m.\u001b[0m\u001b[0miloc\u001b[0m\u001b[1;33m[\u001b[0m\u001b[0mindex\u001b[0m\u001b[1;33m]\u001b[0m\u001b[1;33m[\u001b[0m\u001b[1;36m6\u001b[0m\u001b[1;33m]\u001b[0m\u001b[1;33m\u001b[0m\u001b[1;33m\u001b[0m\u001b[0m\n\u001b[1;32m----> 6\u001b[1;33m     \u001b[1;32mif\u001b[0m \u001b[0mindia_df\u001b[0m\u001b[1;33m[\u001b[0m\u001b[1;34m'Stage'\u001b[0m\u001b[1;33m]\u001b[0m\u001b[1;33m[\u001b[0m\u001b[0mx\u001b[0m\u001b[1;33m]\u001b[0m \u001b[1;32mnot\u001b[0m \u001b[1;32min\u001b[0m \u001b[0mstage_name\u001b[0m\u001b[1;33m:\u001b[0m\u001b[1;33m\u001b[0m\u001b[1;33m\u001b[0m\u001b[0m\n\u001b[0m\u001b[0;32m      7\u001b[0m         \u001b[0mstage_name\u001b[0m\u001b[1;33m[\u001b[0m\u001b[0mindia_df\u001b[0m\u001b[1;33m[\u001b[0m\u001b[1;34m'Stage'\u001b[0m\u001b[1;33m]\u001b[0m\u001b[1;33m[\u001b[0m\u001b[0mx\u001b[0m\u001b[1;33m]\u001b[0m\u001b[1;33m]\u001b[0m \u001b[1;33m=\u001b[0m \u001b[1;33m[\u001b[0m\u001b[0mval\u001b[0m\u001b[1;33m]\u001b[0m\u001b[1;33m\u001b[0m\u001b[1;33m\u001b[0m\u001b[0m\n\u001b[0;32m      8\u001b[0m     \u001b[1;32melse\u001b[0m\u001b[1;33m:\u001b[0m\u001b[1;33m\u001b[0m\u001b[1;33m\u001b[0m\u001b[0m\n",
      "\u001b[1;32m~\\anaconda3\\lib\\site-packages\\pandas\\core\\series.py\u001b[0m in \u001b[0;36m__getitem__\u001b[1;34m(self, key)\u001b[0m\n\u001b[0;32m    940\u001b[0m \u001b[1;33m\u001b[0m\u001b[0m\n\u001b[0;32m    941\u001b[0m         \u001b[1;32melif\u001b[0m \u001b[0mkey_is_scalar\u001b[0m\u001b[1;33m:\u001b[0m\u001b[1;33m\u001b[0m\u001b[1;33m\u001b[0m\u001b[0m\n\u001b[1;32m--> 942\u001b[1;33m             \u001b[1;32mreturn\u001b[0m \u001b[0mself\u001b[0m\u001b[1;33m.\u001b[0m\u001b[0m_get_value\u001b[0m\u001b[1;33m(\u001b[0m\u001b[0mkey\u001b[0m\u001b[1;33m)\u001b[0m\u001b[1;33m\u001b[0m\u001b[1;33m\u001b[0m\u001b[0m\n\u001b[0m\u001b[0;32m    943\u001b[0m \u001b[1;33m\u001b[0m\u001b[0m\n\u001b[0;32m    944\u001b[0m         \u001b[1;32mif\u001b[0m \u001b[0mis_hashable\u001b[0m\u001b[1;33m(\u001b[0m\u001b[0mkey\u001b[0m\u001b[1;33m)\u001b[0m\u001b[1;33m:\u001b[0m\u001b[1;33m\u001b[0m\u001b[1;33m\u001b[0m\u001b[0m\n",
      "\u001b[1;32m~\\anaconda3\\lib\\site-packages\\pandas\\core\\series.py\u001b[0m in \u001b[0;36m_get_value\u001b[1;34m(self, label, takeable)\u001b[0m\n\u001b[0;32m   1049\u001b[0m \u001b[1;33m\u001b[0m\u001b[0m\n\u001b[0;32m   1050\u001b[0m         \u001b[1;31m# Similar to Index.get_value, but we do not fall back to positional\u001b[0m\u001b[1;33m\u001b[0m\u001b[1;33m\u001b[0m\u001b[0m\n\u001b[1;32m-> 1051\u001b[1;33m         \u001b[0mloc\u001b[0m \u001b[1;33m=\u001b[0m \u001b[0mself\u001b[0m\u001b[1;33m.\u001b[0m\u001b[0mindex\u001b[0m\u001b[1;33m.\u001b[0m\u001b[0mget_loc\u001b[0m\u001b[1;33m(\u001b[0m\u001b[0mlabel\u001b[0m\u001b[1;33m)\u001b[0m\u001b[1;33m\u001b[0m\u001b[1;33m\u001b[0m\u001b[0m\n\u001b[0m\u001b[0;32m   1052\u001b[0m         \u001b[1;32mreturn\u001b[0m \u001b[0mself\u001b[0m\u001b[1;33m.\u001b[0m\u001b[0mindex\u001b[0m\u001b[1;33m.\u001b[0m\u001b[0m_get_values_for_loc\u001b[0m\u001b[1;33m(\u001b[0m\u001b[0mself\u001b[0m\u001b[1;33m,\u001b[0m \u001b[0mloc\u001b[0m\u001b[1;33m,\u001b[0m \u001b[0mlabel\u001b[0m\u001b[1;33m)\u001b[0m\u001b[1;33m\u001b[0m\u001b[1;33m\u001b[0m\u001b[0m\n\u001b[0;32m   1053\u001b[0m \u001b[1;33m\u001b[0m\u001b[0m\n",
      "\u001b[1;32m~\\anaconda3\\lib\\site-packages\\pandas\\core\\indexes\\base.py\u001b[0m in \u001b[0;36mget_loc\u001b[1;34m(self, key, method, tolerance)\u001b[0m\n\u001b[0;32m   3361\u001b[0m                 \u001b[1;32mreturn\u001b[0m \u001b[0mself\u001b[0m\u001b[1;33m.\u001b[0m\u001b[0m_engine\u001b[0m\u001b[1;33m.\u001b[0m\u001b[0mget_loc\u001b[0m\u001b[1;33m(\u001b[0m\u001b[0mcasted_key\u001b[0m\u001b[1;33m)\u001b[0m\u001b[1;33m\u001b[0m\u001b[1;33m\u001b[0m\u001b[0m\n\u001b[0;32m   3362\u001b[0m             \u001b[1;32mexcept\u001b[0m \u001b[0mKeyError\u001b[0m \u001b[1;32mas\u001b[0m \u001b[0merr\u001b[0m\u001b[1;33m:\u001b[0m\u001b[1;33m\u001b[0m\u001b[1;33m\u001b[0m\u001b[0m\n\u001b[1;32m-> 3363\u001b[1;33m                 \u001b[1;32mraise\u001b[0m \u001b[0mKeyError\u001b[0m\u001b[1;33m(\u001b[0m\u001b[0mkey\u001b[0m\u001b[1;33m)\u001b[0m \u001b[1;32mfrom\u001b[0m \u001b[0merr\u001b[0m\u001b[1;33m\u001b[0m\u001b[1;33m\u001b[0m\u001b[0m\n\u001b[0m\u001b[0;32m   3364\u001b[0m \u001b[1;33m\u001b[0m\u001b[0m\n\u001b[0;32m   3365\u001b[0m         \u001b[1;32mif\u001b[0m \u001b[0mis_scalar\u001b[0m\u001b[1;33m(\u001b[0m\u001b[0mkey\u001b[0m\u001b[1;33m)\u001b[0m \u001b[1;32mand\u001b[0m \u001b[0misna\u001b[0m\u001b[1;33m(\u001b[0m\u001b[0mkey\u001b[0m\u001b[1;33m)\u001b[0m \u001b[1;32mand\u001b[0m \u001b[1;32mnot\u001b[0m \u001b[0mself\u001b[0m\u001b[1;33m.\u001b[0m\u001b[0mhasnans\u001b[0m\u001b[1;33m:\u001b[0m\u001b[1;33m\u001b[0m\u001b[1;33m\u001b[0m\u001b[0m\n",
      "\u001b[1;31mKeyError\u001b[0m: 35"
     ]
    }
   ],
   "source": [
    "#fix nan values here\n",
    "stage_name = {}\n",
    "for x in stage[nan]:\n",
    "    index = find_index(india_companies_df,india_df.iloc[x][1] )\n",
    "    if \n",
    "    val = india_df.iloc[index][6]\n",
    "    if india_df['Stage'][x] not in stage_name:\n",
    "        stage_name[india_df['Stage'][x]] = [val]\n",
    "    else:\n",
    "        stage_name[india_df['Stage'][x]] += [val]"
   ]
  },
  {
   "cell_type": "code",
   "execution_count": null,
   "id": "91711ca4",
   "metadata": {},
   "outputs": [],
   "source": [
    "india_df.iloc[1][6]#amount"
   ]
  },
  {
   "cell_type": "code",
   "execution_count": null,
   "id": "afeb51f4",
   "metadata": {},
   "outputs": [],
   "source": [
    "#most recent"
   ]
  },
  {
   "cell_type": "code",
   "execution_count": 106,
   "id": "239b0066",
   "metadata": {},
   "outputs": [
    {
     "data": {
      "text/plain": [
       "Month                                   December\n",
       "Company/Brand                        Practically\n",
       "Founded                                   2018.0\n",
       "Headquarters                           Hyderabad\n",
       "Sector                                E-learning\n",
       "Investor/s       NB Ventures, Earlsfield Capital\n",
       "Amount ($)                               5000000\n",
       "Stage                                        NaN\n",
       "Name: 49, dtype: object"
      ]
     },
     "execution_count": 106,
     "metadata": {},
     "output_type": "execute_result"
    }
   ],
   "source": [
    "india_df.iloc[35]"
   ]
  },
  {
   "cell_type": "code",
   "execution_count": null,
   "id": "5aebef5c",
   "metadata": {},
   "outputs": [],
   "source": []
  },
  {
   "cell_type": "code",
   "execution_count": null,
   "id": "0d5272d4",
   "metadata": {},
   "outputs": [],
   "source": [
    "stage['Seed+']"
   ]
  },
  {
   "cell_type": "code",
   "execution_count": null,
   "id": "ef47e407",
   "metadata": {},
   "outputs": [],
   "source": [
    "india_df.iloc[462]"
   ]
  },
  {
   "cell_type": "code",
   "execution_count": null,
   "id": "bdbd14bf",
   "metadata": {},
   "outputs": [],
   "source": []
  },
  {
   "cell_type": "code",
   "execution_count": null,
   "id": "dc7110fe",
   "metadata": {},
   "outputs": [],
   "source": [
    "india_companies_df['Stage'].value_counts()"
   ]
  },
  {
   "cell_type": "code",
   "execution_count": null,
   "id": "0476cee2",
   "metadata": {},
   "outputs": [],
   "source": []
  },
  {
   "cell_type": "code",
   "execution_count": null,
   "id": "db1e4772",
   "metadata": {},
   "outputs": [],
   "source": []
  },
  {
   "cell_type": "code",
   "execution_count": null,
   "id": "bbf2a31c",
   "metadata": {},
   "outputs": [],
   "source": [
    "for x in range(0, len(bool_series)):\n",
    "    print(bool_series[1])"
   ]
  },
  {
   "cell_type": "code",
   "execution_count": null,
   "id": "8555ce0e",
   "metadata": {
    "scrolled": true
   },
   "outputs": [],
   "source": [
    "#data = data.drop(labels=[1,15,20], axis=0)\n",
    "#india_df = india_df.drop(labels=[44], axis = 0)\n"
   ]
  },
  {
   "cell_type": "code",
   "execution_count": null,
   "id": "e525d6af",
   "metadata": {
    "scrolled": true
   },
   "outputs": [],
   "source": [
    "india_companies_df"
   ]
  },
  {
   "cell_type": "code",
   "execution_count": null,
   "id": "b82647e0",
   "metadata": {},
   "outputs": [],
   "source": []
  },
  {
   "cell_type": "code",
   "execution_count": null,
   "id": "0ce5540a",
   "metadata": {},
   "outputs": [],
   "source": []
  },
  {
   "cell_type": "code",
   "execution_count": null,
   "id": "ee539060",
   "metadata": {},
   "outputs": [],
   "source": []
  },
  {
   "cell_type": "code",
   "execution_count": null,
   "id": "9850e5b6",
   "metadata": {},
   "outputs": [],
   "source": [
    "for x in stage:\n",
    "    print(x)\n",
    "#Create a list of irregular stages that don't fit the bill\n",
    "#7 of these companies just have investors being pushed into the amount col, \n",
    "#and then the amount col pushed into stage, while deleteing the stage\n",
    "#the next 27 of 34 irr just have debt which means the company went into bankruptcy possibly or its just an error\n",
    "irr = []\n",
    "irr.extend(stage['1200000'])\n",
    "irr.extend(stage['300000'])\n",
    "irr.extend(stage['6000000'])\n",
    "irr.extend(stage['1000000'])\n",
    "irr.extend(stage['PE'])\n",
    "# learn what to do with nan irr.extend(comp[nan])\n",
    "#irr.extend(comp['Debt'])\n",
    "irr_debt = stage['Debt']\n"
   ]
  },
  {
   "cell_type": "code",
   "execution_count": null,
   "id": "d80cfe20",
   "metadata": {},
   "outputs": [],
   "source": [
    "stage.keys()\n"
   ]
  },
  {
   "cell_type": "code",
   "execution_count": null,
   "id": "1bf418b9",
   "metadata": {
    "scrolled": true
   },
   "outputs": [],
   "source": []
  },
  {
   "cell_type": "code",
   "execution_count": null,
   "id": "71b8e176",
   "metadata": {},
   "outputs": [],
   "source": [
    "b_min, b_max = funding(india_df,'Series B', 'Amount ($)')\n",
    "b_min"
   ]
  },
  {
   "cell_type": "code",
   "execution_count": null,
   "id": "3c31131a",
   "metadata": {},
   "outputs": [],
   "source": [
    "b_max"
   ]
  },
  {
   "cell_type": "code",
   "execution_count": null,
   "id": "18da8f88",
   "metadata": {},
   "outputs": [],
   "source": [
    "a_min, a_max = funding(india_df,'Series A', 'Amount ($)')"
   ]
  },
  {
   "cell_type": "code",
   "execution_count": null,
   "id": "e91f7746",
   "metadata": {},
   "outputs": [],
   "source": [
    "for y in stage['Series A']:\n",
    "    print(india_companies_df.iloc[y])\n",
    "    print(\"@@@@@@@@@@@@@@@@@@@@@@@@@@@@@@@@@@@@@@@@@@@@@@@@@@@@@@@@\")"
   ]
  },
  {
   "cell_type": "code",
   "execution_count": null,
   "id": "1d1281e1",
   "metadata": {},
   "outputs": [],
   "source": [
    "maxs"
   ]
  },
  {
   "cell_type": "code",
   "execution_count": null,
   "id": "064f6b4f",
   "metadata": {},
   "outputs": [],
   "source": [
    "maxs - mins"
   ]
  },
  {
   "cell_type": "code",
   "execution_count": null,
   "id": "d86ba2f0",
   "metadata": {
    "scrolled": true
   },
   "outputs": [],
   "source": [
    "len(irr)"
   ]
  },
  {
   "cell_type": "code",
   "execution_count": null,
   "id": "530d1c2d",
   "metadata": {},
   "outputs": [],
   "source": [
    "len(irr_debt)"
   ]
  },
  {
   "cell_type": "code",
   "execution_count": null,
   "id": "4182a8ec",
   "metadata": {},
   "outputs": [],
   "source": [
    "for y in irr_debt:\n",
    "    print(india_companies_df.iloc[y])\n",
    "    print(\"@@@@@@@@@@@@@@@@@@@@@@@@@@@@@@@@@@@@@@@@@@@@@@@@@@@@@@@@@@@@@@@@@@@@@@@@\")"
   ]
  },
  {
   "cell_type": "code",
   "execution_count": null,
   "id": "945233c3",
   "metadata": {},
   "outputs": [],
   "source": [
    "len(comp['Debt'])"
   ]
  },
  {
   "cell_type": "code",
   "execution_count": null,
   "id": "28e4715d",
   "metadata": {},
   "outputs": [],
   "source": [
    "len(india_companies_df)\n",
    "#data = data.drop(labels=[1,15,20], axis=0)"
   ]
  },
  {
   "cell_type": "code",
   "execution_count": null,
   "id": "70249843",
   "metadata": {},
   "outputs": [],
   "source": [
    "india_companies_df = india_companies_df.drop(labels = irr, axis = 0)"
   ]
  },
  {
   "cell_type": "code",
   "execution_count": null,
   "id": "1b3a7e21",
   "metadata": {},
   "outputs": [],
   "source": [
    "len(india_companies_df)"
   ]
  },
  {
   "cell_type": "code",
   "execution_count": null,
   "id": "7f527b47",
   "metadata": {},
   "outputs": [],
   "source": []
  },
  {
   "cell_type": "code",
   "execution_count": null,
   "id": "1b1a1293",
   "metadata": {},
   "outputs": [],
   "source": []
  },
  {
   "cell_type": "code",
   "execution_count": null,
   "id": "eb11fee9",
   "metadata": {},
   "outputs": [],
   "source": [
    "india_companies_df['Sector'].value_counts()"
   ]
  },
  {
   "cell_type": "code",
   "execution_count": null,
   "id": "823446c7",
   "metadata": {},
   "outputs": [],
   "source": [
    "sector = {}\n",
    "for x in range(0, len(india_companies_df['Sector'])):\n",
    "    if india_companies_df['Sector'][x] not in sector:\n",
    "        sector[x] = india_companies_df['Sector'][x]\n",
    "sector\n",
    "len(sector)"
   ]
  },
  {
   "cell_type": "code",
   "execution_count": null,
   "id": "315c6988",
   "metadata": {},
   "outputs": [],
   "source": [
    "sector_types = []\n",
    "for x in india_companies_df['Sector']:\n",
    "    if x not in sector_types:\n",
    "        sector_types.append(x)\n",
    "sector_types\n",
    "len(sector_types)"
   ]
  },
  {
   "cell_type": "code",
   "execution_count": null,
   "id": "6e3f62c7",
   "metadata": {},
   "outputs": [],
   "source": [
    "india_companies_df['Sector'][2]"
   ]
  },
  {
   "cell_type": "code",
   "execution_count": null,
   "id": "690ca63f",
   "metadata": {},
   "outputs": [],
   "source": [
    "months = {}\n",
    "company = {}\n",
    "Founded = {}\n",
    "hq = {}\n",
    "sector = {}##\n",
    "investor = {}\n",
    "amount = {}\n",
    "stage = {}##\n",
    "col = []\n",
    "for x in india_companies_df:\n",
    "    col.append(x)\n",
    "    \n",
    "col"
   ]
  },
  {
   "cell_type": "code",
   "execution_count": null,
   "id": "a4333909",
   "metadata": {},
   "outputs": [],
   "source": [
    "for x in india_companies_df['Sector']:\n",
    "    print(x)"
   ]
  },
  {
   "cell_type": "code",
   "execution_count": null,
   "id": "f72d9491",
   "metadata": {},
   "outputs": [],
   "source": [
    "india_companies_df['Month'].value_counts()"
   ]
  },
  {
   "cell_type": "code",
   "execution_count": null,
   "id": "f7fc66c2",
   "metadata": {},
   "outputs": [],
   "source": [
    "india_companies_df = india_companies_df[india_companies_df['Founded']>= 2000]\n",
    "india_companies_df = india_companies_df[india_companies_df['Amount ($)']!= 0]\n",
    "\n",
    "india_companies_df['Amount ($)'].value_counts()"
   ]
  },
  {
   "cell_type": "code",
   "execution_count": null,
   "id": "01b79742",
   "metadata": {},
   "outputs": [],
   "source": []
  },
  {
   "cell_type": "code",
   "execution_count": null,
   "id": "ea36292b",
   "metadata": {},
   "outputs": [],
   "source": [
    "for column in india_companies_df.columns:\n",
    "    print (f\"Column {column} has {india_companies_df[column].isnull().sum()} null values\")"
   ]
  },
  {
   "cell_type": "code",
   "execution_count": null,
   "id": "a50a23ec",
   "metadata": {},
   "outputs": [],
   "source": [
    "#Replace NaN's\n",
    "\n",
    "india_companies_df[\"Stage\"] = india_companies_df[\"Stage\"].replace(np.nan,\"Other\")\n",
    "india_companies_df[\"Headquarters\"] = india_companies_df[\"Headquarters\"].replace(np.nan,\"Other\")\n",
    "india_companies_df[\"Investor/s\"] = india_companies_df[\"Investor/s\"].replace(np.nan,\"Other\")\n",
    "# india_companies_df[\"Founder/s\"] = india_companies_df[\"Founder/s\"].replace(np.nan,\"Other\")\n",
    "\n",
    "\n",
    "# #Verify binning was successful \n",
    "# india_companies_df[\"Stage\"].value_counts()"
   ]
  },
  {
   "cell_type": "code",
   "execution_count": null,
   "id": "9591ab6f",
   "metadata": {},
   "outputs": [],
   "source": [
    "india_companies_df.set_index('Company/Brand',inplace = True)\n",
    "india_companies_df.head(10)\n"
   ]
  },
  {
   "cell_type": "code",
   "execution_count": null,
   "id": "68ff68d3",
   "metadata": {},
   "outputs": [],
   "source": [
    "india_encoded = pd.get_dummies(india_companies_df,columns = ['Month','Headquarters','Sector','Investor/s','Stage'])\n",
    "india_encoded.head()"
   ]
  },
  {
   "cell_type": "code",
   "execution_count": null,
   "id": "ff0ab246",
   "metadata": {},
   "outputs": [],
   "source": []
  }
 ],
 "metadata": {
  "kernelspec": {
   "display_name": "Python 3 (ipykernel)",
   "language": "python",
   "name": "python3"
  },
  "language_info": {
   "codemirror_mode": {
    "name": "ipython",
    "version": 3
   },
   "file_extension": ".py",
   "mimetype": "text/x-python",
   "name": "python",
   "nbconvert_exporter": "python",
   "pygments_lexer": "ipython3",
   "version": "3.9.7"
  }
 },
 "nbformat": 4,
 "nbformat_minor": 5
}
