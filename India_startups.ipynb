{
 "cells": [
  {
   "cell_type": "code",
   "execution_count": 1,
   "id": "0a3df55a",
   "metadata": {},
   "outputs": [],
   "source": [
    "# Import our dependencies\n",
    "import os \n",
    "import datetime\n",
    "from sklearn.model_selection import train_test_split\n",
    "from sklearn.preprocessing import StandardScaler,OneHotEncoder\n",
    "from sklearn.preprocessing import MinMaxScaler, LabelEncoder\n",
    "from matplotlib import pyplot as plt\n",
    "import plotly.express as px\n",
    "import pandas as pd\n",
    "from sklearn.cluster import KMeans\n",
    "import numpy as np\n",
    "import tensorflow as tf\n",
    "import math\n",
    "from numpy import nan"
   ]
  },
  {
   "cell_type": "code",
   "execution_count": 2,
   "id": "25a52644",
   "metadata": {},
   "outputs": [
    {
     "data": {
      "text/html": [
       "<div>\n",
       "<style scoped>\n",
       "    .dataframe tbody tr th:only-of-type {\n",
       "        vertical-align: middle;\n",
       "    }\n",
       "\n",
       "    .dataframe tbody tr th {\n",
       "        vertical-align: top;\n",
       "    }\n",
       "\n",
       "    .dataframe thead th {\n",
       "        text-align: right;\n",
       "    }\n",
       "</style>\n",
       "<table border=\"1\" class=\"dataframe\">\n",
       "  <thead>\n",
       "    <tr style=\"text-align: right;\">\n",
       "      <th></th>\n",
       "      <th>Month</th>\n",
       "      <th>Company/Brand</th>\n",
       "      <th>Founded</th>\n",
       "      <th>Headquarters</th>\n",
       "      <th>Sector</th>\n",
       "      <th>What it does</th>\n",
       "      <th>Founder/s</th>\n",
       "      <th>Investor/s</th>\n",
       "      <th>Amount ($)</th>\n",
       "      <th>Stage</th>\n",
       "    </tr>\n",
       "  </thead>\n",
       "  <tbody>\n",
       "    <tr>\n",
       "      <th>0</th>\n",
       "      <td>December</td>\n",
       "      <td>CollegeDekho</td>\n",
       "      <td>2015.0</td>\n",
       "      <td>Gurgaon</td>\n",
       "      <td>E-learning</td>\n",
       "      <td>Collegedekho.com is Student’s Partner, Friend ...</td>\n",
       "      <td>Ruchir Arora</td>\n",
       "      <td>Disrupt ADQ, QIC</td>\n",
       "      <td>35000000</td>\n",
       "      <td>Series B</td>\n",
       "    </tr>\n",
       "    <tr>\n",
       "      <th>1</th>\n",
       "      <td>December</td>\n",
       "      <td>BOX8</td>\n",
       "      <td>2012.0</td>\n",
       "      <td>Mumbai</td>\n",
       "      <td>Food &amp; Beverages</td>\n",
       "      <td>India's Largest Desi Meals Brand</td>\n",
       "      <td>Anshul Gupta, Amit Raj</td>\n",
       "      <td>Tiger Global</td>\n",
       "      <td>40000000</td>\n",
       "      <td>NaN</td>\n",
       "    </tr>\n",
       "    <tr>\n",
       "      <th>2</th>\n",
       "      <td>December</td>\n",
       "      <td>Simpl</td>\n",
       "      <td>2015.0</td>\n",
       "      <td>Bangalore</td>\n",
       "      <td>Consumer Services</td>\n",
       "      <td>Simpl empowers merchants to build trusted rela...</td>\n",
       "      <td>Nitya, Chaitra Chidanand</td>\n",
       "      <td>Valar Ventures, IA Ventures</td>\n",
       "      <td>40000000</td>\n",
       "      <td>Series B</td>\n",
       "    </tr>\n",
       "    <tr>\n",
       "      <th>3</th>\n",
       "      <td>December</td>\n",
       "      <td>8i Ventures</td>\n",
       "      <td>2018.0</td>\n",
       "      <td>Mumbai</td>\n",
       "      <td>Venture Capital &amp; Private Equity</td>\n",
       "      <td>8i is a Mumbai &amp; Bangalore based early stage f...</td>\n",
       "      <td>Vikram Chachra</td>\n",
       "      <td>NaN</td>\n",
       "      <td>50000000</td>\n",
       "      <td>NaN</td>\n",
       "    </tr>\n",
       "    <tr>\n",
       "      <th>4</th>\n",
       "      <td>December</td>\n",
       "      <td>PayGlocal</td>\n",
       "      <td>2021.0</td>\n",
       "      <td>Bangalore</td>\n",
       "      <td>Financial Services</td>\n",
       "      <td>PayGlocal is a FinTech solving for global paym...</td>\n",
       "      <td>Prachi Dharani, Rohit Sukhija, Yogesh Lokhande</td>\n",
       "      <td>Sequoia Capital India</td>\n",
       "      <td>4900000</td>\n",
       "      <td>Series A</td>\n",
       "    </tr>\n",
       "    <tr>\n",
       "      <th>5</th>\n",
       "      <td>December</td>\n",
       "      <td>Curefit</td>\n",
       "      <td>2016.0</td>\n",
       "      <td>Bangalore</td>\n",
       "      <td>Health, Wellness &amp; Fitness</td>\n",
       "      <td>Tata Digital-backed Curefit</td>\n",
       "      <td>Mukesh Bansal, Ankit</td>\n",
       "      <td>Zomato</td>\n",
       "      <td>145000000</td>\n",
       "      <td>NaN</td>\n",
       "    </tr>\n",
       "    <tr>\n",
       "      <th>6</th>\n",
       "      <td>December</td>\n",
       "      <td>Pocket FM</td>\n",
       "      <td>2018.0</td>\n",
       "      <td>Bangalore</td>\n",
       "      <td>OTT</td>\n",
       "      <td>Pocket FM lets users discover and enjoy the gr...</td>\n",
       "      <td>Rohan, Nishanth Srinivas, Prateek Dixit</td>\n",
       "      <td>Lightspeed, Times Group, Tanglin Venture Partners</td>\n",
       "      <td>22000000</td>\n",
       "      <td>Series B</td>\n",
       "    </tr>\n",
       "    <tr>\n",
       "      <th>7</th>\n",
       "      <td>December</td>\n",
       "      <td>CHARGE+ZONE</td>\n",
       "      <td>2018.0</td>\n",
       "      <td>Vadodara</td>\n",
       "      <td>Automotive</td>\n",
       "      <td>CHARGE+ZONE is a tech-driven EV Charging infra...</td>\n",
       "      <td>Kartikey Hariyani</td>\n",
       "      <td>Venture Catalysts</td>\n",
       "      <td>10000000</td>\n",
       "      <td>NaN</td>\n",
       "    </tr>\n",
       "    <tr>\n",
       "      <th>8</th>\n",
       "      <td>December</td>\n",
       "      <td>PlanetSpark</td>\n",
       "      <td>2017.0</td>\n",
       "      <td>Gurugram</td>\n",
       "      <td>Education Management</td>\n",
       "      <td>PlanetSpark is building the World Leader in Co...</td>\n",
       "      <td>Maneesh Dhooper, Kunal Malik</td>\n",
       "      <td>Binny Bansal, Deep Kalra, Dr Ashish Gupta, Gok...</td>\n",
       "      <td>13000000</td>\n",
       "      <td>Series B</td>\n",
       "    </tr>\n",
       "    <tr>\n",
       "      <th>9</th>\n",
       "      <td>December</td>\n",
       "      <td>LenDenClub</td>\n",
       "      <td>2015.0</td>\n",
       "      <td>Mumbai</td>\n",
       "      <td>Financial Services</td>\n",
       "      <td>P2P lending platform delivering high returns o...</td>\n",
       "      <td>Bhavin Patel, Dipesh Karki</td>\n",
       "      <td>Tuscan Ventures, Ohm Stock Brokers, Artha Vent...</td>\n",
       "      <td>10000000</td>\n",
       "      <td>Series A</td>\n",
       "    </tr>\n",
       "  </tbody>\n",
       "</table>\n",
       "</div>"
      ],
      "text/plain": [
       "      Month Company/Brand  Founded Headquarters  \\\n",
       "0  December  CollegeDekho   2015.0      Gurgaon   \n",
       "1  December          BOX8   2012.0       Mumbai   \n",
       "2  December         Simpl   2015.0    Bangalore   \n",
       "3  December   8i Ventures   2018.0       Mumbai   \n",
       "4  December     PayGlocal   2021.0    Bangalore   \n",
       "5  December       Curefit   2016.0    Bangalore   \n",
       "6  December     Pocket FM   2018.0    Bangalore   \n",
       "7  December   CHARGE+ZONE   2018.0     Vadodara   \n",
       "8  December   PlanetSpark   2017.0     Gurugram   \n",
       "9  December    LenDenClub   2015.0       Mumbai   \n",
       "\n",
       "                             Sector  \\\n",
       "0                        E-learning   \n",
       "1                  Food & Beverages   \n",
       "2                 Consumer Services   \n",
       "3  Venture Capital & Private Equity   \n",
       "4                Financial Services   \n",
       "5        Health, Wellness & Fitness   \n",
       "6                               OTT   \n",
       "7                        Automotive   \n",
       "8              Education Management   \n",
       "9                Financial Services   \n",
       "\n",
       "                                        What it does  \\\n",
       "0  Collegedekho.com is Student’s Partner, Friend ...   \n",
       "1                   India's Largest Desi Meals Brand   \n",
       "2  Simpl empowers merchants to build trusted rela...   \n",
       "3  8i is a Mumbai & Bangalore based early stage f...   \n",
       "4  PayGlocal is a FinTech solving for global paym...   \n",
       "5                        Tata Digital-backed Curefit   \n",
       "6  Pocket FM lets users discover and enjoy the gr...   \n",
       "7  CHARGE+ZONE is a tech-driven EV Charging infra...   \n",
       "8  PlanetSpark is building the World Leader in Co...   \n",
       "9  P2P lending platform delivering high returns o...   \n",
       "\n",
       "                                        Founder/s  \\\n",
       "0                                    Ruchir Arora   \n",
       "1                          Anshul Gupta, Amit Raj   \n",
       "2                        Nitya, Chaitra Chidanand   \n",
       "3                                  Vikram Chachra   \n",
       "4  Prachi Dharani, Rohit Sukhija, Yogesh Lokhande   \n",
       "5                            Mukesh Bansal, Ankit   \n",
       "6         Rohan, Nishanth Srinivas, Prateek Dixit   \n",
       "7                               Kartikey Hariyani   \n",
       "8                    Maneesh Dhooper, Kunal Malik   \n",
       "9                      Bhavin Patel, Dipesh Karki   \n",
       "\n",
       "                                          Investor/s Amount ($)     Stage  \n",
       "0                                   Disrupt ADQ, QIC   35000000  Series B  \n",
       "1                                       Tiger Global   40000000       NaN  \n",
       "2                        Valar Ventures, IA Ventures   40000000  Series B  \n",
       "3                                                NaN   50000000       NaN  \n",
       "4                              Sequoia Capital India    4900000  Series A  \n",
       "5                                             Zomato  145000000       NaN  \n",
       "6  Lightspeed, Times Group, Tanglin Venture Partners   22000000  Series B  \n",
       "7                                  Venture Catalysts   10000000       NaN  \n",
       "8  Binny Bansal, Deep Kalra, Dr Ashish Gupta, Gok...   13000000  Series B  \n",
       "9  Tuscan Ventures, Ohm Stock Brokers, Artha Vent...   10000000  Series A  "
      ]
     },
     "execution_count": 2,
     "metadata": {},
     "output_type": "execute_result"
    }
   ],
   "source": [
    "#Import the dataset \n",
    "india_companies_df = pd.read_csv('Resources/related_databases/India-startup-funding-2021-full.csv')\n",
    "# india_companies_df = companies_df.drop(['Portfolio Exits'],axis = 1)\n",
    "india_companies_df.head(10)"
   ]
  },
  {
   "cell_type": "code",
   "execution_count": 3,
   "id": "b55536c8",
   "metadata": {},
   "outputs": [
    {
     "data": {
      "text/plain": [
       "1037"
      ]
     },
     "execution_count": 3,
     "metadata": {},
     "output_type": "execute_result"
    }
   ],
   "source": [
    "dup = {}\n",
    "drop = []\n",
    "for x in range(0, len(india_companies_df['Company/Brand'])):\n",
    "    if india_companies_df['Company/Brand'][x] not in dup.keys():\n",
    "        dup[india_companies_df['Company/Brand'][x]] = [x]\n",
    "    else:\n",
    "        dup[india_companies_df['Company/Brand'][x]] += [x]\n",
    "        drop.append(x)\n",
    "len(dup)"
   ]
  },
  {
   "cell_type": "code",
   "execution_count": 4,
   "id": "db649efb",
   "metadata": {},
   "outputs": [],
   "source": [
    "#dup"
   ]
  },
  {
   "cell_type": "code",
   "execution_count": 5,
   "id": "c5567bab",
   "metadata": {},
   "outputs": [],
   "source": [
    "#need to have a counter of rows dropped to use iloc\n",
    "rows_dropped = len(drop)#duplicates\n",
    "#data = data.drop(labels=[1,15,20], axis=0)\n"
   ]
  },
  {
   "cell_type": "code",
   "execution_count": null,
   "id": "c1c2d41f",
   "metadata": {},
   "outputs": [],
   "source": []
  },
  {
   "cell_type": "code",
   "execution_count": 6,
   "id": "3c564a52",
   "metadata": {},
   "outputs": [],
   "source": [
    "india_df = india_companies_df.drop(labels=drop, axis=0)"
   ]
  },
  {
   "cell_type": "code",
   "execution_count": 7,
   "id": "d3b7d5b1",
   "metadata": {},
   "outputs": [],
   "source": [
    "def find_index(df, name): #all company names shud be unique\n",
    "    y = 0\n",
    "    for x in df['Company/Brand']:\n",
    "        if x == name:\n",
    "            return y\n",
    "        y += 1"
   ]
  },
  {
   "cell_type": "code",
   "execution_count": 8,
   "id": "ca62f598",
   "metadata": {},
   "outputs": [],
   "source": [
    "def group_stages(df):\n",
    "    stage = {}\n",
    "    #first_round = [\"Series A\",\"Series A+\",\"Series A2\"]\n",
    "    y = 0\n",
    "    for x in df['Stage']:\n",
    "        if x not in stage.keys():\n",
    "            stage[x] = [y]\n",
    "        else:\n",
    "            stage[x] += [y]\n",
    "    \n",
    "        y += 1\n",
    "    return stage"
   ]
  },
  {
   "cell_type": "code",
   "execution_count": 9,
   "id": "4b4d2eda",
   "metadata": {},
   "outputs": [],
   "source": [
    "def get_values(df):\n",
    "    value = {}\n",
    "    y = 0\n",
    "    for x in india_df['Amount ($)']:\n",
    "        if x not in value.keys():\n",
    "            value[x] = [y]\n",
    "        else:\n",
    "            value[x] += [y]\n",
    "    \n",
    "        y += 1\n",
    "    return value"
   ]
  },
  {
   "cell_type": "code",
   "execution_count": 10,
   "id": "b6563d3e",
   "metadata": {},
   "outputs": [],
   "source": [
    "#find the range of series b funding\n",
    "#Clean the amount col firstttt\n",
    "def funding(df,st, col):\n",
    "    '''stage : type string\n",
    "       col   : type string \n",
    "    '''\n",
    "    mins = 0\n",
    "    maxs = 0\n",
    "    for y in stage[st]:\n",
    "        if mins == 0 and maxs == 0:\n",
    "            mins = int(df[col][y])\n",
    "            maxs = int(df[col][y])\n",
    "            \n",
    "        elif int(df[col][y]) < mins :\n",
    "            mins = int(df[col][y])\n",
    "            \n",
    "        elif maxs < int(df[col][y]):\n",
    "            maxs = int(df[col][y])\n",
    "            \n",
    "        #print(india_companies_df[col][y]) # not required\n",
    "    return (mins, maxs)"
   ]
  },
  {
   "cell_type": "code",
   "execution_count": 11,
   "id": "70622a45",
   "metadata": {},
   "outputs": [],
   "source": [
    "def change_stage_name(df, row,name):\n",
    "    index = find_index(india_companies_df, df.iloc[row][1])\n",
    "    india_df['Stage'][index] = name "
   ]
  },
  {
   "cell_type": "code",
   "execution_count": null,
   "id": "5701b8f2",
   "metadata": {},
   "outputs": [],
   "source": []
  },
  {
   "cell_type": "code",
   "execution_count": null,
   "id": "9460d67e",
   "metadata": {},
   "outputs": [],
   "source": []
  },
  {
   "cell_type": "code",
   "execution_count": 12,
   "id": "51881917",
   "metadata": {},
   "outputs": [
    {
     "data": {
      "text/html": [
       "<div>\n",
       "<style scoped>\n",
       "    .dataframe tbody tr th:only-of-type {\n",
       "        vertical-align: middle;\n",
       "    }\n",
       "\n",
       "    .dataframe tbody tr th {\n",
       "        vertical-align: top;\n",
       "    }\n",
       "\n",
       "    .dataframe thead th {\n",
       "        text-align: right;\n",
       "    }\n",
       "</style>\n",
       "<table border=\"1\" class=\"dataframe\">\n",
       "  <thead>\n",
       "    <tr style=\"text-align: right;\">\n",
       "      <th></th>\n",
       "      <th>Month</th>\n",
       "      <th>Company/Brand</th>\n",
       "      <th>Founded</th>\n",
       "      <th>Headquarters</th>\n",
       "      <th>Sector</th>\n",
       "      <th>What it does</th>\n",
       "      <th>Founder/s</th>\n",
       "      <th>Investor/s</th>\n",
       "      <th>Amount ($)</th>\n",
       "      <th>Stage</th>\n",
       "    </tr>\n",
       "  </thead>\n",
       "  <tbody>\n",
       "    <tr>\n",
       "      <th>0</th>\n",
       "      <td>December</td>\n",
       "      <td>CollegeDekho</td>\n",
       "      <td>2015.0</td>\n",
       "      <td>Gurgaon</td>\n",
       "      <td>E-learning</td>\n",
       "      <td>Collegedekho.com is Student’s Partner, Friend ...</td>\n",
       "      <td>Ruchir Arora</td>\n",
       "      <td>Disrupt ADQ, QIC</td>\n",
       "      <td>35000000</td>\n",
       "      <td>Series B</td>\n",
       "    </tr>\n",
       "    <tr>\n",
       "      <th>1</th>\n",
       "      <td>December</td>\n",
       "      <td>BOX8</td>\n",
       "      <td>2012.0</td>\n",
       "      <td>Mumbai</td>\n",
       "      <td>Food &amp; Beverages</td>\n",
       "      <td>India's Largest Desi Meals Brand</td>\n",
       "      <td>Anshul Gupta, Amit Raj</td>\n",
       "      <td>Tiger Global</td>\n",
       "      <td>40000000</td>\n",
       "      <td>NaN</td>\n",
       "    </tr>\n",
       "    <tr>\n",
       "      <th>2</th>\n",
       "      <td>December</td>\n",
       "      <td>Simpl</td>\n",
       "      <td>2015.0</td>\n",
       "      <td>Bangalore</td>\n",
       "      <td>Consumer Services</td>\n",
       "      <td>Simpl empowers merchants to build trusted rela...</td>\n",
       "      <td>Nitya, Chaitra Chidanand</td>\n",
       "      <td>Valar Ventures, IA Ventures</td>\n",
       "      <td>40000000</td>\n",
       "      <td>Series B</td>\n",
       "    </tr>\n",
       "    <tr>\n",
       "      <th>3</th>\n",
       "      <td>December</td>\n",
       "      <td>8i Ventures</td>\n",
       "      <td>2018.0</td>\n",
       "      <td>Mumbai</td>\n",
       "      <td>Venture Capital &amp; Private Equity</td>\n",
       "      <td>8i is a Mumbai &amp; Bangalore based early stage f...</td>\n",
       "      <td>Vikram Chachra</td>\n",
       "      <td>NaN</td>\n",
       "      <td>50000000</td>\n",
       "      <td>NaN</td>\n",
       "    </tr>\n",
       "    <tr>\n",
       "      <th>4</th>\n",
       "      <td>December</td>\n",
       "      <td>PayGlocal</td>\n",
       "      <td>2021.0</td>\n",
       "      <td>Bangalore</td>\n",
       "      <td>Financial Services</td>\n",
       "      <td>PayGlocal is a FinTech solving for global paym...</td>\n",
       "      <td>Prachi Dharani, Rohit Sukhija, Yogesh Lokhande</td>\n",
       "      <td>Sequoia Capital India</td>\n",
       "      <td>4900000</td>\n",
       "      <td>Series A</td>\n",
       "    </tr>\n",
       "    <tr>\n",
       "      <th>...</th>\n",
       "      <td>...</td>\n",
       "      <td>...</td>\n",
       "      <td>...</td>\n",
       "      <td>...</td>\n",
       "      <td>...</td>\n",
       "      <td>...</td>\n",
       "      <td>...</td>\n",
       "      <td>...</td>\n",
       "      <td>...</td>\n",
       "      <td>...</td>\n",
       "    </tr>\n",
       "    <tr>\n",
       "      <th>1203</th>\n",
       "      <td>January</td>\n",
       "      <td>BlackSoil</td>\n",
       "      <td>2016.0</td>\n",
       "      <td>Mumbai</td>\n",
       "      <td>FinTech</td>\n",
       "      <td>Blacksoil Advisory is an independent boutique ...</td>\n",
       "      <td>Ankur Bansal</td>\n",
       "      <td>Awign Enterprises</td>\n",
       "      <td>4000000</td>\n",
       "      <td>NaN</td>\n",
       "    </tr>\n",
       "    <tr>\n",
       "      <th>1204</th>\n",
       "      <td>January</td>\n",
       "      <td>HobSpace</td>\n",
       "      <td>2019.0</td>\n",
       "      <td>Mumbai</td>\n",
       "      <td>EdTech</td>\n",
       "      <td>HobSpace is a platform for extra-curricular ac...</td>\n",
       "      <td>Priya Goel Sheth, Harsh Jain</td>\n",
       "      <td>Siddharth Bhaskar Shah, Upsparks</td>\n",
       "      <td>100000</td>\n",
       "      <td>Pre-series A1</td>\n",
       "    </tr>\n",
       "    <tr>\n",
       "      <th>1205</th>\n",
       "      <td>January</td>\n",
       "      <td>DcodeAI</td>\n",
       "      <td>2020.0</td>\n",
       "      <td>New Delhi</td>\n",
       "      <td>EdTech</td>\n",
       "      <td>EMPOWER LEARNERS TO BE FUTURE READY USING AI</td>\n",
       "      <td>Kartik Sharma, Ashish Aggarwal</td>\n",
       "      <td>S Chand</td>\n",
       "      <td>500000</td>\n",
       "      <td>NaN</td>\n",
       "    </tr>\n",
       "    <tr>\n",
       "      <th>1206</th>\n",
       "      <td>January</td>\n",
       "      <td>Biocon Biologics</td>\n",
       "      <td>1978.0</td>\n",
       "      <td>Bangalore</td>\n",
       "      <td>BioTechnology</td>\n",
       "      <td>Biocon is a fully integrated pure play biosimi...</td>\n",
       "      <td>Kiran Mazumdar-Shaw</td>\n",
       "      <td>Goldman Sachs, Tata Capital</td>\n",
       "      <td>70000000</td>\n",
       "      <td>NaN</td>\n",
       "    </tr>\n",
       "    <tr>\n",
       "      <th>1207</th>\n",
       "      <td>January</td>\n",
       "      <td>KiranaKart</td>\n",
       "      <td>2020.0</td>\n",
       "      <td>Mumbai</td>\n",
       "      <td>E-commerce</td>\n",
       "      <td>A better model for instant grocery delivery in...</td>\n",
       "      <td>Kaivalya Vohra, Aadit Palicha</td>\n",
       "      <td>Global Founders Capital</td>\n",
       "      <td>720000</td>\n",
       "      <td>Pre-seed</td>\n",
       "    </tr>\n",
       "  </tbody>\n",
       "</table>\n",
       "<p>1037 rows × 10 columns</p>\n",
       "</div>"
      ],
      "text/plain": [
       "         Month     Company/Brand  Founded Headquarters  \\\n",
       "0     December      CollegeDekho   2015.0      Gurgaon   \n",
       "1     December              BOX8   2012.0       Mumbai   \n",
       "2     December             Simpl   2015.0    Bangalore   \n",
       "3     December       8i Ventures   2018.0       Mumbai   \n",
       "4     December         PayGlocal   2021.0    Bangalore   \n",
       "...        ...               ...      ...          ...   \n",
       "1203   January         BlackSoil   2016.0       Mumbai   \n",
       "1204   January          HobSpace   2019.0       Mumbai   \n",
       "1205   January           DcodeAI   2020.0    New Delhi   \n",
       "1206   January  Biocon Biologics   1978.0    Bangalore   \n",
       "1207   January        KiranaKart   2020.0       Mumbai   \n",
       "\n",
       "                                Sector  \\\n",
       "0                           E-learning   \n",
       "1                     Food & Beverages   \n",
       "2                    Consumer Services   \n",
       "3     Venture Capital & Private Equity   \n",
       "4                   Financial Services   \n",
       "...                                ...   \n",
       "1203                           FinTech   \n",
       "1204                            EdTech   \n",
       "1205                            EdTech   \n",
       "1206                     BioTechnology   \n",
       "1207                       E-commerce    \n",
       "\n",
       "                                           What it does  \\\n",
       "0     Collegedekho.com is Student’s Partner, Friend ...   \n",
       "1                      India's Largest Desi Meals Brand   \n",
       "2     Simpl empowers merchants to build trusted rela...   \n",
       "3     8i is a Mumbai & Bangalore based early stage f...   \n",
       "4     PayGlocal is a FinTech solving for global paym...   \n",
       "...                                                 ...   \n",
       "1203  Blacksoil Advisory is an independent boutique ...   \n",
       "1204  HobSpace is a platform for extra-curricular ac...   \n",
       "1205       EMPOWER LEARNERS TO BE FUTURE READY USING AI   \n",
       "1206  Biocon is a fully integrated pure play biosimi...   \n",
       "1207  A better model for instant grocery delivery in...   \n",
       "\n",
       "                                           Founder/s  \\\n",
       "0                                       Ruchir Arora   \n",
       "1                             Anshul Gupta, Amit Raj   \n",
       "2                           Nitya, Chaitra Chidanand   \n",
       "3                                     Vikram Chachra   \n",
       "4     Prachi Dharani, Rohit Sukhija, Yogesh Lokhande   \n",
       "...                                              ...   \n",
       "1203                                    Ankur Bansal   \n",
       "1204                    Priya Goel Sheth, Harsh Jain   \n",
       "1205                  Kartik Sharma, Ashish Aggarwal   \n",
       "1206                             Kiran Mazumdar-Shaw   \n",
       "1207                   Kaivalya Vohra, Aadit Palicha   \n",
       "\n",
       "                            Investor/s Amount ($)          Stage  \n",
       "0                     Disrupt ADQ, QIC   35000000       Series B  \n",
       "1                         Tiger Global   40000000            NaN  \n",
       "2          Valar Ventures, IA Ventures   40000000       Series B  \n",
       "3                                  NaN   50000000            NaN  \n",
       "4                Sequoia Capital India    4900000       Series A  \n",
       "...                                ...        ...            ...  \n",
       "1203                 Awign Enterprises    4000000            NaN  \n",
       "1204  Siddharth Bhaskar Shah, Upsparks     100000  Pre-series A1  \n",
       "1205                           S Chand     500000            NaN  \n",
       "1206       Goldman Sachs, Tata Capital   70000000            NaN  \n",
       "1207           Global Founders Capital     720000       Pre-seed  \n",
       "\n",
       "[1037 rows x 10 columns]"
      ]
     },
     "execution_count": 12,
     "metadata": {},
     "output_type": "execute_result"
    }
   ],
   "source": [
    "india_df"
   ]
  },
  {
   "cell_type": "code",
   "execution_count": 13,
   "id": "9559aa85",
   "metadata": {},
   "outputs": [
    {
     "data": {
      "text/plain": [
       "1209"
      ]
     },
     "execution_count": 13,
     "metadata": {},
     "output_type": "execute_result"
    }
   ],
   "source": [
    "len(india_companies_df) #indicates we have duplicates"
   ]
  },
  {
   "cell_type": "code",
   "execution_count": 14,
   "id": "af257a45",
   "metadata": {},
   "outputs": [],
   "source": [
    "india_df = india_df.drop(columns = ['Founder/s','What it does'])"
   ]
  },
  {
   "cell_type": "code",
   "execution_count": 15,
   "id": "3628d710",
   "metadata": {},
   "outputs": [],
   "source": [
    "#for x in range india_companies_df['Amount ($)']:"
   ]
  },
  {
   "cell_type": "code",
   "execution_count": 16,
   "id": "316ac239",
   "metadata": {},
   "outputs": [
    {
     "data": {
      "text/plain": [
       "Seed             220\n",
       "Pre-series A     128\n",
       "Series A         111\n",
       "Pre-seed          45\n",
       "Series B          43\n",
       "Series C          37\n",
       "Series D          15\n",
       "Series E          15\n",
       "Debt              12\n",
       "Pre-Series A       9\n",
       "Pre-series B       8\n",
       "Series F           4\n",
       "Pre-series A1      4\n",
       "Series G           2\n",
       "Bridge             2\n",
       "Pre-series         2\n",
       "300000             2\n",
       "Series D1          1\n",
       "Seies A            1\n",
       "1000000            1\n",
       "6000000            1\n",
       "Seed+              1\n",
       "Early seed         1\n",
       "Series F2          1\n",
       "1200000            1\n",
       "Series A2          1\n",
       "Series F1          1\n",
       "Name: Stage, dtype: int64"
      ]
     },
     "execution_count": 16,
     "metadata": {},
     "output_type": "execute_result"
    }
   ],
   "source": [
    "india_df['Stage'].value_counts()"
   ]
  },
  {
   "cell_type": "code",
   "execution_count": 17,
   "id": "bdc656d1",
   "metadata": {},
   "outputs": [
    {
     "data": {
      "text/plain": [
       "Undisclosed    116\n",
       "1000000         74\n",
       "2000000         57\n",
       "3000000         43\n",
       "5000000         36\n",
       "              ... \n",
       "130000           1\n",
       "4200000          1\n",
       "2700000          1\n",
       "550000           1\n",
       "720000           1\n",
       "Name: Amount ($), Length: 186, dtype: int64"
      ]
     },
     "execution_count": 17,
     "metadata": {},
     "output_type": "execute_result"
    }
   ],
   "source": [
    "india_df['Amount ($)'].value_counts()"
   ]
  },
  {
   "cell_type": "code",
   "execution_count": 18,
   "id": "b2884e7d",
   "metadata": {},
   "outputs": [],
   "source": [
    "value = get_values(india_df)"
   ]
  },
  {
   "cell_type": "code",
   "execution_count": 19,
   "id": "86ca6ccf",
   "metadata": {
    "scrolled": true
   },
   "outputs": [
    {
     "data": {
      "text/plain": [
       "dict_keys(['35000000', '40000000', '50000000', '4900000', '145000000', '22000000', '10000000', '13000000', '70000000', '100000000', '6700000', '30000000', '7000000', '5000000', '6600000', '32000000', '150000000', '24000000', '700000', 'Undisclosed', '200000', '1500000', '1300000', '1000000', '725000', '500000', '461000', 'Series C', 'Seed', '96000000', '4000000', '60000000', '20000000', '500000000', '266000000', '4500000', '1200000', '300000', '9500000', '325000000', '6500000', '1600000', '400000', '225000', '85000000', '235000', '260000', '2900000', '12000000', '53000000', '3500000', '3000000', '1100000', '150000', '86000000', '130000', '10000', '111000000', '37000000', '6000000', '265000', '76000000', '2000000', '3300000', '92000000', '600000', '100000', '17000000', '2500000', '135000000', '8000000', '15000000', '5500000', '155000', '2100000', '25000000', '21000000', '840000000', '248000000', '220000000', '4300000', '570000', '2200000', '4700000', '300000000', '52000000', '28000000', '260000000', '140000000', '175000000', '19000000', '200000000', '810000', '7500000', '600000000', '125000000', '90000000', '250000000', '11000000', '2300000', '5700000', '6750000', '75000000', '78000000', '3200000', '5400000', '115000000', '1900000', '255000000', '18000000', '48000000', '570000000', '550000', '2700000', '4200000', nan, '1700000', '450000000', '31000000', '540000', '14000000', '340000', '900000', '6200000', '800000', '750000', '6300000', '320000', '23000000', '55000000', 'Upsparks', '225000000', '250000', '3800000', '17500000', '42000000', '16000000', 'undisclosed', '44000000', '770000', '9000000', '1800000', '330000', '36000000', '67000000', '10200000', '450000', 'ah! Ventures', 'Pre-series A', 'ITO Angel Network, LetsVenture', '3600000', '65000000', '1400000', '370000', '41000000', '144000000', '5200000', '140000', '4800000', '38000000', '125000', '26000000', '64000000', '620000', 'JITO Angel Network, LetsVenture', '350000', '49000000', '160000000', '850000', '7400000', '800000000', '350000000', '83000000', '150000000000', '1250000', '27000000', '234000000', '13500000', '5100000', '195000000', '2600000', '7300000', '12500000', '45000000', '81000000', '280000000', '720000'])"
      ]
     },
     "execution_count": 19,
     "metadata": {},
     "output_type": "execute_result"
    }
   ],
   "source": [
    "value.keys() # want to work through every non numeric value"
   ]
  },
  {
   "cell_type": "code",
   "execution_count": 20,
   "id": "c21b4b31",
   "metadata": {},
   "outputs": [
    {
     "data": {
      "text/plain": [
       "[318, 355, 364, 714]"
      ]
     },
     "execution_count": 20,
     "metadata": {},
     "output_type": "execute_result"
    }
   ],
   "source": [
    "value[nan]"
   ]
  },
  {
   "cell_type": "code",
   "execution_count": 21,
   "id": "45d49510",
   "metadata": {},
   "outputs": [
    {
     "data": {
      "text/plain": [
       "[506, 507, 521, 524, 551]"
      ]
     },
     "execution_count": 21,
     "metadata": {},
     "output_type": "execute_result"
    }
   ],
   "source": [
    "value['undisclosed']"
   ]
  },
  {
   "cell_type": "code",
   "execution_count": 22,
   "id": "7394d1e9",
   "metadata": {},
   "outputs": [
    {
     "data": {
      "text/plain": [
       "[22,\n",
       " 73,\n",
       " 77,\n",
       " 78,\n",
       " 90,\n",
       " 92,\n",
       " 137,\n",
       " 139,\n",
       " 175,\n",
       " 182,\n",
       " 183,\n",
       " 186,\n",
       " 263,\n",
       " 280,\n",
       " 282,\n",
       " 290,\n",
       " 297,\n",
       " 306,\n",
       " 311,\n",
       " 334,\n",
       " 336,\n",
       " 345,\n",
       " 346,\n",
       " 378,\n",
       " 379,\n",
       " 384,\n",
       " 411,\n",
       " 435,\n",
       " 443,\n",
       " 449,\n",
       " 451,\n",
       " 459,\n",
       " 464,\n",
       " 483,\n",
       " 487,\n",
       " 556,\n",
       " 563,\n",
       " 565,\n",
       " 566,\n",
       " 583,\n",
       " 593,\n",
       " 594,\n",
       " 600,\n",
       " 603,\n",
       " 608,\n",
       " 609,\n",
       " 615,\n",
       " 622,\n",
       " 623,\n",
       " 625,\n",
       " 628,\n",
       " 630,\n",
       " 636,\n",
       " 642,\n",
       " 643,\n",
       " 645,\n",
       " 648,\n",
       " 649,\n",
       " 658,\n",
       " 659,\n",
       " 665,\n",
       " 678,\n",
       " 685,\n",
       " 689,\n",
       " 692,\n",
       " 695,\n",
       " 699,\n",
       " 700,\n",
       " 707,\n",
       " 709,\n",
       " 711,\n",
       " 716,\n",
       " 719,\n",
       " 724,\n",
       " 727,\n",
       " 728,\n",
       " 729,\n",
       " 730,\n",
       " 735,\n",
       " 737,\n",
       " 738,\n",
       " 745,\n",
       " 747,\n",
       " 752,\n",
       " 754,\n",
       " 758,\n",
       " 766,\n",
       " 769,\n",
       " 774,\n",
       " 787,\n",
       " 807,\n",
       " 808,\n",
       " 819,\n",
       " 833,\n",
       " 848,\n",
       " 857,\n",
       " 881,\n",
       " 882,\n",
       " 884,\n",
       " 908,\n",
       " 910,\n",
       " 937,\n",
       " 940,\n",
       " 943,\n",
       " 958,\n",
       " 974,\n",
       " 980,\n",
       " 983,\n",
       " 987,\n",
       " 988,\n",
       " 989,\n",
       " 995,\n",
       " 1016,\n",
       " 1017,\n",
       " 1019,\n",
       " 1031]"
      ]
     },
     "execution_count": 22,
     "metadata": {},
     "output_type": "execute_result"
    }
   ],
   "source": [
    "value['Undisclosed']"
   ]
  },
  {
   "cell_type": "code",
   "execution_count": 23,
   "id": "754b0ae5",
   "metadata": {},
   "outputs": [],
   "source": [
    "#undisclosed,ah! Ventures,Pre-series A,'ITO Angel Network, LetsVenture','JITO Angel Network, LetsVenture',"
   ]
  },
  {
   "cell_type": "code",
   "execution_count": 24,
   "id": "f6fabbdf",
   "metadata": {},
   "outputs": [
    {
     "data": {
      "text/plain": [
       "[717]"
      ]
     },
     "execution_count": 24,
     "metadata": {},
     "output_type": "execute_result"
    }
   ],
   "source": [
    "value['JITO Angel Network, LetsVenture']"
   ]
  },
  {
   "cell_type": "code",
   "execution_count": 25,
   "id": "2cd8ac89",
   "metadata": {},
   "outputs": [
    {
     "data": {
      "text/plain": [
       "Month                                       June\n",
       "Company/Brand                   Saarthi Pedagogy\n",
       "Founded                                   2015.0\n",
       "Headquarters                           Ahmadabad\n",
       "Sector                                    EdTech\n",
       "Investor/s                        Sushil Agarwal\n",
       "Amount ($)       JITO Angel Network, LetsVenture\n",
       "Stage                                    1000000\n",
       "Name: 787, dtype: object"
      ]
     },
     "execution_count": 25,
     "metadata": {},
     "output_type": "execute_result"
    }
   ],
   "source": [
    "india_df.iloc[717]#df.iloc[0, df.columns.get_loc('COL_NAME')] = x"
   ]
  },
  {
   "cell_type": "code",
   "execution_count": 26,
   "id": "e4f2eeb2",
   "metadata": {},
   "outputs": [
    {
     "data": {
      "text/plain": [
       "'Sushil Agarwal'"
      ]
     },
     "execution_count": 26,
     "metadata": {},
     "output_type": "execute_result"
    }
   ],
   "source": [
    "india_df['Investor/s'][787]"
   ]
  },
  {
   "cell_type": "code",
   "execution_count": 27,
   "id": "46009028",
   "metadata": {},
   "outputs": [
    {
     "name": "stderr",
     "output_type": "stream",
     "text": [
      "C:\\Users\\Acer\\AppData\\Local\\Temp/ipykernel_18984/4214881463.py:1: SettingWithCopyWarning: \n",
      "A value is trying to be set on a copy of a slice from a DataFrame\n",
      "\n",
      "See the caveats in the documentation: https://pandas.pydata.org/pandas-docs/stable/user_guide/indexing.html#returning-a-view-versus-a-copy\n",
      "  india_df['Investor/s'][787] = india_df['Investor/s'][787] + ', '+ india_df['Amount ($)'][787]\n"
     ]
    }
   ],
   "source": [
    "india_df['Investor/s'][787] = india_df['Investor/s'][787] + ', '+ india_df['Amount ($)'][787]"
   ]
  },
  {
   "cell_type": "code",
   "execution_count": 28,
   "id": "ca08e18d",
   "metadata": {},
   "outputs": [
    {
     "data": {
      "text/plain": [
       "'Sushil Agarwal, JITO Angel Network, LetsVenture'"
      ]
     },
     "execution_count": 28,
     "metadata": {},
     "output_type": "execute_result"
    }
   ],
   "source": [
    "india_df['Investor/s'][787]"
   ]
  },
  {
   "cell_type": "code",
   "execution_count": 29,
   "id": "8b450b63",
   "metadata": {},
   "outputs": [
    {
     "data": {
      "text/plain": [
       "Month                                                       June\n",
       "Company/Brand                                   Saarthi Pedagogy\n",
       "Founded                                                   2015.0\n",
       "Headquarters                                           Ahmadabad\n",
       "Sector                                                    EdTech\n",
       "Investor/s       Sushil Agarwal, JITO Angel Network, LetsVenture\n",
       "Amount ($)                       JITO Angel Network, LetsVenture\n",
       "Stage                                                    1000000\n",
       "Name: 787, dtype: object"
      ]
     },
     "execution_count": 29,
     "metadata": {},
     "output_type": "execute_result"
    }
   ],
   "source": [
    "india_df.iloc[717]"
   ]
  },
  {
   "cell_type": "code",
   "execution_count": 30,
   "id": "b3d935e4",
   "metadata": {},
   "outputs": [
    {
     "name": "stderr",
     "output_type": "stream",
     "text": [
      "C:\\Users\\Acer\\AppData\\Local\\Temp/ipykernel_18984/3030007329.py:1: SettingWithCopyWarning: \n",
      "A value is trying to be set on a copy of a slice from a DataFrame\n",
      "\n",
      "See the caveats in the documentation: https://pandas.pydata.org/pandas-docs/stable/user_guide/indexing.html#returning-a-view-versus-a-copy\n",
      "  india_df['Amount ($)'][787] = india_df['Stage'][787]\n"
     ]
    }
   ],
   "source": [
    "india_df['Amount ($)'][787] = india_df['Stage'][787]"
   ]
  },
  {
   "cell_type": "code",
   "execution_count": 31,
   "id": "34aacef1",
   "metadata": {},
   "outputs": [
    {
     "name": "stderr",
     "output_type": "stream",
     "text": [
      "C:\\Users\\Acer\\AppData\\Local\\Temp/ipykernel_18984/3032095239.py:1: SettingWithCopyWarning: \n",
      "A value is trying to be set on a copy of a slice from a DataFrame\n",
      "\n",
      "See the caveats in the documentation: https://pandas.pydata.org/pandas-docs/stable/user_guide/indexing.html#returning-a-view-versus-a-copy\n",
      "  india_df['Stage'][787] = math.nan\n"
     ]
    }
   ],
   "source": [
    "india_df['Stage'][787] = math.nan"
   ]
  },
  {
   "cell_type": "code",
   "execution_count": 32,
   "id": "25723988",
   "metadata": {},
   "outputs": [
    {
     "data": {
      "text/plain": [
       "Month                                                       June\n",
       "Company/Brand                                   Saarthi Pedagogy\n",
       "Founded                                                   2015.0\n",
       "Headquarters                                           Ahmadabad\n",
       "Sector                                                    EdTech\n",
       "Investor/s       Sushil Agarwal, JITO Angel Network, LetsVenture\n",
       "Amount ($)                                               1000000\n",
       "Stage                                                        NaN\n",
       "Name: 787, dtype: object"
      ]
     },
     "execution_count": 32,
     "metadata": {},
     "output_type": "execute_result"
    }
   ],
   "source": [
    "india_df.iloc[717]"
   ]
  },
  {
   "cell_type": "code",
   "execution_count": 33,
   "id": "a7d89669",
   "metadata": {},
   "outputs": [
    {
     "data": {
      "text/plain": [
       "[30]"
      ]
     },
     "execution_count": 33,
     "metadata": {},
     "output_type": "execute_result"
    }
   ],
   "source": [
    "value['Series C']"
   ]
  },
  {
   "cell_type": "code",
   "execution_count": 34,
   "id": "a03b448f",
   "metadata": {},
   "outputs": [
    {
     "data": {
      "text/plain": [
       "Month                                                     December\n",
       "Company/Brand                                   Fullife Healthcare\n",
       "Founded                                                     2009.0\n",
       "Headquarters                                 Pharmaceuticals #REF!\n",
       "Sector           Primary Business is Development and Manufactur...\n",
       "Investor/s                                                22000000\n",
       "Amount ($)                                                Series C\n",
       "Stage                                                          NaN\n",
       "Name: 30, dtype: object"
      ]
     },
     "execution_count": 34,
     "metadata": {},
     "output_type": "execute_result"
    }
   ],
   "source": [
    "india_df.iloc[30]"
   ]
  },
  {
   "cell_type": "code",
   "execution_count": 35,
   "id": "089c38db",
   "metadata": {},
   "outputs": [
    {
     "name": "stderr",
     "output_type": "stream",
     "text": [
      "C:\\Users\\Acer\\AppData\\Local\\Temp/ipykernel_18984/321561579.py:1: SettingWithCopyWarning: \n",
      "A value is trying to be set on a copy of a slice from a DataFrame\n",
      "\n",
      "See the caveats in the documentation: https://pandas.pydata.org/pandas-docs/stable/user_guide/indexing.html#returning-a-view-versus-a-copy\n",
      "  india_df['Stage'][30] = india_df['Amount ($)'][30]\n",
      "C:\\Users\\Acer\\AppData\\Local\\Temp/ipykernel_18984/321561579.py:2: SettingWithCopyWarning: \n",
      "A value is trying to be set on a copy of a slice from a DataFrame\n",
      "\n",
      "See the caveats in the documentation: https://pandas.pydata.org/pandas-docs/stable/user_guide/indexing.html#returning-a-view-versus-a-copy\n",
      "  india_df['Amount ($)'][30] = india_df['Investor/s'][30]\n",
      "C:\\Users\\Acer\\AppData\\Local\\Temp/ipykernel_18984/321561579.py:3: SettingWithCopyWarning: \n",
      "A value is trying to be set on a copy of a slice from a DataFrame\n",
      "\n",
      "See the caveats in the documentation: https://pandas.pydata.org/pandas-docs/stable/user_guide/indexing.html#returning-a-view-versus-a-copy\n",
      "  india_df['Investor/s'][30] = math.nan\n"
     ]
    }
   ],
   "source": [
    "india_df['Stage'][30] = india_df['Amount ($)'][30]\n",
    "india_df['Amount ($)'][30] = india_df['Investor/s'][30]\n",
    "india_df['Investor/s'][30] = math.nan"
   ]
  },
  {
   "cell_type": "code",
   "execution_count": 36,
   "id": "401ca03e",
   "metadata": {
    "scrolled": true
   },
   "outputs": [
    {
     "data": {
      "text/plain": [
       "Month                                                     December\n",
       "Company/Brand                                   Fullife Healthcare\n",
       "Founded                                                     2009.0\n",
       "Headquarters                                 Pharmaceuticals #REF!\n",
       "Sector           Primary Business is Development and Manufactur...\n",
       "Investor/s                                                     NaN\n",
       "Amount ($)                                                22000000\n",
       "Stage                                                     Series C\n",
       "Name: 30, dtype: object"
      ]
     },
     "execution_count": 36,
     "metadata": {},
     "output_type": "execute_result"
    }
   ],
   "source": [
    "india_df.iloc[30]"
   ]
  },
  {
   "cell_type": "code",
   "execution_count": 37,
   "id": "6ce568ac",
   "metadata": {},
   "outputs": [
    {
     "data": {
      "text/plain": [
       "[31, 366]"
      ]
     },
     "execution_count": 37,
     "metadata": {},
     "output_type": "execute_result"
    }
   ],
   "source": [
    "value['Seed']"
   ]
  },
  {
   "cell_type": "code",
   "execution_count": 38,
   "id": "9d9db9f4",
   "metadata": {},
   "outputs": [
    {
     "data": {
      "text/plain": [
       "Month                                                     December\n",
       "Company/Brand                                              MoEVing\n",
       "Founded                                                     2021.0\n",
       "Headquarters                                        Gurugram #REF!\n",
       "Sector           MoEVing is India's only Electric Mobility focu...\n",
       "Investor/s                                                 5000000\n",
       "Amount ($)                                                    Seed\n",
       "Stage                                                          NaN\n",
       "Name: 45, dtype: object"
      ]
     },
     "execution_count": 38,
     "metadata": {},
     "output_type": "execute_result"
    }
   ],
   "source": [
    "india_df.iloc[31]"
   ]
  },
  {
   "cell_type": "code",
   "execution_count": 39,
   "id": "de775b48",
   "metadata": {},
   "outputs": [
    {
     "data": {
      "text/plain": [
       "'MoEVing'"
      ]
     },
     "execution_count": 39,
     "metadata": {},
     "output_type": "execute_result"
    }
   ],
   "source": [
    "india_df['Company/Brand'][45]"
   ]
  },
  {
   "cell_type": "code",
   "execution_count": 40,
   "id": "11ebaedc",
   "metadata": {},
   "outputs": [
    {
     "name": "stderr",
     "output_type": "stream",
     "text": [
      "C:\\Users\\Acer\\AppData\\Local\\Temp/ipykernel_18984/3682406484.py:1: SettingWithCopyWarning: \n",
      "A value is trying to be set on a copy of a slice from a DataFrame\n",
      "\n",
      "See the caveats in the documentation: https://pandas.pydata.org/pandas-docs/stable/user_guide/indexing.html#returning-a-view-versus-a-copy\n",
      "  india_df['Stage'][45] = india_df['Amount ($)'][45]\n",
      "C:\\Users\\Acer\\AppData\\Local\\Temp/ipykernel_18984/3682406484.py:2: SettingWithCopyWarning: \n",
      "A value is trying to be set on a copy of a slice from a DataFrame\n",
      "\n",
      "See the caveats in the documentation: https://pandas.pydata.org/pandas-docs/stable/user_guide/indexing.html#returning-a-view-versus-a-copy\n",
      "  india_df['Amount ($)'][45] = india_df['Investor/s'][45]\n",
      "C:\\Users\\Acer\\AppData\\Local\\Temp/ipykernel_18984/3682406484.py:3: SettingWithCopyWarning: \n",
      "A value is trying to be set on a copy of a slice from a DataFrame\n",
      "\n",
      "See the caveats in the documentation: https://pandas.pydata.org/pandas-docs/stable/user_guide/indexing.html#returning-a-view-versus-a-copy\n",
      "  india_df['Investor/s'][45] = math.nan\n"
     ]
    }
   ],
   "source": [
    "india_df['Stage'][45] = india_df['Amount ($)'][45]\n",
    "india_df['Amount ($)'][45] = india_df['Investor/s'][45]\n",
    "india_df['Investor/s'][45] = math.nan"
   ]
  },
  {
   "cell_type": "code",
   "execution_count": 41,
   "id": "0085c570",
   "metadata": {
    "scrolled": true
   },
   "outputs": [
    {
     "data": {
      "text/plain": [
       "Month                                                     December\n",
       "Company/Brand                                              MoEVing\n",
       "Founded                                                     2021.0\n",
       "Headquarters                                        Gurugram #REF!\n",
       "Sector           MoEVing is India's only Electric Mobility focu...\n",
       "Investor/s                                                     NaN\n",
       "Amount ($)                                                 5000000\n",
       "Stage                                                         Seed\n",
       "Name: 45, dtype: object"
      ]
     },
     "execution_count": 41,
     "metadata": {},
     "output_type": "execute_result"
    }
   ],
   "source": [
    "india_df.iloc[31]"
   ]
  },
  {
   "cell_type": "code",
   "execution_count": 42,
   "id": "8e6d124e",
   "metadata": {},
   "outputs": [
    {
     "data": {
      "text/plain": [
       "Month                           September\n",
       "Company/Brand                   Godamwale\n",
       "Founded                            2016.0\n",
       "Headquarters                       Mumbai\n",
       "Sector           Logistics & Supply Chain\n",
       "Investor/s                  1000000 #REF!\n",
       "Amount ($)                           Seed\n",
       "Stage                                 NaN\n",
       "Name: 383, dtype: object"
      ]
     },
     "execution_count": 42,
     "metadata": {},
     "output_type": "execute_result"
    }
   ],
   "source": [
    "india_df.iloc[366]"
   ]
  },
  {
   "cell_type": "code",
   "execution_count": 43,
   "id": "dafe890a",
   "metadata": {},
   "outputs": [
    {
     "data": {
      "text/plain": [
       "'Godamwale'"
      ]
     },
     "execution_count": 43,
     "metadata": {},
     "output_type": "execute_result"
    }
   ],
   "source": [
    "india_df['Company/Brand'][383]"
   ]
  },
  {
   "cell_type": "code",
   "execution_count": 44,
   "id": "b7e7039a",
   "metadata": {},
   "outputs": [
    {
     "name": "stderr",
     "output_type": "stream",
     "text": [
      "C:\\Users\\Acer\\AppData\\Local\\Temp/ipykernel_18984/3552351949.py:1: SettingWithCopyWarning: \n",
      "A value is trying to be set on a copy of a slice from a DataFrame\n",
      "\n",
      "See the caveats in the documentation: https://pandas.pydata.org/pandas-docs/stable/user_guide/indexing.html#returning-a-view-versus-a-copy\n",
      "  india_df['Stage'][383] = india_df['Amount ($)'][383]\n",
      "C:\\Users\\Acer\\AppData\\Local\\Temp/ipykernel_18984/3552351949.py:2: SettingWithCopyWarning: \n",
      "A value is trying to be set on a copy of a slice from a DataFrame\n",
      "\n",
      "See the caveats in the documentation: https://pandas.pydata.org/pandas-docs/stable/user_guide/indexing.html#returning-a-view-versus-a-copy\n",
      "  india_df['Amount ($)'][383] = india_df['Investor/s'][383][:7]\n",
      "C:\\Users\\Acer\\AppData\\Local\\Temp/ipykernel_18984/3552351949.py:3: SettingWithCopyWarning: \n",
      "A value is trying to be set on a copy of a slice from a DataFrame\n",
      "\n",
      "See the caveats in the documentation: https://pandas.pydata.org/pandas-docs/stable/user_guide/indexing.html#returning-a-view-versus-a-copy\n",
      "  india_df['Investor/s'][383] = math.nan\n"
     ]
    }
   ],
   "source": [
    "india_df['Stage'][383] = india_df['Amount ($)'][383]\n",
    "india_df['Amount ($)'][383] = india_df['Investor/s'][383][:7]\n",
    "india_df['Investor/s'][383] = math.nan"
   ]
  },
  {
   "cell_type": "code",
   "execution_count": 45,
   "id": "eddcfb43",
   "metadata": {},
   "outputs": [
    {
     "data": {
      "text/plain": [
       "Month                           September\n",
       "Company/Brand                   Godamwale\n",
       "Founded                            2016.0\n",
       "Headquarters                       Mumbai\n",
       "Sector           Logistics & Supply Chain\n",
       "Investor/s                            NaN\n",
       "Amount ($)                        1000000\n",
       "Stage                                Seed\n",
       "Name: 383, dtype: object"
      ]
     },
     "execution_count": 45,
     "metadata": {},
     "output_type": "execute_result"
    }
   ],
   "source": [
    "india_df.iloc[366]"
   ]
  },
  {
   "cell_type": "code",
   "execution_count": 46,
   "id": "095a8b4a",
   "metadata": {},
   "outputs": [
    {
     "data": {
      "text/plain": [
       "[434]"
      ]
     },
     "execution_count": 46,
     "metadata": {},
     "output_type": "execute_result"
    }
   ],
   "source": [
    "value['Upsparks']"
   ]
  },
  {
   "cell_type": "code",
   "execution_count": 47,
   "id": "e7e5e173",
   "metadata": {},
   "outputs": [
    {
     "data": {
      "text/plain": [
       "Month                                 August\n",
       "Company/Brand                        FanPlay\n",
       "Founded                               2020.0\n",
       "Headquarters                  Computer Games\n",
       "Sector                        Computer Games\n",
       "Investor/s       Pritesh Kumar, Bharat Gupta\n",
       "Amount ($)                          Upsparks\n",
       "Stage                                1200000\n",
       "Name: 455, dtype: object"
      ]
     },
     "execution_count": 47,
     "metadata": {},
     "output_type": "execute_result"
    }
   ],
   "source": [
    "india_df.iloc[434]#455"
   ]
  },
  {
   "cell_type": "code",
   "execution_count": 48,
   "id": "86672ffc",
   "metadata": {},
   "outputs": [
    {
     "data": {
      "text/plain": [
       "'Pritesh Kumar, Bharat Gupta'"
      ]
     },
     "execution_count": 48,
     "metadata": {},
     "output_type": "execute_result"
    }
   ],
   "source": [
    "india_df['Investor/s'][455]"
   ]
  },
  {
   "cell_type": "code",
   "execution_count": 49,
   "id": "d9de36e3",
   "metadata": {},
   "outputs": [
    {
     "name": "stderr",
     "output_type": "stream",
     "text": [
      "C:\\Users\\Acer\\AppData\\Local\\Temp/ipykernel_18984/3242314008.py:1: SettingWithCopyWarning: \n",
      "A value is trying to be set on a copy of a slice from a DataFrame\n",
      "\n",
      "See the caveats in the documentation: https://pandas.pydata.org/pandas-docs/stable/user_guide/indexing.html#returning-a-view-versus-a-copy\n",
      "  india_df['Investor/s'][455] = india_df['Investor/s'][455] + \" , \" + india_df['Amount ($)'][455]\n",
      "C:\\Users\\Acer\\AppData\\Local\\Temp/ipykernel_18984/3242314008.py:2: SettingWithCopyWarning: \n",
      "A value is trying to be set on a copy of a slice from a DataFrame\n",
      "\n",
      "See the caveats in the documentation: https://pandas.pydata.org/pandas-docs/stable/user_guide/indexing.html#returning-a-view-versus-a-copy\n",
      "  india_df['Amount ($)'][455] = india_df['Stage'][455]\n",
      "C:\\Users\\Acer\\AppData\\Local\\Temp/ipykernel_18984/3242314008.py:3: SettingWithCopyWarning: \n",
      "A value is trying to be set on a copy of a slice from a DataFrame\n",
      "\n",
      "See the caveats in the documentation: https://pandas.pydata.org/pandas-docs/stable/user_guide/indexing.html#returning-a-view-versus-a-copy\n",
      "  india_df['Stage'][455] = math.nan\n"
     ]
    }
   ],
   "source": [
    "india_df['Investor/s'][455] = india_df['Investor/s'][455] + \" , \" + india_df['Amount ($)'][455]\n",
    "india_df['Amount ($)'][455] = india_df['Stage'][455]\n",
    "india_df['Stage'][455] = math.nan"
   ]
  },
  {
   "cell_type": "code",
   "execution_count": 50,
   "id": "40564348",
   "metadata": {},
   "outputs": [
    {
     "data": {
      "text/plain": [
       "Month                                            August\n",
       "Company/Brand                                   FanPlay\n",
       "Founded                                          2020.0\n",
       "Headquarters                             Computer Games\n",
       "Sector                                   Computer Games\n",
       "Investor/s       Pritesh Kumar, Bharat Gupta , Upsparks\n",
       "Amount ($)                                      1200000\n",
       "Stage                                               NaN\n",
       "Name: 455, dtype: object"
      ]
     },
     "execution_count": 50,
     "metadata": {},
     "output_type": "execute_result"
    }
   ],
   "source": [
    "india_df.iloc[434]#455"
   ]
  },
  {
   "cell_type": "code",
   "execution_count": 51,
   "id": "a9979463",
   "metadata": {},
   "outputs": [
    {
     "data": {
      "text/plain": [
       "[506, 507, 521, 524, 551]"
      ]
     },
     "execution_count": 51,
     "metadata": {},
     "output_type": "execute_result"
    }
   ],
   "source": [
    "value['undisclosed']"
   ]
  },
  {
   "cell_type": "code",
   "execution_count": 52,
   "id": "e63dcdca",
   "metadata": {},
   "outputs": [
    {
     "data": {
      "text/plain": [
       "Month                             August\n",
       "Company/Brand                   AyuRythm\n",
       "Founded                           2017.0\n",
       "Headquarters                   Bangalore\n",
       "Sector                        Healthcare\n",
       "Investor/s       SucSEED Indovation Fund\n",
       "Amount ($)                   undisclosed\n",
       "Stage                               Seed\n",
       "Name: 549, dtype: object"
      ]
     },
     "execution_count": 52,
     "metadata": {},
     "output_type": "execute_result"
    }
   ],
   "source": [
    "india_df.iloc[506]"
   ]
  },
  {
   "cell_type": "code",
   "execution_count": 53,
   "id": "8d2635e4",
   "metadata": {},
   "outputs": [
    {
     "data": {
      "text/plain": [
       "549"
      ]
     },
     "execution_count": 53,
     "metadata": {},
     "output_type": "execute_result"
    }
   ],
   "source": [
    "index = find_index(india_companies_df, india_df.iloc[506][1])\n",
    "index"
   ]
  },
  {
   "cell_type": "code",
   "execution_count": 54,
   "id": "0542df52",
   "metadata": {},
   "outputs": [
    {
     "data": {
      "text/plain": [
       "'AyuRythm'"
      ]
     },
     "execution_count": 54,
     "metadata": {},
     "output_type": "execute_result"
    }
   ],
   "source": [
    "india_df['Company/Brand'][549]"
   ]
  },
  {
   "cell_type": "code",
   "execution_count": 55,
   "id": "588130cd",
   "metadata": {},
   "outputs": [
    {
     "name": "stdout",
     "output_type": "stream",
     "text": [
      "Month                             August\n",
      "Company/Brand                   AyuRythm\n",
      "Founded                           2017.0\n",
      "Headquarters                   Bangalore\n",
      "Sector                        Healthcare\n",
      "Investor/s       SucSEED Indovation Fund\n",
      "Amount ($)                   undisclosed\n",
      "Stage                               Seed\n",
      "Name: 549, dtype: object\n",
      "@\n",
      "Month                                                       August\n",
      "Company/Brand                                               Enguru\n",
      "Founded                                                     2014.0\n",
      "Headquarters                                             Bangalore\n",
      "Sector                                                      EdTech\n",
      "Investor/s       Potencia Ventures, Bisk Ventures, LetsVenture,...\n",
      "Amount ($)                                             undisclosed\n",
      "Stage                                                 Pre-series A\n",
      "Name: 550, dtype: object\n",
      "@\n",
      "Month                                                       August\n",
      "Company/Brand                                             Fabheads\n",
      "Founded                                                     2015.0\n",
      "Headquarters                                               Chennai\n",
      "Sector                                       Industrial Automation\n",
      "Investor/s       Inflection Point Ventures, Rockstud Capital, F...\n",
      "Amount ($)                                             undisclosed\n",
      "Stage                                                 Pre-series A\n",
      "Name: 564, dtype: object\n",
      "@\n",
      "Month                                         August\n",
      "Company/Brand                  MedPrime Technologies\n",
      "Founded                                       2014.0\n",
      "Headquarters                                   Thane\n",
      "Sector                                    Healthcare\n",
      "Investor/s       Mumbai Angels Network, Social Alpha\n",
      "Amount ($)                               undisclosed\n",
      "Stage                                           Seed\n",
      "Name: 567, dtype: object\n",
      "@\n",
      "Month                          July\n",
      "Company/Brand    Learn4o Technology\n",
      "Founded                      2020.0\n",
      "Headquarters                 Jaipur\n",
      "Sector                   E-learning\n",
      "Investor/s                      IAN\n",
      "Amount ($)              undisclosed\n",
      "Stage                          Seed\n",
      "Name: 595, dtype: object\n",
      "@\n"
     ]
    }
   ],
   "source": [
    "for y in value['undisclosed']:\n",
    "    print(india_df.iloc[y])\n",
    "    print(\"@\")"
   ]
  },
  {
   "cell_type": "code",
   "execution_count": 56,
   "id": "a7f1fc46",
   "metadata": {},
   "outputs": [
    {
     "name": "stdout",
     "output_type": "stream",
     "text": [
      "Month                    July\n",
      "Company/Brand     Little Leap\n",
      "Founded                2020.0\n",
      "Headquarters        New Delhi\n",
      "Sector                 EdTech\n",
      "Investor/s       Vishal Gupta\n",
      "Amount ($)       ah! Ventures\n",
      "Stage                  300000\n",
      "Name: 648, dtype: object\n",
      "@\n"
     ]
    }
   ],
   "source": [
    "for y in value['ah! Ventures']:\n",
    "    print(india_df.iloc[y])\n",
    "    print(\"@\")"
   ]
  },
  {
   "cell_type": "code",
   "execution_count": 57,
   "id": "08799edc",
   "metadata": {},
   "outputs": [
    {
     "data": {
      "text/plain": [
       "[597]"
      ]
     },
     "execution_count": 57,
     "metadata": {},
     "output_type": "execute_result"
    }
   ],
   "source": [
    "value['ah! Ventures']"
   ]
  },
  {
   "cell_type": "code",
   "execution_count": 58,
   "id": "1dfc7fb2",
   "metadata": {},
   "outputs": [],
   "source": [
    "index  = find_index(india_companies_df,india_df.iloc[597][1] )"
   ]
  },
  {
   "cell_type": "code",
   "execution_count": 59,
   "id": "0b2f44e7",
   "metadata": {},
   "outputs": [
    {
     "data": {
      "text/plain": [
       "648"
      ]
     },
     "execution_count": 59,
     "metadata": {},
     "output_type": "execute_result"
    }
   ],
   "source": [
    "index"
   ]
  },
  {
   "cell_type": "code",
   "execution_count": 60,
   "id": "9edbab48",
   "metadata": {},
   "outputs": [
    {
     "name": "stderr",
     "output_type": "stream",
     "text": [
      "C:\\Users\\Acer\\AppData\\Local\\Temp/ipykernel_18984/2983144170.py:1: SettingWithCopyWarning: \n",
      "A value is trying to be set on a copy of a slice from a DataFrame\n",
      "\n",
      "See the caveats in the documentation: https://pandas.pydata.org/pandas-docs/stable/user_guide/indexing.html#returning-a-view-versus-a-copy\n",
      "  india_df['Investor/s'][index] = india_df['Investor/s'][index] + \" , \" + india_df['Amount ($)'][index]\n",
      "C:\\Users\\Acer\\AppData\\Local\\Temp/ipykernel_18984/2983144170.py:2: SettingWithCopyWarning: \n",
      "A value is trying to be set on a copy of a slice from a DataFrame\n",
      "\n",
      "See the caveats in the documentation: https://pandas.pydata.org/pandas-docs/stable/user_guide/indexing.html#returning-a-view-versus-a-copy\n",
      "  india_df['Amount ($)'][index] = india_df['Stage'][index]\n",
      "C:\\Users\\Acer\\AppData\\Local\\Temp/ipykernel_18984/2983144170.py:3: SettingWithCopyWarning: \n",
      "A value is trying to be set on a copy of a slice from a DataFrame\n",
      "\n",
      "See the caveats in the documentation: https://pandas.pydata.org/pandas-docs/stable/user_guide/indexing.html#returning-a-view-versus-a-copy\n",
      "  india_df['Stage'][index] = math.nan\n"
     ]
    }
   ],
   "source": [
    "india_df['Investor/s'][index] = india_df['Investor/s'][index] + \" , \" + india_df['Amount ($)'][index]\n",
    "india_df['Amount ($)'][index] = india_df['Stage'][index]\n",
    "india_df['Stage'][index] = math.nan"
   ]
  },
  {
   "cell_type": "code",
   "execution_count": 61,
   "id": "48ef75a3",
   "metadata": {},
   "outputs": [
    {
     "data": {
      "text/plain": [
       "Month                                   July\n",
       "Company/Brand                    Little Leap\n",
       "Founded                               2020.0\n",
       "Headquarters                       New Delhi\n",
       "Sector                                EdTech\n",
       "Investor/s       Vishal Gupta , ah! Ventures\n",
       "Amount ($)                            300000\n",
       "Stage                                    NaN\n",
       "Name: 648, dtype: object"
      ]
     },
     "execution_count": 61,
     "metadata": {},
     "output_type": "execute_result"
    }
   ],
   "source": [
    "india_df.iloc[597]"
   ]
  },
  {
   "cell_type": "code",
   "execution_count": null,
   "id": "ecb8fc8c",
   "metadata": {},
   "outputs": [],
   "source": []
  },
  {
   "cell_type": "code",
   "execution_count": 62,
   "id": "4f15e193",
   "metadata": {},
   "outputs": [
    {
     "data": {
      "text/plain": [
       "[602]"
      ]
     },
     "execution_count": 62,
     "metadata": {},
     "output_type": "execute_result"
    }
   ],
   "source": [
    "value['Pre-series A']"
   ]
  },
  {
   "cell_type": "code",
   "execution_count": 63,
   "id": "5f344344",
   "metadata": {},
   "outputs": [
    {
     "data": {
      "text/plain": [
       "Month                    July\n",
       "Company/Brand       AdmitKard\n",
       "Founded                2016.0\n",
       "Headquarters            Noida\n",
       "Sector                 EdTech\n",
       "Investor/s            1000000\n",
       "Amount ($)       Pre-series A\n",
       "Stage                     NaN\n",
       "Name: 655, dtype: object"
      ]
     },
     "execution_count": 63,
     "metadata": {},
     "output_type": "execute_result"
    }
   ],
   "source": [
    "india_df.iloc[602]"
   ]
  },
  {
   "cell_type": "code",
   "execution_count": 64,
   "id": "a4bfd270",
   "metadata": {},
   "outputs": [],
   "source": [
    "index  = find_index(india_companies_df,india_df.iloc[602][1])"
   ]
  },
  {
   "cell_type": "code",
   "execution_count": 65,
   "id": "0fb3e17f",
   "metadata": {},
   "outputs": [
    {
     "name": "stderr",
     "output_type": "stream",
     "text": [
      "C:\\Users\\Acer\\AppData\\Local\\Temp/ipykernel_18984/103159855.py:1: SettingWithCopyWarning: \n",
      "A value is trying to be set on a copy of a slice from a DataFrame\n",
      "\n",
      "See the caveats in the documentation: https://pandas.pydata.org/pandas-docs/stable/user_guide/indexing.html#returning-a-view-versus-a-copy\n",
      "  india_df['Stage'][index] = india_df['Amount ($)'][index]\n",
      "C:\\Users\\Acer\\AppData\\Local\\Temp/ipykernel_18984/103159855.py:2: SettingWithCopyWarning: \n",
      "A value is trying to be set on a copy of a slice from a DataFrame\n",
      "\n",
      "See the caveats in the documentation: https://pandas.pydata.org/pandas-docs/stable/user_guide/indexing.html#returning-a-view-versus-a-copy\n",
      "  india_df['Amount ($)'][index] = india_df['Investor/s'][index]\n",
      "C:\\Users\\Acer\\AppData\\Local\\Temp/ipykernel_18984/103159855.py:3: SettingWithCopyWarning: \n",
      "A value is trying to be set on a copy of a slice from a DataFrame\n",
      "\n",
      "See the caveats in the documentation: https://pandas.pydata.org/pandas-docs/stable/user_guide/indexing.html#returning-a-view-versus-a-copy\n",
      "  india_df['Investor/s'][index] = math.nan\n"
     ]
    }
   ],
   "source": [
    "india_df['Stage'][index] = india_df['Amount ($)'][index]\n",
    "india_df['Amount ($)'][index] = india_df['Investor/s'][index]\n",
    "india_df['Investor/s'][index] = math.nan"
   ]
  },
  {
   "cell_type": "code",
   "execution_count": 66,
   "id": "6e516ee6",
   "metadata": {},
   "outputs": [
    {
     "data": {
      "text/plain": [
       "Month                    July\n",
       "Company/Brand       AdmitKard\n",
       "Founded                2016.0\n",
       "Headquarters            Noida\n",
       "Sector                 EdTech\n",
       "Investor/s                NaN\n",
       "Amount ($)            1000000\n",
       "Stage            Pre-series A\n",
       "Name: 655, dtype: object"
      ]
     },
     "execution_count": 66,
     "metadata": {},
     "output_type": "execute_result"
    }
   ],
   "source": [
    "india_df.iloc[602]"
   ]
  },
  {
   "cell_type": "code",
   "execution_count": null,
   "id": "db704595",
   "metadata": {},
   "outputs": [],
   "source": []
  },
  {
   "cell_type": "code",
   "execution_count": 67,
   "id": "580b56ec",
   "metadata": {},
   "outputs": [
    {
     "data": {
      "text/plain": [
       "[607]"
      ]
     },
     "execution_count": 67,
     "metadata": {},
     "output_type": "execute_result"
    }
   ],
   "source": [
    "value['ITO Angel Network, LetsVenture']"
   ]
  },
  {
   "cell_type": "code",
   "execution_count": 68,
   "id": "bdb62bba",
   "metadata": {},
   "outputs": [
    {
     "data": {
      "text/plain": [
       "Month                                       July\n",
       "Company/Brand                              BHyve\n",
       "Founded                                   2020.0\n",
       "Headquarters                              Mumbai\n",
       "Sector                           Human Resources\n",
       "Investor/s       Omkar Pandharkame, Ketaki Ogale\n",
       "Amount ($)        ITO Angel Network, LetsVenture\n",
       "Stage                                     300000\n",
       "Name: 661, dtype: object"
      ]
     },
     "execution_count": 68,
     "metadata": {},
     "output_type": "execute_result"
    }
   ],
   "source": [
    "india_df.iloc[607]"
   ]
  },
  {
   "cell_type": "code",
   "execution_count": 69,
   "id": "b14c4655",
   "metadata": {},
   "outputs": [],
   "source": [
    "index = find_index(india_companies_df, india_df.iloc[607][1])"
   ]
  },
  {
   "cell_type": "code",
   "execution_count": 70,
   "id": "46671f7b",
   "metadata": {},
   "outputs": [
    {
     "name": "stderr",
     "output_type": "stream",
     "text": [
      "C:\\Users\\Acer\\AppData\\Local\\Temp/ipykernel_18984/2983144170.py:1: SettingWithCopyWarning: \n",
      "A value is trying to be set on a copy of a slice from a DataFrame\n",
      "\n",
      "See the caveats in the documentation: https://pandas.pydata.org/pandas-docs/stable/user_guide/indexing.html#returning-a-view-versus-a-copy\n",
      "  india_df['Investor/s'][index] = india_df['Investor/s'][index] + \" , \" + india_df['Amount ($)'][index]\n",
      "C:\\Users\\Acer\\AppData\\Local\\Temp/ipykernel_18984/2983144170.py:2: SettingWithCopyWarning: \n",
      "A value is trying to be set on a copy of a slice from a DataFrame\n",
      "\n",
      "See the caveats in the documentation: https://pandas.pydata.org/pandas-docs/stable/user_guide/indexing.html#returning-a-view-versus-a-copy\n",
      "  india_df['Amount ($)'][index] = india_df['Stage'][index]\n",
      "C:\\Users\\Acer\\AppData\\Local\\Temp/ipykernel_18984/2983144170.py:3: SettingWithCopyWarning: \n",
      "A value is trying to be set on a copy of a slice from a DataFrame\n",
      "\n",
      "See the caveats in the documentation: https://pandas.pydata.org/pandas-docs/stable/user_guide/indexing.html#returning-a-view-versus-a-copy\n",
      "  india_df['Stage'][index] = math.nan\n"
     ]
    }
   ],
   "source": [
    "india_df['Investor/s'][index] = india_df['Investor/s'][index] + \" , \" + india_df['Amount ($)'][index]\n",
    "india_df['Amount ($)'][index] = india_df['Stage'][index]\n",
    "india_df['Stage'][index] = math.nan"
   ]
  },
  {
   "cell_type": "code",
   "execution_count": 71,
   "id": "61d4aafc",
   "metadata": {},
   "outputs": [
    {
     "data": {
      "text/plain": [
       "Month                                                         July\n",
       "Company/Brand                                                BHyve\n",
       "Founded                                                     2020.0\n",
       "Headquarters                                                Mumbai\n",
       "Sector                                             Human Resources\n",
       "Investor/s       Omkar Pandharkame, Ketaki Ogale , ITO Angel Ne...\n",
       "Amount ($)                                                  300000\n",
       "Stage                                                          NaN\n",
       "Name: 661, dtype: object"
      ]
     },
     "execution_count": 71,
     "metadata": {},
     "output_type": "execute_result"
    }
   ],
   "source": [
    "india_df.iloc[607]"
   ]
  },
  {
   "cell_type": "code",
   "execution_count": 72,
   "id": "ee6c3f87",
   "metadata": {},
   "outputs": [],
   "source": [
    "#dont adjusting these values\n",
    "value = get_values(india_df)"
   ]
  },
  {
   "cell_type": "code",
   "execution_count": 73,
   "id": "12ea1e07",
   "metadata": {},
   "outputs": [
    {
     "data": {
      "text/plain": [
       "dict_keys(['35000000', '40000000', '50000000', '4900000', '145000000', '22000000', '10000000', '13000000', '70000000', '100000000', '6700000', '30000000', '7000000', '5000000', '6600000', '32000000', '150000000', '24000000', '700000', 'Undisclosed', '200000', '1500000', '1300000', '1000000', '725000', '500000', '461000', '96000000', '4000000', '60000000', '20000000', '500000000', '266000000', '4500000', '1200000', '300000', '9500000', '325000000', '6500000', '1600000', '400000', '225000', '85000000', '235000', '260000', '2900000', '12000000', '53000000', '3500000', '3000000', '1100000', '150000', '86000000', '130000', '10000', '111000000', '37000000', '6000000', '265000', '76000000', '2000000', '3300000', '92000000', '600000', '100000', '17000000', '2500000', '135000000', '8000000', '15000000', '5500000', '155000', '2100000', '25000000', '21000000', '840000000', '248000000', '220000000', '4300000', '570000', '2200000', '4700000', '300000000', '52000000', '28000000', '260000000', '140000000', '175000000', '19000000', '200000000', '810000', '7500000', '600000000', '125000000', '90000000', '250000000', '11000000', '2300000', '5700000', '6750000', '75000000', '78000000', '3200000', '5400000', '115000000', '1900000', '255000000', '18000000', '48000000', '570000000', '550000', '2700000', '4200000', nan, '1700000', '450000000', '31000000', '540000', '14000000', '340000', '900000', '6200000', '800000', '750000', '6300000', '320000', '23000000', '55000000', '225000000', '250000', '3800000', '17500000', '42000000', '16000000', 'undisclosed', '44000000', '770000', '9000000', '1800000', '330000', '36000000', '67000000', '10200000', '450000', '3600000', '65000000', '1400000', '370000', '41000000', '144000000', '5200000', '140000', '4800000', '38000000', '125000', '26000000', '64000000', '620000', '350000', '49000000', '160000000', '850000', '7400000', '800000000', '350000000', '83000000', '150000000000', '1250000', '27000000', '234000000', '13500000', '5100000', '195000000', '2600000', '7300000', '12500000', '45000000', '81000000', '280000000', '720000'])"
      ]
     },
     "execution_count": 73,
     "metadata": {},
     "output_type": "execute_result"
    }
   ],
   "source": [
    "value.keys() #we will come back for nan, undisclosed and Undiclosed"
   ]
  },
  {
   "cell_type": "code",
   "execution_count": 74,
   "id": "2c21fed9",
   "metadata": {},
   "outputs": [],
   "source": [
    "#find indices of nan and Undisclosed and try to estimate value based on Stage\n",
    "#clean stage col"
   ]
  },
  {
   "cell_type": "code",
   "execution_count": null,
   "id": "73ab1082",
   "metadata": {},
   "outputs": [],
   "source": []
  },
  {
   "cell_type": "code",
   "execution_count": null,
   "id": "b7b06ae8",
   "metadata": {},
   "outputs": [],
   "source": []
  },
  {
   "cell_type": "code",
   "execution_count": 75,
   "id": "2cbf8196",
   "metadata": {},
   "outputs": [],
   "source": [
    "stage = group_stages(india_df)"
   ]
  },
  {
   "cell_type": "code",
   "execution_count": null,
   "id": "8f8d758f",
   "metadata": {},
   "outputs": [],
   "source": []
  },
  {
   "cell_type": "code",
   "execution_count": 76,
   "id": "511829ef",
   "metadata": {},
   "outputs": [
    {
     "data": {
      "text/plain": [
       "26"
      ]
     },
     "execution_count": 76,
     "metadata": {},
     "output_type": "execute_result"
    }
   ],
   "source": [
    "len(stage.keys())"
   ]
  },
  {
   "cell_type": "code",
   "execution_count": 77,
   "id": "51f73947",
   "metadata": {},
   "outputs": [
    {
     "data": {
      "text/plain": [
       "dict_keys(['Series B', nan, 'Series A', 'Series D', 'Pre-series A', 'Seed', 'Series C', 'Series E', 'Series G', 'Pre-seed', 'Pre-series B', 'Series F', 'Pre-series', 'Debt', 'Pre-Series A', 'Series A2', 'Bridge', 'Pre-series A1', nan, 'Seed+', 'Series F2', 'Early seed', 'Series D1', '6000000', 'Seies A', 'Series F1'])"
      ]
     },
     "execution_count": 77,
     "metadata": {},
     "output_type": "execute_result"
    }
   ],
   "source": [
    "#len(stage.keys()) = 26\n",
    "stage.keys()"
   ]
  },
  {
   "cell_type": "code",
   "execution_count": 78,
   "id": "dbdee99c",
   "metadata": {},
   "outputs": [
    {
     "data": {
      "text/plain": [
       "364"
      ]
     },
     "execution_count": 78,
     "metadata": {},
     "output_type": "execute_result"
    }
   ],
   "source": [
    "len(stage[nan])"
   ]
  },
  {
   "cell_type": "code",
   "execution_count": 79,
   "id": "079e259e",
   "metadata": {},
   "outputs": [
    {
     "data": {
      "text/plain": [
       "Month                    September\n",
       "Company/Brand             Vidyakul\n",
       "Founded                     2017.0\n",
       "Headquarters              Gurugram\n",
       "Sector                      EdTech\n",
       "Investor/s       We Founder Circle\n",
       "Amount ($)                  500000\n",
       "Stage                       Bridge\n",
       "Name: 419, dtype: object"
      ]
     },
     "execution_count": 79,
     "metadata": {},
     "output_type": "execute_result"
    }
   ],
   "source": [
    "india_df.iloc[402]"
   ]
  },
  {
   "cell_type": "code",
   "execution_count": 80,
   "id": "24e04fa4",
   "metadata": {},
   "outputs": [
    {
     "name": "stdout",
     "output_type": "stream",
     "text": [
      "False\n"
     ]
    }
   ],
   "source": [
    "print(\"Pre-series A\" == \"Pre-Series A\")"
   ]
  },
  {
   "cell_type": "code",
   "execution_count": 81,
   "id": "4dabc57e",
   "metadata": {},
   "outputs": [],
   "source": [
    "a_list = [385]\n",
    "a_list.extend(stage['Pre-Series A'])\n",
    "a_list.extend(stage['Pre-series A1'])\n",
    "a_list.extend(stage['Seies A'])"
   ]
  },
  {
   "cell_type": "code",
   "execution_count": 82,
   "id": "0e7f901a",
   "metadata": {},
   "outputs": [
    {
     "data": {
      "text/plain": [
       "[385, 167, 181, 191, 193, 194, 197, 210, 447, 467, 409, 612, 657, 1033, 743]"
      ]
     },
     "execution_count": 82,
     "metadata": {},
     "output_type": "execute_result"
    }
   ],
   "source": [
    "a_list"
   ]
  },
  {
   "cell_type": "code",
   "execution_count": 83,
   "id": "629f4ba8",
   "metadata": {},
   "outputs": [
    {
     "data": {
      "text/plain": [
       "[167, 181, 191, 193, 194, 197, 210, 447, 467]"
      ]
     },
     "execution_count": 83,
     "metadata": {},
     "output_type": "execute_result"
    }
   ],
   "source": [
    "stage['Pre-Series A']"
   ]
  },
  {
   "cell_type": "code",
   "execution_count": 84,
   "id": "7cffbeb1",
   "metadata": {},
   "outputs": [
    {
     "data": {
      "text/plain": [
       "[409, 612, 657, 1033]"
      ]
     },
     "execution_count": 84,
     "metadata": {},
     "output_type": "execute_result"
    }
   ],
   "source": [
    "stage['Pre-series A1']"
   ]
  },
  {
   "cell_type": "code",
   "execution_count": null,
   "id": "e08c827c",
   "metadata": {},
   "outputs": [],
   "source": []
  },
  {
   "cell_type": "code",
   "execution_count": 85,
   "id": "d944c42c",
   "metadata": {},
   "outputs": [
    {
     "name": "stderr",
     "output_type": "stream",
     "text": [
      "C:\\Users\\Acer\\AppData\\Local\\Temp/ipykernel_18984/3857762600.py:3: SettingWithCopyWarning: \n",
      "A value is trying to be set on a copy of a slice from a DataFrame\n",
      "\n",
      "See the caveats in the documentation: https://pandas.pydata.org/pandas-docs/stable/user_guide/indexing.html#returning-a-view-versus-a-copy\n",
      "  india_df['Stage'][index] = name\n"
     ]
    }
   ],
   "source": [
    "for x in a_list:\n",
    "    change_stage_name(india_df, x, 'Pre-series A')"
   ]
  },
  {
   "cell_type": "code",
   "execution_count": null,
   "id": "da82c41a",
   "metadata": {},
   "outputs": [],
   "source": []
  },
  {
   "cell_type": "code",
   "execution_count": 86,
   "id": "b20d5232",
   "metadata": {},
   "outputs": [],
   "source": [
    "india_df.iloc[153]\n",
    "index = find_index(india_companies_df,india_df.iloc[153][1] )"
   ]
  },
  {
   "cell_type": "code",
   "execution_count": 87,
   "id": "caaa2323",
   "metadata": {},
   "outputs": [
    {
     "name": "stderr",
     "output_type": "stream",
     "text": [
      "C:\\Users\\Acer\\AppData\\Local\\Temp/ipykernel_18984/3857762600.py:3: SettingWithCopyWarning: \n",
      "A value is trying to be set on a copy of a slice from a DataFrame\n",
      "\n",
      "See the caveats in the documentation: https://pandas.pydata.org/pandas-docs/stable/user_guide/indexing.html#returning-a-view-versus-a-copy\n",
      "  india_df['Stage'][index] = name\n"
     ]
    }
   ],
   "source": [
    "#change_stage_b(df,row)\n",
    "change_stage_name(india_df, 153, 'Pre-series B')"
   ]
  },
  {
   "cell_type": "code",
   "execution_count": 88,
   "id": "f182868b",
   "metadata": {},
   "outputs": [
    {
     "data": {
      "text/plain": [
       "[153, 385]"
      ]
     },
     "execution_count": 88,
     "metadata": {},
     "output_type": "execute_result"
    }
   ],
   "source": [
    "stage['Pre-series']#both accounted for"
   ]
  },
  {
   "cell_type": "code",
   "execution_count": 89,
   "id": "eb45aa0c",
   "metadata": {},
   "outputs": [
    {
     "data": {
      "text/plain": [
       "[714]"
      ]
     },
     "execution_count": 89,
     "metadata": {},
     "output_type": "execute_result"
    }
   ],
   "source": [
    "stage['6000000']"
   ]
  },
  {
   "cell_type": "code",
   "execution_count": 90,
   "id": "1f86cdee",
   "metadata": {},
   "outputs": [
    {
     "data": {
      "text/plain": [
       "Month                              June\n",
       "Company/Brand              MYRE Capital\n",
       "Founded                          2020.0\n",
       "Headquarters                     Mumbai\n",
       "Sector           Commercial Real Estate\n",
       "Investor/s                  Aryaman Vir\n",
       "Amount ($)                          NaN\n",
       "Stage                           6000000\n",
       "Name: 784, dtype: object"
      ]
     },
     "execution_count": 90,
     "metadata": {},
     "output_type": "execute_result"
    }
   ],
   "source": [
    "india_df.iloc[714]"
   ]
  },
  {
   "cell_type": "code",
   "execution_count": 91,
   "id": "cb895e4a",
   "metadata": {},
   "outputs": [
    {
     "data": {
      "text/plain": [
       "784"
      ]
     },
     "execution_count": 91,
     "metadata": {},
     "output_type": "execute_result"
    }
   ],
   "source": [
    "index = find_index(india_companies_df, india_df.iloc[714][1])\n",
    "index"
   ]
  },
  {
   "cell_type": "code",
   "execution_count": 92,
   "id": "eff90b36",
   "metadata": {},
   "outputs": [
    {
     "name": "stderr",
     "output_type": "stream",
     "text": [
      "C:\\Users\\Acer\\AppData\\Local\\Temp/ipykernel_18984/834814723.py:1: SettingWithCopyWarning: \n",
      "A value is trying to be set on a copy of a slice from a DataFrame\n",
      "\n",
      "See the caveats in the documentation: https://pandas.pydata.org/pandas-docs/stable/user_guide/indexing.html#returning-a-view-versus-a-copy\n",
      "  india_df['Amount ($)'][index] = india_df['Stage'][index]\n",
      "C:\\Users\\Acer\\AppData\\Local\\Temp/ipykernel_18984/834814723.py:2: SettingWithCopyWarning: \n",
      "A value is trying to be set on a copy of a slice from a DataFrame\n",
      "\n",
      "See the caveats in the documentation: https://pandas.pydata.org/pandas-docs/stable/user_guide/indexing.html#returning-a-view-versus-a-copy\n",
      "  india_df['Stage'][index] = math.nan\n"
     ]
    }
   ],
   "source": [
    "india_df['Amount ($)'][index] = india_df['Stage'][index]\n",
    "india_df['Stage'][index] = math.nan"
   ]
  },
  {
   "cell_type": "code",
   "execution_count": 93,
   "id": "48d6952f",
   "metadata": {
    "scrolled": true
   },
   "outputs": [
    {
     "data": {
      "text/plain": [
       "Month                              June\n",
       "Company/Brand              MYRE Capital\n",
       "Founded                          2020.0\n",
       "Headquarters                     Mumbai\n",
       "Sector           Commercial Real Estate\n",
       "Investor/s                  Aryaman Vir\n",
       "Amount ($)                      6000000\n",
       "Stage                               NaN\n",
       "Name: 784, dtype: object"
      ]
     },
     "execution_count": 93,
     "metadata": {},
     "output_type": "execute_result"
    }
   ],
   "source": [
    "india_df.iloc[714]"
   ]
  },
  {
   "cell_type": "code",
   "execution_count": 94,
   "id": "33a2189a",
   "metadata": {},
   "outputs": [
    {
     "data": {
      "text/plain": [
       "[161, 329, 800, 851, 861, 877, 956, 966, 976, 979, 1006, 1013]"
      ]
     },
     "execution_count": 94,
     "metadata": {},
     "output_type": "execute_result"
    }
   ],
   "source": [
    "stage = group_stages(india_df)\n",
    "stage['Debt']"
   ]
  },
  {
   "cell_type": "code",
   "execution_count": 95,
   "id": "009ccc80",
   "metadata": {},
   "outputs": [],
   "source": [
    "stage['Debt'].remove(800)"
   ]
  },
  {
   "cell_type": "code",
   "execution_count": 96,
   "id": "fa317adb",
   "metadata": {},
   "outputs": [
    {
     "name": "stderr",
     "output_type": "stream",
     "text": [
      "C:\\Users\\Acer\\AppData\\Local\\Temp/ipykernel_18984/3857762600.py:3: SettingWithCopyWarning: \n",
      "A value is trying to be set on a copy of a slice from a DataFrame\n",
      "\n",
      "See the caveats in the documentation: https://pandas.pydata.org/pandas-docs/stable/user_guide/indexing.html#returning-a-view-versus-a-copy\n",
      "  india_df['Stage'][index] = name\n"
     ]
    }
   ],
   "source": [
    "b_group = stage['Series B']\n",
    "b_group.extend(stage['Debt'])\n",
    "for x in b_group:\n",
    "    change_stage_name(india_df, x, 'Series B')"
   ]
  },
  {
   "cell_type": "code",
   "execution_count": 97,
   "id": "b3d09794",
   "metadata": {},
   "outputs": [
    {
     "name": "stderr",
     "output_type": "stream",
     "text": [
      "C:\\Users\\Acer\\AppData\\Local\\Temp/ipykernel_18984/3857762600.py:3: SettingWithCopyWarning: \n",
      "A value is trying to be set on a copy of a slice from a DataFrame\n",
      "\n",
      "See the caveats in the documentation: https://pandas.pydata.org/pandas-docs/stable/user_guide/indexing.html#returning-a-view-versus-a-copy\n",
      "  india_df['Stage'][index] = name\n"
     ]
    }
   ],
   "source": [
    "a_group = stage['Series A']\n",
    "a_group.extend(stage['Series A2'])\n",
    "for x in a_group:\n",
    "    change_stage_name(india_df, x, 'Series A')"
   ]
  },
  {
   "cell_type": "code",
   "execution_count": 98,
   "id": "535477bf",
   "metadata": {},
   "outputs": [
    {
     "name": "stderr",
     "output_type": "stream",
     "text": [
      "C:\\Users\\Acer\\AppData\\Local\\Temp/ipykernel_18984/3857762600.py:3: SettingWithCopyWarning: \n",
      "A value is trying to be set on a copy of a slice from a DataFrame\n",
      "\n",
      "See the caveats in the documentation: https://pandas.pydata.org/pandas-docs/stable/user_guide/indexing.html#returning-a-view-versus-a-copy\n",
      "  india_df['Stage'][index] = name\n"
     ]
    }
   ],
   "source": [
    "c_group = stage['Series E']\n",
    "c_group.extend(stage['Series G'])\n",
    "c_group.extend(stage['Series F'])\n",
    "c_group.extend(stage['Series F2'])\n",
    "c_group.extend(stage['Series D1'])\n",
    "c_group.extend(stage['Series F1'])\n",
    "c_group.extend(stage['Series D'])\n",
    "c_group.append(800)\n",
    "\n",
    "for x in c_group:\n",
    "    change_stage_name(india_df, x, 'Series C')"
   ]
  },
  {
   "cell_type": "code",
   "execution_count": 99,
   "id": "ae12b6e3",
   "metadata": {},
   "outputs": [
    {
     "name": "stderr",
     "output_type": "stream",
     "text": [
      "C:\\Users\\Acer\\AppData\\Local\\Temp/ipykernel_18984/3857762600.py:3: SettingWithCopyWarning: \n",
      "A value is trying to be set on a copy of a slice from a DataFrame\n",
      "\n",
      "See the caveats in the documentation: https://pandas.pydata.org/pandas-docs/stable/user_guide/indexing.html#returning-a-view-versus-a-copy\n",
      "  india_df['Stage'][index] = name\n"
     ]
    }
   ],
   "source": [
    "pre_seed_group = stage['Pre-seed']\n",
    "pre_seed_group.extend(stage['Seed+'])\n",
    "pre_seed_group.extend(stage['Early seed'])\n",
    "pre_seed_group.extend(stage['Bridge'])\n",
    "for x in pre_seed_group:\n",
    "    change_stage_name(india_df, x, 'Pre-seed')"
   ]
  },
  {
   "cell_type": "code",
   "execution_count": 100,
   "id": "eff797d3",
   "metadata": {},
   "outputs": [],
   "source": [
    "stage = group_stages(india_df)"
   ]
  },
  {
   "cell_type": "code",
   "execution_count": 101,
   "id": "da7104dd",
   "metadata": {},
   "outputs": [
    {
     "data": {
      "text/plain": [
       "dict_keys(['Series B', nan, 'Series A', 'Series C', 'Pre-series A', 'Seed', 'Pre-seed', 'Pre-series B', nan])"
      ]
     },
     "execution_count": 101,
     "metadata": {},
     "output_type": "execute_result"
    }
   ],
   "source": [
    "stage.keys()"
   ]
  },
  {
   "cell_type": "code",
   "execution_count": 102,
   "id": "07789b2d",
   "metadata": {},
   "outputs": [
    {
     "name": "stdout",
     "output_type": "stream",
     "text": [
      "40000000\n",
      "50000000\n",
      "145000000\n",
      "10000000\n",
      "6700000\n",
      "200000\n",
      "500000\n",
      "5000000\n",
      "20000000\n",
      "500000000\n",
      "1200000\n",
      "300000\n",
      "200000\n",
      "325000000\n",
      "1600000\n",
      "400000\n",
      "5000000\n",
      "100000000\n",
      "10000000\n",
      "200000\n",
      "3000000\n",
      "Undisclosed\n",
      "150000\n",
      "Undisclosed\n",
      "Undisclosed\n",
      "130000\n",
      "37000000\n",
      "265000\n",
      "1000000\n",
      "76000000\n",
      "Undisclosed\n",
      "Undisclosed\n",
      "2000000\n",
      "150000\n",
      "92000000\n",
      "10000000\n",
      "400000\n",
      "2000000\n",
      "150000\n",
      "4500000\n",
      "17000000\n",
      "3000000\n",
      "2000000\n",
      "2500000\n",
      "20000000\n",
      "15000000\n",
      "5000000\n",
      "Undisclosed\n",
      "Undisclosed\n",
      "5500000\n",
      "155000\n",
      "30000000\n",
      "400000\n",
      "40000000\n",
      "840000000\n",
      "10000000\n",
      "12000000\n",
      "4300000\n",
      "4700000\n",
      "300000000\n",
      "1300000\n",
      "4000000\n",
      "Undisclosed\n",
      "Undisclosed\n",
      "Undisclosed\n",
      "2000000\n",
      "19000000\n",
      "200000000\n",
      "7500000\n",
      "600000000\n",
      "400000\n",
      "24000000\n",
      "2300000\n",
      "4000000\n",
      "60000000\n",
      "2200000\n",
      "100000\n",
      "1000000\n",
      "50000000\n",
      "500000\n",
      "400000\n",
      "100000000\n",
      "1100000\n",
      "10000000\n",
      "500000\n",
      "10000000\n",
      "Undisclosed\n",
      "8000000\n",
      "5000000\n",
      "10000000\n",
      "70000000\n",
      "Undisclosed\n",
      "570000000\n",
      "Undisclosed\n",
      "7000000\n",
      "150000\n",
      "2700000\n",
      "400000\n",
      "125000000\n",
      "10000000\n",
      "Undisclosed\n",
      "30000000\n",
      "50000000\n",
      "nan\n",
      "1200000\n",
      "200000\n",
      "25000000\n",
      "Undisclosed\n",
      "700000\n",
      "30000000\n",
      "Undisclosed\n",
      "200000\n",
      "1000000\n",
      "4000000\n",
      "nan\n",
      "1000000\n",
      "800000\n",
      "10000000\n",
      "700000\n",
      "100000000\n",
      "Undisclosed\n",
      "Undisclosed\n",
      "320000\n",
      "10000000\n",
      "600000\n",
      "10000000\n",
      "2000000\n",
      "Undisclosed\n",
      "5000000\n",
      "2000000\n",
      "2000000\n",
      "800000\n",
      "6000000\n",
      "2500000\n",
      "9500000\n",
      "13000000\n",
      "5000000\n",
      "8000000\n",
      "1000000\n",
      "Undisclosed\n",
      "200000\n",
      "12000000\n",
      "1500000\n",
      "2000000\n",
      "5500000\n",
      "1000000\n",
      "400000\n",
      "Undisclosed\n",
      "Undisclosed\n",
      "15000000\n",
      "2000000\n",
      "1000000\n",
      "10000000\n",
      "Undisclosed\n",
      "52000000\n",
      "400000\n",
      "3800000\n",
      "17500000\n",
      "42000000\n",
      "6000000\n",
      "3800000\n",
      "2000000\n",
      "5000000\n",
      "1000000\n",
      "7000000\n",
      "30000000\n",
      "1000000\n",
      "450000000\n",
      "Undisclosed\n",
      "28000000\n",
      "300000\n",
      "3500000\n",
      "Undisclosed\n",
      "25000000\n",
      "225000000\n",
      "500000\n",
      "100000\n",
      "1200000\n",
      "600000\n",
      "9000000\n",
      "2000000\n",
      "40000000\n",
      "1600000\n",
      "1000000\n",
      "53000000\n",
      "200000000\n",
      "1000000\n",
      "200000\n",
      "Undisclosed\n",
      "220000000\n",
      "4500000\n",
      "200000\n",
      "25000000\n",
      "500000\n",
      "13000000\n",
      "500000\n",
      "450000\n",
      "10000000\n",
      "10000000\n",
      "2000000\n",
      "5000000\n",
      "60000000\n",
      "25000000\n",
      "Undisclosed\n",
      "1300000\n",
      "3000000\n",
      "1000000\n",
      "Undisclosed\n",
      "3200000\n",
      "Undisclosed\n",
      "1800000\n",
      "Undisclosed\n",
      "48000000\n",
      "3000000\n",
      "200000000\n",
      "100000000\n",
      "Undisclosed\n",
      "2500000\n",
      "2000000\n",
      "Undisclosed\n",
      "Undisclosed\n",
      "1000000\n",
      "300000\n",
      "200000\n",
      "144000000\n",
      "5200000\n",
      "Undisclosed\n",
      "5000000\n",
      "8000000\n",
      "Undisclosed\n",
      "3000000\n",
      "1000000\n",
      "300000\n",
      "Undisclosed\n",
      "3000000\n",
      "3000000\n",
      "1000000\n",
      "320000\n",
      "2000000\n",
      "Undisclosed\n",
      "1000000\n",
      "Undisclosed\n",
      "Undisclosed\n",
      "125000\n",
      "Undisclosed\n",
      "Undisclosed\n",
      "50000000\n",
      "64000000\n",
      "600000\n",
      "Undisclosed\n",
      "300000\n",
      "2000000\n",
      "60000000\n",
      "Undisclosed\n",
      "Undisclosed\n",
      "Undisclosed\n",
      "300000\n",
      "Undisclosed\n",
      "12000000\n",
      "6500000\n",
      "125000000\n",
      "5000000\n",
      "100000\n",
      "700000\n",
      "6000000\n",
      "15000000\n",
      "600000\n",
      "Undisclosed\n",
      "6000000\n",
      "50000000\n",
      "140000\n",
      "200000\n",
      "200000\n",
      "200000\n",
      "1000000\n",
      "1000000\n",
      "200000\n",
      "Undisclosed\n",
      "1000000\n",
      "100000\n",
      "2000000\n",
      "40000000\n",
      "49000000\n",
      "5000000\n",
      "1000000\n",
      "10000000\n",
      "500000\n",
      "200000\n",
      "6000000\n",
      "21000000\n",
      "1000000\n",
      "26000000\n",
      "7400000\n",
      "1500000\n",
      "3000000\n",
      "600000\n",
      "800000000\n",
      "5500000\n",
      "500000000\n",
      "6000000\n",
      "10000000\n",
      "2200000\n",
      "50000000\n",
      "2000000\n",
      "Undisclosed\n",
      "Undisclosed\n",
      "234000000\n",
      "30000000\n",
      "5100000\n",
      "125000\n",
      "10000000\n",
      "200000000\n",
      "30000000\n",
      "75000000\n",
      "5000000\n",
      "4000000\n",
      "2000000\n",
      "Undisclosed\n",
      "40000000\n",
      "300000\n",
      "3000000\n",
      "140000000\n",
      "6000000\n",
      "20000000\n",
      "20000000\n",
      "500000\n",
      "200000\n",
      "15000000\n",
      "40000000\n",
      "1500000\n",
      "12500000\n",
      "2000000\n",
      "500000\n",
      "Undisclosed\n",
      "Undisclosed\n",
      "3800000\n",
      "100000000\n",
      "400000\n",
      "15000000\n",
      "200000\n",
      "6000000\n",
      "150000\n",
      "500000\n",
      "Undisclosed\n",
      "1400000\n",
      "1500000\n",
      "Undisclosed\n",
      "1000000\n",
      "9000000\n",
      "7000000\n",
      "15000000\n",
      "1000000\n",
      "3000000\n",
      "11000000\n",
      "Undisclosed\n",
      "Undisclosed\n",
      "500000\n",
      "1000000\n",
      "2000000\n",
      "300000\n",
      "280000000\n",
      "4000000\n",
      "500000\n",
      "70000000\n"
     ]
    }
   ],
   "source": [
    "other = [nan, 'Undisclosed', 'undisclosed']\n",
    "drop_row = []\n",
    "isnan = []\n",
    "for x in stage[nan]:\n",
    "    val = india_df.iloc[x][6]\n",
    "    if val in other:\n",
    "        drop_row.append(x)\n",
    "    #if math.isnan(india_df.iloc[x][6]):\n",
    "        #isnan.append(x)\n",
    "    #elif india_df.iloc[x][6]\n",
    "    print(india_df.iloc[x][6])\n",
    "#drop_row #DROP ROWS that have NEITHER a stage nor amount of funding NAN FOR BOTH"
   ]
  },
  {
   "cell_type": "code",
   "execution_count": 103,
   "id": "5efd9d8e",
   "metadata": {},
   "outputs": [],
   "source": [
    "#data = data.drop(labels=[1,15,20], axis=0)\n",
    "drop_row.remove(311)\n",
    "drop_row.remove(645)\n",
    "india_df = india_df.drop(labels=drop_row, axis = 0)"
   ]
  },
  {
   "cell_type": "code",
   "execution_count": 104,
   "id": "198f5cdb",
   "metadata": {
    "scrolled": true
   },
   "outputs": [
    {
     "data": {
      "text/html": [
       "<div>\n",
       "<style scoped>\n",
       "    .dataframe tbody tr th:only-of-type {\n",
       "        vertical-align: middle;\n",
       "    }\n",
       "\n",
       "    .dataframe tbody tr th {\n",
       "        vertical-align: top;\n",
       "    }\n",
       "\n",
       "    .dataframe thead th {\n",
       "        text-align: right;\n",
       "    }\n",
       "</style>\n",
       "<table border=\"1\" class=\"dataframe\">\n",
       "  <thead>\n",
       "    <tr style=\"text-align: right;\">\n",
       "      <th></th>\n",
       "      <th>Month</th>\n",
       "      <th>Company/Brand</th>\n",
       "      <th>Founded</th>\n",
       "      <th>Headquarters</th>\n",
       "      <th>Sector</th>\n",
       "      <th>Investor/s</th>\n",
       "      <th>Amount ($)</th>\n",
       "      <th>Stage</th>\n",
       "    </tr>\n",
       "  </thead>\n",
       "  <tbody>\n",
       "    <tr>\n",
       "      <th>0</th>\n",
       "      <td>December</td>\n",
       "      <td>CollegeDekho</td>\n",
       "      <td>2015.0</td>\n",
       "      <td>Gurgaon</td>\n",
       "      <td>E-learning</td>\n",
       "      <td>Disrupt ADQ, QIC</td>\n",
       "      <td>35000000</td>\n",
       "      <td>Series B</td>\n",
       "    </tr>\n",
       "    <tr>\n",
       "      <th>1</th>\n",
       "      <td>December</td>\n",
       "      <td>BOX8</td>\n",
       "      <td>2012.0</td>\n",
       "      <td>Mumbai</td>\n",
       "      <td>Food &amp; Beverages</td>\n",
       "      <td>Tiger Global</td>\n",
       "      <td>40000000</td>\n",
       "      <td>NaN</td>\n",
       "    </tr>\n",
       "    <tr>\n",
       "      <th>2</th>\n",
       "      <td>December</td>\n",
       "      <td>Simpl</td>\n",
       "      <td>2015.0</td>\n",
       "      <td>Bangalore</td>\n",
       "      <td>Consumer Services</td>\n",
       "      <td>Valar Ventures, IA Ventures</td>\n",
       "      <td>40000000</td>\n",
       "      <td>Series B</td>\n",
       "    </tr>\n",
       "    <tr>\n",
       "      <th>3</th>\n",
       "      <td>December</td>\n",
       "      <td>8i Ventures</td>\n",
       "      <td>2018.0</td>\n",
       "      <td>Mumbai</td>\n",
       "      <td>Venture Capital &amp; Private Equity</td>\n",
       "      <td>NaN</td>\n",
       "      <td>50000000</td>\n",
       "      <td>NaN</td>\n",
       "    </tr>\n",
       "    <tr>\n",
       "      <th>4</th>\n",
       "      <td>December</td>\n",
       "      <td>PayGlocal</td>\n",
       "      <td>2021.0</td>\n",
       "      <td>Bangalore</td>\n",
       "      <td>Financial Services</td>\n",
       "      <td>Sequoia Capital India</td>\n",
       "      <td>4900000</td>\n",
       "      <td>Series A</td>\n",
       "    </tr>\n",
       "    <tr>\n",
       "      <th>...</th>\n",
       "      <td>...</td>\n",
       "      <td>...</td>\n",
       "      <td>...</td>\n",
       "      <td>...</td>\n",
       "      <td>...</td>\n",
       "      <td>...</td>\n",
       "      <td>...</td>\n",
       "      <td>...</td>\n",
       "    </tr>\n",
       "    <tr>\n",
       "      <th>1203</th>\n",
       "      <td>January</td>\n",
       "      <td>BlackSoil</td>\n",
       "      <td>2016.0</td>\n",
       "      <td>Mumbai</td>\n",
       "      <td>FinTech</td>\n",
       "      <td>Awign Enterprises</td>\n",
       "      <td>4000000</td>\n",
       "      <td>NaN</td>\n",
       "    </tr>\n",
       "    <tr>\n",
       "      <th>1204</th>\n",
       "      <td>January</td>\n",
       "      <td>HobSpace</td>\n",
       "      <td>2019.0</td>\n",
       "      <td>Mumbai</td>\n",
       "      <td>EdTech</td>\n",
       "      <td>Siddharth Bhaskar Shah, Upsparks</td>\n",
       "      <td>100000</td>\n",
       "      <td>Pre-series A</td>\n",
       "    </tr>\n",
       "    <tr>\n",
       "      <th>1205</th>\n",
       "      <td>January</td>\n",
       "      <td>DcodeAI</td>\n",
       "      <td>2020.0</td>\n",
       "      <td>New Delhi</td>\n",
       "      <td>EdTech</td>\n",
       "      <td>S Chand</td>\n",
       "      <td>500000</td>\n",
       "      <td>NaN</td>\n",
       "    </tr>\n",
       "    <tr>\n",
       "      <th>1206</th>\n",
       "      <td>January</td>\n",
       "      <td>Biocon Biologics</td>\n",
       "      <td>1978.0</td>\n",
       "      <td>Bangalore</td>\n",
       "      <td>BioTechnology</td>\n",
       "      <td>Goldman Sachs, Tata Capital</td>\n",
       "      <td>70000000</td>\n",
       "      <td>NaN</td>\n",
       "    </tr>\n",
       "    <tr>\n",
       "      <th>1207</th>\n",
       "      <td>January</td>\n",
       "      <td>KiranaKart</td>\n",
       "      <td>2020.0</td>\n",
       "      <td>Mumbai</td>\n",
       "      <td>E-commerce</td>\n",
       "      <td>Global Founders Capital</td>\n",
       "      <td>720000</td>\n",
       "      <td>Pre-seed</td>\n",
       "    </tr>\n",
       "  </tbody>\n",
       "</table>\n",
       "<p>980 rows × 8 columns</p>\n",
       "</div>"
      ],
      "text/plain": [
       "         Month     Company/Brand  Founded Headquarters  \\\n",
       "0     December      CollegeDekho   2015.0      Gurgaon   \n",
       "1     December              BOX8   2012.0       Mumbai   \n",
       "2     December             Simpl   2015.0    Bangalore   \n",
       "3     December       8i Ventures   2018.0       Mumbai   \n",
       "4     December         PayGlocal   2021.0    Bangalore   \n",
       "...        ...               ...      ...          ...   \n",
       "1203   January         BlackSoil   2016.0       Mumbai   \n",
       "1204   January          HobSpace   2019.0       Mumbai   \n",
       "1205   January           DcodeAI   2020.0    New Delhi   \n",
       "1206   January  Biocon Biologics   1978.0    Bangalore   \n",
       "1207   January        KiranaKart   2020.0       Mumbai   \n",
       "\n",
       "                                Sector                        Investor/s  \\\n",
       "0                           E-learning                  Disrupt ADQ, QIC   \n",
       "1                     Food & Beverages                      Tiger Global   \n",
       "2                    Consumer Services       Valar Ventures, IA Ventures   \n",
       "3     Venture Capital & Private Equity                               NaN   \n",
       "4                   Financial Services             Sequoia Capital India   \n",
       "...                                ...                               ...   \n",
       "1203                           FinTech                 Awign Enterprises   \n",
       "1204                            EdTech  Siddharth Bhaskar Shah, Upsparks   \n",
       "1205                            EdTech                           S Chand   \n",
       "1206                     BioTechnology       Goldman Sachs, Tata Capital   \n",
       "1207                       E-commerce            Global Founders Capital   \n",
       "\n",
       "     Amount ($)         Stage  \n",
       "0      35000000      Series B  \n",
       "1      40000000           NaN  \n",
       "2      40000000      Series B  \n",
       "3      50000000           NaN  \n",
       "4       4900000      Series A  \n",
       "...         ...           ...  \n",
       "1203    4000000           NaN  \n",
       "1204     100000  Pre-series A  \n",
       "1205     500000           NaN  \n",
       "1206   70000000           NaN  \n",
       "1207     720000      Pre-seed  \n",
       "\n",
       "[980 rows x 8 columns]"
      ]
     },
     "execution_count": 104,
     "metadata": {},
     "output_type": "execute_result"
    }
   ],
   "source": [
    "india_df"
   ]
  },
  {
   "cell_type": "code",
   "execution_count": 105,
   "id": "73e51852",
   "metadata": {},
   "outputs": [
    {
     "data": {
      "text/html": [
       "<div>\n",
       "<style scoped>\n",
       "    .dataframe tbody tr th:only-of-type {\n",
       "        vertical-align: middle;\n",
       "    }\n",
       "\n",
       "    .dataframe tbody tr th {\n",
       "        vertical-align: top;\n",
       "    }\n",
       "\n",
       "    .dataframe thead th {\n",
       "        text-align: right;\n",
       "    }\n",
       "</style>\n",
       "<table border=\"1\" class=\"dataframe\">\n",
       "  <thead>\n",
       "    <tr style=\"text-align: right;\">\n",
       "      <th></th>\n",
       "      <th>Month</th>\n",
       "      <th>Company/Brand</th>\n",
       "      <th>Founded</th>\n",
       "      <th>Headquarters</th>\n",
       "      <th>Sector</th>\n",
       "      <th>Investor/s</th>\n",
       "      <th>Amount ($)</th>\n",
       "      <th>Stage</th>\n",
       "    </tr>\n",
       "  </thead>\n",
       "  <tbody>\n",
       "    <tr>\n",
       "      <th>0</th>\n",
       "      <td>December</td>\n",
       "      <td>CollegeDekho</td>\n",
       "      <td>2015.0</td>\n",
       "      <td>Gurgaon</td>\n",
       "      <td>E-learning</td>\n",
       "      <td>Disrupt ADQ, QIC</td>\n",
       "      <td>35000000</td>\n",
       "      <td>Series B</td>\n",
       "    </tr>\n",
       "    <tr>\n",
       "      <th>1</th>\n",
       "      <td>December</td>\n",
       "      <td>BOX8</td>\n",
       "      <td>2012.0</td>\n",
       "      <td>Mumbai</td>\n",
       "      <td>Food &amp; Beverages</td>\n",
       "      <td>Tiger Global</td>\n",
       "      <td>40000000</td>\n",
       "      <td>NaN</td>\n",
       "    </tr>\n",
       "    <tr>\n",
       "      <th>2</th>\n",
       "      <td>December</td>\n",
       "      <td>Simpl</td>\n",
       "      <td>2015.0</td>\n",
       "      <td>Bangalore</td>\n",
       "      <td>Consumer Services</td>\n",
       "      <td>Valar Ventures, IA Ventures</td>\n",
       "      <td>40000000</td>\n",
       "      <td>Series B</td>\n",
       "    </tr>\n",
       "    <tr>\n",
       "      <th>3</th>\n",
       "      <td>December</td>\n",
       "      <td>8i Ventures</td>\n",
       "      <td>2018.0</td>\n",
       "      <td>Mumbai</td>\n",
       "      <td>Venture Capital &amp; Private Equity</td>\n",
       "      <td>NaN</td>\n",
       "      <td>50000000</td>\n",
       "      <td>NaN</td>\n",
       "    </tr>\n",
       "    <tr>\n",
       "      <th>4</th>\n",
       "      <td>December</td>\n",
       "      <td>PayGlocal</td>\n",
       "      <td>2021.0</td>\n",
       "      <td>Bangalore</td>\n",
       "      <td>Financial Services</td>\n",
       "      <td>Sequoia Capital India</td>\n",
       "      <td>4900000</td>\n",
       "      <td>Series A</td>\n",
       "    </tr>\n",
       "    <tr>\n",
       "      <th>...</th>\n",
       "      <td>...</td>\n",
       "      <td>...</td>\n",
       "      <td>...</td>\n",
       "      <td>...</td>\n",
       "      <td>...</td>\n",
       "      <td>...</td>\n",
       "      <td>...</td>\n",
       "      <td>...</td>\n",
       "    </tr>\n",
       "    <tr>\n",
       "      <th>1203</th>\n",
       "      <td>January</td>\n",
       "      <td>BlackSoil</td>\n",
       "      <td>2016.0</td>\n",
       "      <td>Mumbai</td>\n",
       "      <td>FinTech</td>\n",
       "      <td>Awign Enterprises</td>\n",
       "      <td>4000000</td>\n",
       "      <td>NaN</td>\n",
       "    </tr>\n",
       "    <tr>\n",
       "      <th>1204</th>\n",
       "      <td>January</td>\n",
       "      <td>HobSpace</td>\n",
       "      <td>2019.0</td>\n",
       "      <td>Mumbai</td>\n",
       "      <td>EdTech</td>\n",
       "      <td>Siddharth Bhaskar Shah, Upsparks</td>\n",
       "      <td>100000</td>\n",
       "      <td>Pre-series A</td>\n",
       "    </tr>\n",
       "    <tr>\n",
       "      <th>1205</th>\n",
       "      <td>January</td>\n",
       "      <td>DcodeAI</td>\n",
       "      <td>2020.0</td>\n",
       "      <td>New Delhi</td>\n",
       "      <td>EdTech</td>\n",
       "      <td>S Chand</td>\n",
       "      <td>500000</td>\n",
       "      <td>NaN</td>\n",
       "    </tr>\n",
       "    <tr>\n",
       "      <th>1206</th>\n",
       "      <td>January</td>\n",
       "      <td>Biocon Biologics</td>\n",
       "      <td>1978.0</td>\n",
       "      <td>Bangalore</td>\n",
       "      <td>BioTechnology</td>\n",
       "      <td>Goldman Sachs, Tata Capital</td>\n",
       "      <td>70000000</td>\n",
       "      <td>NaN</td>\n",
       "    </tr>\n",
       "    <tr>\n",
       "      <th>1207</th>\n",
       "      <td>January</td>\n",
       "      <td>KiranaKart</td>\n",
       "      <td>2020.0</td>\n",
       "      <td>Mumbai</td>\n",
       "      <td>E-commerce</td>\n",
       "      <td>Global Founders Capital</td>\n",
       "      <td>720000</td>\n",
       "      <td>Pre-seed</td>\n",
       "    </tr>\n",
       "  </tbody>\n",
       "</table>\n",
       "<p>978 rows × 8 columns</p>\n",
       "</div>"
      ],
      "text/plain": [
       "         Month     Company/Brand  Founded Headquarters  \\\n",
       "0     December      CollegeDekho   2015.0      Gurgaon   \n",
       "1     December              BOX8   2012.0       Mumbai   \n",
       "2     December             Simpl   2015.0    Bangalore   \n",
       "3     December       8i Ventures   2018.0       Mumbai   \n",
       "4     December         PayGlocal   2021.0    Bangalore   \n",
       "...        ...               ...      ...          ...   \n",
       "1203   January         BlackSoil   2016.0       Mumbai   \n",
       "1204   January          HobSpace   2019.0       Mumbai   \n",
       "1205   January           DcodeAI   2020.0    New Delhi   \n",
       "1206   January  Biocon Biologics   1978.0    Bangalore   \n",
       "1207   January        KiranaKart   2020.0       Mumbai   \n",
       "\n",
       "                                Sector                        Investor/s  \\\n",
       "0                           E-learning                  Disrupt ADQ, QIC   \n",
       "1                     Food & Beverages                      Tiger Global   \n",
       "2                    Consumer Services       Valar Ventures, IA Ventures   \n",
       "3     Venture Capital & Private Equity                               NaN   \n",
       "4                   Financial Services             Sequoia Capital India   \n",
       "...                                ...                               ...   \n",
       "1203                           FinTech                 Awign Enterprises   \n",
       "1204                            EdTech  Siddharth Bhaskar Shah, Upsparks   \n",
       "1205                            EdTech                           S Chand   \n",
       "1206                     BioTechnology       Goldman Sachs, Tata Capital   \n",
       "1207                       E-commerce            Global Founders Capital   \n",
       "\n",
       "     Amount ($)         Stage  \n",
       "0      35000000      Series B  \n",
       "1      40000000           NaN  \n",
       "2      40000000      Series B  \n",
       "3      50000000           NaN  \n",
       "4       4900000      Series A  \n",
       "...         ...           ...  \n",
       "1203    4000000           NaN  \n",
       "1204     100000  Pre-series A  \n",
       "1205     500000           NaN  \n",
       "1206   70000000           NaN  \n",
       "1207     720000      Pre-seed  \n",
       "\n",
       "[978 rows x 8 columns]"
      ]
     },
     "execution_count": 105,
     "metadata": {},
     "output_type": "execute_result"
    }
   ],
   "source": [
    "india_df.dropna(subset=['Amount ($)','Stage'],how='all')"
   ]
  },
  {
   "cell_type": "code",
   "execution_count": 106,
   "id": "811039ed",
   "metadata": {},
   "outputs": [],
   "source": [
    "stage = group_stages(india_df)\n",
    "#stage['Debt']"
   ]
  },
  {
   "cell_type": "code",
   "execution_count": null,
   "id": "79d299e1",
   "metadata": {},
   "outputs": [],
   "source": []
  },
  {
   "cell_type": "code",
   "execution_count": 107,
   "id": "8d9c71d2",
   "metadata": {},
   "outputs": [],
   "source": [
    "def stage_avg(name):\n",
    "    amount = len(stage[name])\n",
    "    tot = 0\n",
    "    unknown = [nan, 'Undisclosed', 'undisclosed']\n",
    "    for x in stage[name]:\n",
    "        if india_df.iloc[x][6] not in unknown:\n",
    "            \n",
    "            tot += int(india_df.iloc[x][6])\n",
    "        \n",
    "    return int(tot/amount)"
   ]
  },
  {
   "cell_type": "code",
   "execution_count": 108,
   "id": "a4b72e97",
   "metadata": {},
   "outputs": [
    {
     "name": "stderr",
     "output_type": "stream",
     "text": [
      "C:\\Users\\Acer\\anaconda3\\lib\\site-packages\\pandas\\core\\series.py:1056: SettingWithCopyWarning: \n",
      "A value is trying to be set on a copy of a slice from a DataFrame\n",
      "\n",
      "See the caveats in the documentation: https://pandas.pydata.org/pandas-docs/stable/user_guide/indexing.html#returning-a-view-versus-a-copy\n",
      "  cacher_needs_updating = self._check_is_chained_assignment_possible()\n"
     ]
    }
   ],
   "source": [
    "#temporarily remove nan, undisclosed and Undiclosed to get avgs\n",
    "Final_stages = ['Series B' 'Series A', 'Series C', 'Pre-series A', 'Seed', 'Pre-seed', 'Pre-series B', 'Debt', 'Bridge']\n",
    "unknown = [nan, 'Undisclosed', 'undisclosed']\n",
    "stage_copy = stage.copy()\n",
    "drop_rows = []\n",
    "for x in stage_copy.keys():\n",
    "    for y in stage_copy[x]:\n",
    "        amount = india_df.iloc[y][6]\n",
    "        curr_stage = india_df.iloc[y][7]\n",
    "        if amount in unknown and curr_stage in unknown:\n",
    "            india_df.iloc[y][6] = math.nan\n",
    "            india_df.iloc[y][7] = math.nan\n",
    "            drop_rows.append(y)\n",
    "\n",
    "            #print(curr_stage)\n",
    "#drop_rows"
   ]
  },
  {
   "cell_type": "code",
   "execution_count": 109,
   "id": "bae4486e",
   "metadata": {},
   "outputs": [],
   "source": [
    "#drop rows where both amount and stage is nan\n",
    "india_df.drop(india_df.index[drop_rows], inplace=True)"
   ]
  },
  {
   "cell_type": "code",
   "execution_count": 110,
   "id": "a862a886",
   "metadata": {},
   "outputs": [],
   "source": [
    "stage = group_stages(india_df)\n",
    "#stage['Debt']"
   ]
  },
  {
   "cell_type": "code",
   "execution_count": null,
   "id": "4c95f2b0",
   "metadata": {},
   "outputs": [],
   "source": []
  },
  {
   "cell_type": "code",
   "execution_count": null,
   "id": "96d18094",
   "metadata": {},
   "outputs": [],
   "source": []
  },
  {
   "cell_type": "code",
   "execution_count": null,
   "id": "c1ca8567",
   "metadata": {
    "scrolled": true
   },
   "outputs": [],
   "source": []
  },
  {
   "cell_type": "code",
   "execution_count": null,
   "id": "b74638cc",
   "metadata": {},
   "outputs": [],
   "source": []
  },
  {
   "cell_type": "code",
   "execution_count": null,
   "id": "77a91b36",
   "metadata": {},
   "outputs": [],
   "source": []
  },
  {
   "cell_type": "code",
   "execution_count": 111,
   "id": "fa07ce38",
   "metadata": {
    "scrolled": true
   },
   "outputs": [
    {
     "data": {
      "text/plain": [
       "Month                              April\n",
       "Company/Brand                   Safexpay\n",
       "Founded                           2017.0\n",
       "Headquarters                       Thane\n",
       "Sector                           FinTech\n",
       "Investor/s       T Choithrams BVI, Ardor\n",
       "Amount ($)                       6000000\n",
       "Stage                                NaN\n",
       "Name: 960, dtype: object"
      ]
     },
     "execution_count": 111,
     "metadata": {},
     "output_type": "execute_result"
    }
   ],
   "source": [
    "india_df.iloc[762]"
   ]
  },
  {
   "cell_type": "code",
   "execution_count": 112,
   "id": "8149e1f1",
   "metadata": {},
   "outputs": [],
   "source": [
    "stage_copy = stage.copy()"
   ]
  },
  {
   "cell_type": "code",
   "execution_count": 113,
   "id": "9fe7627f",
   "metadata": {},
   "outputs": [
    {
     "data": {
      "text/plain": [
       "dict_keys(['Series B', nan, 'Series A', 'Series C', 'Pre-series A', 'Seed', 'Pre-seed', 'Pre-series B', nan])"
      ]
     },
     "execution_count": 113,
     "metadata": {},
     "output_type": "execute_result"
    }
   ],
   "source": [
    "stage_copy.keys()"
   ]
  },
  {
   "cell_type": "code",
   "execution_count": 114,
   "id": "0bb491aa",
   "metadata": {},
   "outputs": [],
   "source": [
    "stage = group_stages(india_df)"
   ]
  },
  {
   "cell_type": "code",
   "execution_count": 115,
   "id": "10658200",
   "metadata": {},
   "outputs": [
    {
     "data": {
      "text/plain": [
       "dict_keys(['Series B', nan, 'Series A', 'Series C', 'Pre-series A', 'Seed', 'Pre-seed', 'Pre-series B', nan])"
      ]
     },
     "execution_count": 115,
     "metadata": {},
     "output_type": "execute_result"
    }
   ],
   "source": [
    "stage.keys()"
   ]
  },
  {
   "cell_type": "code",
   "execution_count": null,
   "id": "0f68d803",
   "metadata": {
    "scrolled": true
   },
   "outputs": [],
   "source": []
  },
  {
   "cell_type": "code",
   "execution_count": null,
   "id": "936a45e8",
   "metadata": {},
   "outputs": [],
   "source": []
  },
  {
   "cell_type": "code",
   "execution_count": 116,
   "id": "34d75312",
   "metadata": {},
   "outputs": [
    {
     "data": {
      "text/html": [
       "<div>\n",
       "<style scoped>\n",
       "    .dataframe tbody tr th:only-of-type {\n",
       "        vertical-align: middle;\n",
       "    }\n",
       "\n",
       "    .dataframe tbody tr th {\n",
       "        vertical-align: top;\n",
       "    }\n",
       "\n",
       "    .dataframe thead th {\n",
       "        text-align: right;\n",
       "    }\n",
       "</style>\n",
       "<table border=\"1\" class=\"dataframe\">\n",
       "  <thead>\n",
       "    <tr style=\"text-align: right;\">\n",
       "      <th></th>\n",
       "      <th>Month</th>\n",
       "      <th>Company/Brand</th>\n",
       "      <th>Founded</th>\n",
       "      <th>Headquarters</th>\n",
       "      <th>Sector</th>\n",
       "      <th>Investor/s</th>\n",
       "      <th>Amount ($)</th>\n",
       "      <th>Stage</th>\n",
       "    </tr>\n",
       "  </thead>\n",
       "  <tbody>\n",
       "    <tr>\n",
       "      <th>0</th>\n",
       "      <td>December</td>\n",
       "      <td>CollegeDekho</td>\n",
       "      <td>2015.0</td>\n",
       "      <td>Gurgaon</td>\n",
       "      <td>E-learning</td>\n",
       "      <td>Disrupt ADQ, QIC</td>\n",
       "      <td>35000000</td>\n",
       "      <td>Series B</td>\n",
       "    </tr>\n",
       "    <tr>\n",
       "      <th>1</th>\n",
       "      <td>December</td>\n",
       "      <td>BOX8</td>\n",
       "      <td>2012.0</td>\n",
       "      <td>Mumbai</td>\n",
       "      <td>Food &amp; Beverages</td>\n",
       "      <td>Tiger Global</td>\n",
       "      <td>40000000</td>\n",
       "      <td>NaN</td>\n",
       "    </tr>\n",
       "    <tr>\n",
       "      <th>2</th>\n",
       "      <td>December</td>\n",
       "      <td>Simpl</td>\n",
       "      <td>2015.0</td>\n",
       "      <td>Bangalore</td>\n",
       "      <td>Consumer Services</td>\n",
       "      <td>Valar Ventures, IA Ventures</td>\n",
       "      <td>40000000</td>\n",
       "      <td>Series B</td>\n",
       "    </tr>\n",
       "    <tr>\n",
       "      <th>3</th>\n",
       "      <td>December</td>\n",
       "      <td>8i Ventures</td>\n",
       "      <td>2018.0</td>\n",
       "      <td>Mumbai</td>\n",
       "      <td>Venture Capital &amp; Private Equity</td>\n",
       "      <td>NaN</td>\n",
       "      <td>50000000</td>\n",
       "      <td>NaN</td>\n",
       "    </tr>\n",
       "    <tr>\n",
       "      <th>4</th>\n",
       "      <td>December</td>\n",
       "      <td>PayGlocal</td>\n",
       "      <td>2021.0</td>\n",
       "      <td>Bangalore</td>\n",
       "      <td>Financial Services</td>\n",
       "      <td>Sequoia Capital India</td>\n",
       "      <td>4900000</td>\n",
       "      <td>Series A</td>\n",
       "    </tr>\n",
       "    <tr>\n",
       "      <th>...</th>\n",
       "      <td>...</td>\n",
       "      <td>...</td>\n",
       "      <td>...</td>\n",
       "      <td>...</td>\n",
       "      <td>...</td>\n",
       "      <td>...</td>\n",
       "      <td>...</td>\n",
       "      <td>...</td>\n",
       "    </tr>\n",
       "    <tr>\n",
       "      <th>1203</th>\n",
       "      <td>January</td>\n",
       "      <td>BlackSoil</td>\n",
       "      <td>2016.0</td>\n",
       "      <td>Mumbai</td>\n",
       "      <td>FinTech</td>\n",
       "      <td>Awign Enterprises</td>\n",
       "      <td>4000000</td>\n",
       "      <td>NaN</td>\n",
       "    </tr>\n",
       "    <tr>\n",
       "      <th>1204</th>\n",
       "      <td>January</td>\n",
       "      <td>HobSpace</td>\n",
       "      <td>2019.0</td>\n",
       "      <td>Mumbai</td>\n",
       "      <td>EdTech</td>\n",
       "      <td>Siddharth Bhaskar Shah, Upsparks</td>\n",
       "      <td>100000</td>\n",
       "      <td>Pre-series A</td>\n",
       "    </tr>\n",
       "    <tr>\n",
       "      <th>1205</th>\n",
       "      <td>January</td>\n",
       "      <td>DcodeAI</td>\n",
       "      <td>2020.0</td>\n",
       "      <td>New Delhi</td>\n",
       "      <td>EdTech</td>\n",
       "      <td>S Chand</td>\n",
       "      <td>500000</td>\n",
       "      <td>NaN</td>\n",
       "    </tr>\n",
       "    <tr>\n",
       "      <th>1206</th>\n",
       "      <td>January</td>\n",
       "      <td>Biocon Biologics</td>\n",
       "      <td>1978.0</td>\n",
       "      <td>Bangalore</td>\n",
       "      <td>BioTechnology</td>\n",
       "      <td>Goldman Sachs, Tata Capital</td>\n",
       "      <td>70000000</td>\n",
       "      <td>NaN</td>\n",
       "    </tr>\n",
       "    <tr>\n",
       "      <th>1207</th>\n",
       "      <td>January</td>\n",
       "      <td>KiranaKart</td>\n",
       "      <td>2020.0</td>\n",
       "      <td>Mumbai</td>\n",
       "      <td>E-commerce</td>\n",
       "      <td>Global Founders Capital</td>\n",
       "      <td>720000</td>\n",
       "      <td>Pre-seed</td>\n",
       "    </tr>\n",
       "  </tbody>\n",
       "</table>\n",
       "<p>924 rows × 8 columns</p>\n",
       "</div>"
      ],
      "text/plain": [
       "         Month     Company/Brand  Founded Headquarters  \\\n",
       "0     December      CollegeDekho   2015.0      Gurgaon   \n",
       "1     December              BOX8   2012.0       Mumbai   \n",
       "2     December             Simpl   2015.0    Bangalore   \n",
       "3     December       8i Ventures   2018.0       Mumbai   \n",
       "4     December         PayGlocal   2021.0    Bangalore   \n",
       "...        ...               ...      ...          ...   \n",
       "1203   January         BlackSoil   2016.0       Mumbai   \n",
       "1204   January          HobSpace   2019.0       Mumbai   \n",
       "1205   January           DcodeAI   2020.0    New Delhi   \n",
       "1206   January  Biocon Biologics   1978.0    Bangalore   \n",
       "1207   January        KiranaKart   2020.0       Mumbai   \n",
       "\n",
       "                                Sector                        Investor/s  \\\n",
       "0                           E-learning                  Disrupt ADQ, QIC   \n",
       "1                     Food & Beverages                      Tiger Global   \n",
       "2                    Consumer Services       Valar Ventures, IA Ventures   \n",
       "3     Venture Capital & Private Equity                               NaN   \n",
       "4                   Financial Services             Sequoia Capital India   \n",
       "...                                ...                               ...   \n",
       "1203                           FinTech                 Awign Enterprises   \n",
       "1204                            EdTech  Siddharth Bhaskar Shah, Upsparks   \n",
       "1205                            EdTech                           S Chand   \n",
       "1206                     BioTechnology       Goldman Sachs, Tata Capital   \n",
       "1207                       E-commerce            Global Founders Capital   \n",
       "\n",
       "     Amount ($)         Stage  \n",
       "0      35000000      Series B  \n",
       "1      40000000           NaN  \n",
       "2      40000000      Series B  \n",
       "3      50000000           NaN  \n",
       "4       4900000      Series A  \n",
       "...         ...           ...  \n",
       "1203    4000000           NaN  \n",
       "1204     100000  Pre-series A  \n",
       "1205     500000           NaN  \n",
       "1206   70000000           NaN  \n",
       "1207     720000      Pre-seed  \n",
       "\n",
       "[924 rows x 8 columns]"
      ]
     },
     "execution_count": 116,
     "metadata": {},
     "output_type": "execute_result"
    }
   ],
   "source": [
    "india_df"
   ]
  },
  {
   "cell_type": "code",
   "execution_count": 117,
   "id": "816fcb95",
   "metadata": {},
   "outputs": [
    {
     "data": {
      "text/plain": [
       "dict_keys(['Series B', nan, 'Series A', 'Series C', 'Pre-series A', 'Seed', 'Pre-seed', 'Pre-series B', nan])"
      ]
     },
     "execution_count": 117,
     "metadata": {},
     "output_type": "execute_result"
    }
   ],
   "source": [
    "stage.keys()"
   ]
  },
  {
   "cell_type": "code",
   "execution_count": null,
   "id": "8f64d84d",
   "metadata": {},
   "outputs": [],
   "source": []
  },
  {
   "cell_type": "code",
   "execution_count": null,
   "id": "fd20c0c3",
   "metadata": {},
   "outputs": [],
   "source": []
  },
  {
   "cell_type": "code",
   "execution_count": 122,
   "id": "6c2aafc7",
   "metadata": {},
   "outputs": [],
   "source": [
    "def find_closest(num):\n",
    "    closest = math.nan\n",
    "    diff = 2**31 - 1\n",
    "    stages = ['Series B', 'Series A', 'Series C', 'Pre-series A', 'Seed', 'Pre-seed', 'Pre-series B']\n",
    "    list_of_avgs = {'Series B':[], 'Series A':[], 'Series C':[], 'Pre-series A':[], 'Seed':[], 'Pre-seed':[], 'Pre-series B':[]}\n",
    "    for x in stages:\n",
    "        list_of_avgs[x] = stage_avg(x)\n",
    "        if abs(num - list_of_avgs[x]) < diff:\n",
    "            diff = abs(num - list_of_avgs[x])\n",
    "            closest = x\n",
    "    return x\n",
    "        #print(stage_avg(x))"
   ]
  },
  {
   "cell_type": "code",
   "execution_count": 120,
   "id": "d8047ec9",
   "metadata": {},
   "outputs": [
    {
     "data": {
      "text/plain": [
       "{'Series B': 2978696078,\n",
       " 'Series A': 11556250,\n",
       " 'Series C': 91862500,\n",
       " 'Pre-series A': 1754669,\n",
       " 'Seed': 2357929,\n",
       " 'Pre-seed': 634767,\n",
       " 'Pre-series B': 7944444}"
      ]
     },
     "execution_count": 120,
     "metadata": {},
     "output_type": "execute_result"
    }
   ],
   "source": [
    "list_of_avgs"
   ]
  },
  {
   "cell_type": "code",
   "execution_count": 124,
   "id": "517ce7a4",
   "metadata": {},
   "outputs": [
    {
     "name": "stderr",
     "output_type": "stream",
     "text": [
      "C:\\Users\\Acer\\AppData\\Local\\Temp/ipykernel_18984/3857762600.py:3: SettingWithCopyWarning: \n",
      "A value is trying to be set on a copy of a slice from a DataFrame\n",
      "\n",
      "See the caveats in the documentation: https://pandas.pydata.org/pandas-docs/stable/user_guide/indexing.html#returning-a-view-versus-a-copy\n",
      "  india_df['Stage'][index] = name\n"
     ]
    }
   ],
   "source": [
    "for x in stage[nan]:\n",
    "    val = india_df.iloc[x][6]\n",
    "    stage_curr = find_closest(int(val))\n",
    "    change_stage_name(india_df, x, stage_curr )"
   ]
  },
  {
   "cell_type": "code",
   "execution_count": 125,
   "id": "8be5e1a7",
   "metadata": {
    "scrolled": true
   },
   "outputs": [
    {
     "data": {
      "text/html": [
       "<div>\n",
       "<style scoped>\n",
       "    .dataframe tbody tr th:only-of-type {\n",
       "        vertical-align: middle;\n",
       "    }\n",
       "\n",
       "    .dataframe tbody tr th {\n",
       "        vertical-align: top;\n",
       "    }\n",
       "\n",
       "    .dataframe thead th {\n",
       "        text-align: right;\n",
       "    }\n",
       "</style>\n",
       "<table border=\"1\" class=\"dataframe\">\n",
       "  <thead>\n",
       "    <tr style=\"text-align: right;\">\n",
       "      <th></th>\n",
       "      <th>Month</th>\n",
       "      <th>Company/Brand</th>\n",
       "      <th>Founded</th>\n",
       "      <th>Headquarters</th>\n",
       "      <th>Sector</th>\n",
       "      <th>Investor/s</th>\n",
       "      <th>Amount ($)</th>\n",
       "      <th>Stage</th>\n",
       "    </tr>\n",
       "  </thead>\n",
       "  <tbody>\n",
       "    <tr>\n",
       "      <th>0</th>\n",
       "      <td>December</td>\n",
       "      <td>CollegeDekho</td>\n",
       "      <td>2015.0</td>\n",
       "      <td>Gurgaon</td>\n",
       "      <td>E-learning</td>\n",
       "      <td>Disrupt ADQ, QIC</td>\n",
       "      <td>35000000</td>\n",
       "      <td>Series B</td>\n",
       "    </tr>\n",
       "    <tr>\n",
       "      <th>1</th>\n",
       "      <td>December</td>\n",
       "      <td>BOX8</td>\n",
       "      <td>2012.0</td>\n",
       "      <td>Mumbai</td>\n",
       "      <td>Food &amp; Beverages</td>\n",
       "      <td>Tiger Global</td>\n",
       "      <td>40000000</td>\n",
       "      <td>Pre-series B</td>\n",
       "    </tr>\n",
       "    <tr>\n",
       "      <th>2</th>\n",
       "      <td>December</td>\n",
       "      <td>Simpl</td>\n",
       "      <td>2015.0</td>\n",
       "      <td>Bangalore</td>\n",
       "      <td>Consumer Services</td>\n",
       "      <td>Valar Ventures, IA Ventures</td>\n",
       "      <td>40000000</td>\n",
       "      <td>Series B</td>\n",
       "    </tr>\n",
       "    <tr>\n",
       "      <th>3</th>\n",
       "      <td>December</td>\n",
       "      <td>8i Ventures</td>\n",
       "      <td>2018.0</td>\n",
       "      <td>Mumbai</td>\n",
       "      <td>Venture Capital &amp; Private Equity</td>\n",
       "      <td>NaN</td>\n",
       "      <td>50000000</td>\n",
       "      <td>Pre-series B</td>\n",
       "    </tr>\n",
       "    <tr>\n",
       "      <th>4</th>\n",
       "      <td>December</td>\n",
       "      <td>PayGlocal</td>\n",
       "      <td>2021.0</td>\n",
       "      <td>Bangalore</td>\n",
       "      <td>Financial Services</td>\n",
       "      <td>Sequoia Capital India</td>\n",
       "      <td>4900000</td>\n",
       "      <td>Series A</td>\n",
       "    </tr>\n",
       "    <tr>\n",
       "      <th>...</th>\n",
       "      <td>...</td>\n",
       "      <td>...</td>\n",
       "      <td>...</td>\n",
       "      <td>...</td>\n",
       "      <td>...</td>\n",
       "      <td>...</td>\n",
       "      <td>...</td>\n",
       "      <td>...</td>\n",
       "    </tr>\n",
       "    <tr>\n",
       "      <th>1203</th>\n",
       "      <td>January</td>\n",
       "      <td>BlackSoil</td>\n",
       "      <td>2016.0</td>\n",
       "      <td>Mumbai</td>\n",
       "      <td>FinTech</td>\n",
       "      <td>Awign Enterprises</td>\n",
       "      <td>4000000</td>\n",
       "      <td>Pre-series B</td>\n",
       "    </tr>\n",
       "    <tr>\n",
       "      <th>1204</th>\n",
       "      <td>January</td>\n",
       "      <td>HobSpace</td>\n",
       "      <td>2019.0</td>\n",
       "      <td>Mumbai</td>\n",
       "      <td>EdTech</td>\n",
       "      <td>Siddharth Bhaskar Shah, Upsparks</td>\n",
       "      <td>100000</td>\n",
       "      <td>Pre-series A</td>\n",
       "    </tr>\n",
       "    <tr>\n",
       "      <th>1205</th>\n",
       "      <td>January</td>\n",
       "      <td>DcodeAI</td>\n",
       "      <td>2020.0</td>\n",
       "      <td>New Delhi</td>\n",
       "      <td>EdTech</td>\n",
       "      <td>S Chand</td>\n",
       "      <td>500000</td>\n",
       "      <td>Pre-series B</td>\n",
       "    </tr>\n",
       "    <tr>\n",
       "      <th>1206</th>\n",
       "      <td>January</td>\n",
       "      <td>Biocon Biologics</td>\n",
       "      <td>1978.0</td>\n",
       "      <td>Bangalore</td>\n",
       "      <td>BioTechnology</td>\n",
       "      <td>Goldman Sachs, Tata Capital</td>\n",
       "      <td>70000000</td>\n",
       "      <td>Pre-series B</td>\n",
       "    </tr>\n",
       "    <tr>\n",
       "      <th>1207</th>\n",
       "      <td>January</td>\n",
       "      <td>KiranaKart</td>\n",
       "      <td>2020.0</td>\n",
       "      <td>Mumbai</td>\n",
       "      <td>E-commerce</td>\n",
       "      <td>Global Founders Capital</td>\n",
       "      <td>720000</td>\n",
       "      <td>Pre-seed</td>\n",
       "    </tr>\n",
       "  </tbody>\n",
       "</table>\n",
       "<p>924 rows × 8 columns</p>\n",
       "</div>"
      ],
      "text/plain": [
       "         Month     Company/Brand  Founded Headquarters  \\\n",
       "0     December      CollegeDekho   2015.0      Gurgaon   \n",
       "1     December              BOX8   2012.0       Mumbai   \n",
       "2     December             Simpl   2015.0    Bangalore   \n",
       "3     December       8i Ventures   2018.0       Mumbai   \n",
       "4     December         PayGlocal   2021.0    Bangalore   \n",
       "...        ...               ...      ...          ...   \n",
       "1203   January         BlackSoil   2016.0       Mumbai   \n",
       "1204   January          HobSpace   2019.0       Mumbai   \n",
       "1205   January           DcodeAI   2020.0    New Delhi   \n",
       "1206   January  Biocon Biologics   1978.0    Bangalore   \n",
       "1207   January        KiranaKart   2020.0       Mumbai   \n",
       "\n",
       "                                Sector                        Investor/s  \\\n",
       "0                           E-learning                  Disrupt ADQ, QIC   \n",
       "1                     Food & Beverages                      Tiger Global   \n",
       "2                    Consumer Services       Valar Ventures, IA Ventures   \n",
       "3     Venture Capital & Private Equity                               NaN   \n",
       "4                   Financial Services             Sequoia Capital India   \n",
       "...                                ...                               ...   \n",
       "1203                           FinTech                 Awign Enterprises   \n",
       "1204                            EdTech  Siddharth Bhaskar Shah, Upsparks   \n",
       "1205                            EdTech                           S Chand   \n",
       "1206                     BioTechnology       Goldman Sachs, Tata Capital   \n",
       "1207                       E-commerce            Global Founders Capital   \n",
       "\n",
       "     Amount ($)         Stage  \n",
       "0      35000000      Series B  \n",
       "1      40000000  Pre-series B  \n",
       "2      40000000      Series B  \n",
       "3      50000000  Pre-series B  \n",
       "4       4900000      Series A  \n",
       "...         ...           ...  \n",
       "1203    4000000  Pre-series B  \n",
       "1204     100000  Pre-series A  \n",
       "1205     500000  Pre-series B  \n",
       "1206   70000000  Pre-series B  \n",
       "1207     720000      Pre-seed  \n",
       "\n",
       "[924 rows x 8 columns]"
      ]
     },
     "execution_count": 125,
     "metadata": {},
     "output_type": "execute_result"
    }
   ],
   "source": [
    "india_df"
   ]
  },
  {
   "cell_type": "code",
   "execution_count": null,
   "id": "ee23dd41",
   "metadata": {},
   "outputs": [],
   "source": [
    "india_df.to_csv('')"
   ]
  },
  {
   "cell_type": "code",
   "execution_count": null,
   "id": "0c3cc93b",
   "metadata": {
    "scrolled": true
   },
   "outputs": [],
   "source": [
    "#FINAL TABLE #df.to_csv('file_name.csv')"
   ]
  },
  {
   "cell_type": "code",
   "execution_count": null,
   "id": "1291ed3d",
   "metadata": {},
   "outputs": [],
   "source": [
    "#change_stage_name(india_df, x, 'Pre-seed')"
   ]
  },
  {
   "cell_type": "code",
   "execution_count": null,
   "id": "950b3429",
   "metadata": {},
   "outputs": [],
   "source": [
    "india_companies_df['Stage'].value_counts()"
   ]
  },
  {
   "cell_type": "code",
   "execution_count": null,
   "id": "6af01be1",
   "metadata": {
    "scrolled": true
   },
   "outputs": [],
   "source": [
    "#data = data.drop(labels=[1,15,20], axis=0)\n",
    "#india_df = india_df.drop(labels=[44], axis = 0)\n"
   ]
  },
  {
   "cell_type": "code",
   "execution_count": null,
   "id": "85d7bff0",
   "metadata": {},
   "outputs": [],
   "source": []
  },
  {
   "cell_type": "code",
   "execution_count": null,
   "id": "2d66cbe0",
   "metadata": {},
   "outputs": [],
   "source": [
    "len(india_companies_df)\n",
    "#data = data.drop(labels=[1,15,20], axis=0)"
   ]
  },
  {
   "cell_type": "code",
   "execution_count": null,
   "id": "32d24e3f",
   "metadata": {},
   "outputs": [],
   "source": []
  },
  {
   "cell_type": "code",
   "execution_count": null,
   "id": "d69d476b",
   "metadata": {},
   "outputs": [],
   "source": [
    "len(india_companies_df)"
   ]
  },
  {
   "cell_type": "code",
   "execution_count": null,
   "id": "5809babf",
   "metadata": {},
   "outputs": [],
   "source": []
  },
  {
   "cell_type": "code",
   "execution_count": null,
   "id": "1d973531",
   "metadata": {},
   "outputs": [],
   "source": []
  },
  {
   "cell_type": "code",
   "execution_count": null,
   "id": "cd9c3af7",
   "metadata": {},
   "outputs": [],
   "source": [
    "india_companies_df['Sector'].value_counts()"
   ]
  },
  {
   "cell_type": "code",
   "execution_count": null,
   "id": "2d80acfd",
   "metadata": {},
   "outputs": [],
   "source": [
    "sector = {}\n",
    "for x in range(0, len(india_companies_df['Sector'])):\n",
    "    if india_companies_df['Sector'][x] not in sector:\n",
    "        sector[x] = india_companies_df['Sector'][x]\n",
    "sector\n",
    "len(sector)"
   ]
  },
  {
   "cell_type": "code",
   "execution_count": null,
   "id": "302ded0d",
   "metadata": {},
   "outputs": [],
   "source": [
    "sector_types = []\n",
    "for x in india_companies_df['Sector']:\n",
    "    if x not in sector_types:\n",
    "        sector_types.append(x)\n",
    "sector_types\n",
    "len(sector_types)"
   ]
  },
  {
   "cell_type": "code",
   "execution_count": null,
   "id": "4ec6078b",
   "metadata": {},
   "outputs": [],
   "source": [
    "india_companies_df['Sector'][2]"
   ]
  },
  {
   "cell_type": "code",
   "execution_count": null,
   "id": "a2e3d0eb",
   "metadata": {},
   "outputs": [],
   "source": []
  },
  {
   "cell_type": "code",
   "execution_count": null,
   "id": "7e5ec54a",
   "metadata": {},
   "outputs": [],
   "source": [
    "for x in india_companies_df['Sector']:\n",
    "    print(x)"
   ]
  },
  {
   "cell_type": "code",
   "execution_count": null,
   "id": "4b0fa153",
   "metadata": {},
   "outputs": [],
   "source": [
    "india_companies_df['Month'].value_counts()"
   ]
  },
  {
   "cell_type": "code",
   "execution_count": null,
   "id": "9ab3bf2c",
   "metadata": {},
   "outputs": [],
   "source": [
    "india_companies_df = india_companies_df[india_companies_df['Founded']>= 2000]\n",
    "india_companies_df = india_companies_df[india_companies_df['Amount ($)']!= 0]\n",
    "\n",
    "india_companies_df['Amount ($)'].value_counts()"
   ]
  },
  {
   "cell_type": "code",
   "execution_count": null,
   "id": "87d6d90b",
   "metadata": {},
   "outputs": [],
   "source": []
  },
  {
   "cell_type": "code",
   "execution_count": null,
   "id": "de62b9eb",
   "metadata": {},
   "outputs": [],
   "source": [
    "for column in india_companies_df.columns:\n",
    "    print (f\"Column {column} has {india_companies_df[column].isnull().sum()} null values\")"
   ]
  },
  {
   "cell_type": "code",
   "execution_count": null,
   "id": "f7f77765",
   "metadata": {},
   "outputs": [],
   "source": [
    "#Replace NaN's\n",
    "\n",
    "india_companies_df[\"Stage\"] = india_companies_df[\"Stage\"].replace(np.nan,\"Other\")\n",
    "india_companies_df[\"Headquarters\"] = india_companies_df[\"Headquarters\"].replace(np.nan,\"Other\")\n",
    "india_companies_df[\"Investor/s\"] = india_companies_df[\"Investor/s\"].replace(np.nan,\"Other\")\n",
    "# india_companies_df[\"Founder/s\"] = india_companies_df[\"Founder/s\"].replace(np.nan,\"Other\")\n",
    "india_companies_df = india_companies_df.drop(columns = ['Founder/s','What it does'])\n",
    "\n",
    "# #Verify binning was successful \n",
    "# india_companies_df[\"Stage\"].value_counts()"
   ]
  },
  {
   "cell_type": "code",
   "execution_count": null,
   "id": "284bb599",
   "metadata": {},
   "outputs": [],
   "source": [
    "india_companies_df.set_index('Company/Brand',inplace = True)\n",
    "india_companies_df.head(10)\n"
   ]
  },
  {
   "cell_type": "code",
   "execution_count": null,
   "id": "6c661230",
   "metadata": {},
   "outputs": [],
   "source": [
    "india_encoded = pd.get_dummies(india_companies_df,columns = ['Month','Headquarters','Sector','Investor/s','Stage'])\n",
    "india_encoded.head()"
   ]
  },
  {
   "cell_type": "code",
   "execution_count": null,
   "id": "f10fba5a",
   "metadata": {},
   "outputs": [],
   "source": []
  },
  {
   "cell_type": "code",
   "execution_count": null,
   "id": "d8f4513b",
   "metadata": {},
   "outputs": [],
   "source": []
  },
  {
   "cell_type": "code",
   "execution_count": null,
   "id": "ba504ed4",
   "metadata": {},
   "outputs": [],
   "source": []
  },
  {
   "cell_type": "code",
   "execution_count": null,
   "id": "e72576fd",
   "metadata": {},
   "outputs": [],
   "source": []
  }
 ],
 "metadata": {
  "kernelspec": {
   "display_name": "Python 3 (ipykernel)",
   "language": "python",
   "name": "python3"
  },
  "language_info": {
   "codemirror_mode": {
    "name": "ipython",
    "version": 3
   },
   "file_extension": ".py",
   "mimetype": "text/x-python",
   "name": "python",
   "nbconvert_exporter": "python",
   "pygments_lexer": "ipython3",
   "version": "3.9.7"
  }
 },
 "nbformat": 4,
 "nbformat_minor": 5
}
